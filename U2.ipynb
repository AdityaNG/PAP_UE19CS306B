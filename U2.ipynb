{
 "cells": [
  {
   "cell_type": "markdown",
   "source": [
    "# Class 5 (18.9.2021)"
   ],
   "metadata": {}
  },
  {
   "cell_type": "markdown",
   "source": [
    "# Regular Expressions\n",
    "Special sequence of characters that help us to match or find other strings or sets of strings using a specialized syntax.\n",
    "* \\d - 0-9\n",
    "* \\D - Not a digit\n",
    "* \\w - Word character (a-z, A-Z, 0-9 and _)\n",
    "* \\W - Not a word character\n",
    "* \\b - Word boundary\n",
    "* \\B - Not a word boundary\n",
    "* ^  - Beginning of a string\n",
    "* $  - Ending of a string\n",
    "* \\s - Whitespace (space, tab or newline)\n",
    "* \\S - Not a whitespace\n",
    "* [] - Character set\n",
    "* [1-5] - Matches the range of numbers between 1 and 5\n",
    "* [^a] - Negates the characters given in the character set (negates a over here)\n",
    "* {n} - Checks for n number of times (quantifiers - More than one character)"
   ],
   "metadata": {}
  },
  {
   "cell_type": "code",
   "execution_count": 1,
   "source": [
    "print(r'\\t\\nPrinting Raw Strings')"
   ],
   "outputs": [
    {
     "output_type": "stream",
     "name": "stdout",
     "text": [
      "\\t\\nPrinting Raw Strings\n"
     ]
    }
   ],
   "metadata": {}
  },
  {
   "cell_type": "code",
   "execution_count": 17,
   "source": [
    "import re # Module for working with regex\n",
    "sentence = '''\n",
    "abcdefgh\n",
    "ABCDEFGH\n",
    "@#$%_\n",
    "0123456789\n",
    "abc.\n",
    "'''"
   ],
   "outputs": [],
   "metadata": {}
  },
  {
   "cell_type": "code",
   "execution_count": 18,
   "source": [
    "pattern = re.compile('abc') # A method to convert a pattern into a variable (an object)\n",
    "matches = pattern.finditer(sentence)\n",
    "for match in matches: print(f\"{match} -> {sentence[match.start() : match.end()]}\")"
   ],
   "outputs": [
    {
     "output_type": "stream",
     "name": "stdout",
     "text": [
      "<re.Match object; span=(1, 4), match='abc'> -> abc\n",
      "<re.Match object; span=(36, 39), match='abc'> -> abc\n"
     ]
    }
   ],
   "metadata": {}
  },
  {
   "cell_type": "code",
   "execution_count": 19,
   "source": [
    "pattern = re.compile(r'.') # Matches all characters (except newline)\n",
    "matches = pattern.finditer(sentence)\n",
    "for match in matches: print(f\"{match} -> {sentence[match.start() : match.end()]}\")"
   ],
   "outputs": [
    {
     "output_type": "stream",
     "name": "stdout",
     "text": [
      "<re.Match object; span=(1, 2), match='a'> -> a\n",
      "<re.Match object; span=(2, 3), match='b'> -> b\n",
      "<re.Match object; span=(3, 4), match='c'> -> c\n",
      "<re.Match object; span=(4, 5), match='d'> -> d\n",
      "<re.Match object; span=(5, 6), match='e'> -> e\n",
      "<re.Match object; span=(6, 7), match='f'> -> f\n",
      "<re.Match object; span=(7, 8), match='g'> -> g\n",
      "<re.Match object; span=(8, 9), match='h'> -> h\n",
      "<re.Match object; span=(10, 11), match='A'> -> A\n",
      "<re.Match object; span=(11, 12), match='B'> -> B\n",
      "<re.Match object; span=(12, 13), match='C'> -> C\n",
      "<re.Match object; span=(13, 14), match='D'> -> D\n",
      "<re.Match object; span=(14, 15), match='E'> -> E\n",
      "<re.Match object; span=(15, 16), match='F'> -> F\n",
      "<re.Match object; span=(16, 17), match='G'> -> G\n",
      "<re.Match object; span=(17, 18), match='H'> -> H\n",
      "<re.Match object; span=(19, 20), match='@'> -> @\n",
      "<re.Match object; span=(20, 21), match='#'> -> #\n",
      "<re.Match object; span=(21, 22), match='$'> -> $\n",
      "<re.Match object; span=(22, 23), match='%'> -> %\n",
      "<re.Match object; span=(23, 24), match='_'> -> _\n",
      "<re.Match object; span=(25, 26), match='0'> -> 0\n",
      "<re.Match object; span=(26, 27), match='1'> -> 1\n",
      "<re.Match object; span=(27, 28), match='2'> -> 2\n",
      "<re.Match object; span=(28, 29), match='3'> -> 3\n",
      "<re.Match object; span=(29, 30), match='4'> -> 4\n",
      "<re.Match object; span=(30, 31), match='5'> -> 5\n",
      "<re.Match object; span=(31, 32), match='6'> -> 6\n",
      "<re.Match object; span=(32, 33), match='7'> -> 7\n",
      "<re.Match object; span=(33, 34), match='8'> -> 8\n",
      "<re.Match object; span=(34, 35), match='9'> -> 9\n",
      "<re.Match object; span=(36, 37), match='a'> -> a\n",
      "<re.Match object; span=(37, 38), match='b'> -> b\n",
      "<re.Match object; span=(38, 39), match='c'> -> c\n",
      "<re.Match object; span=(39, 40), match='.'> -> .\n"
     ]
    }
   ],
   "metadata": {}
  },
  {
   "cell_type": "code",
   "execution_count": 20,
   "source": [
    "pattern = re.compile(r'\\.') # Matches all characters (except newline)\n",
    "matches = pattern.finditer(sentence)\n",
    "for match in matches: print(f\"{match} -> {sentence[match.start() : match.end()]}\")"
   ],
   "outputs": [
    {
     "output_type": "stream",
     "name": "stdout",
     "text": [
      "<re.Match object; span=(39, 40), match='.'> -> .\n"
     ]
    }
   ],
   "metadata": {}
  },
  {
   "cell_type": "code",
   "execution_count": 21,
   "source": [
    "pattern = re.compile(r'\\w') # Matches all characters (except newline)\n",
    "matches = pattern.finditer(sentence)\n",
    "for match in matches: print(f\"{match} -> {sentence[match.start() : match.end()]}\")"
   ],
   "outputs": [
    {
     "output_type": "stream",
     "name": "stdout",
     "text": [
      "<re.Match object; span=(1, 2), match='a'> -> a\n",
      "<re.Match object; span=(2, 3), match='b'> -> b\n",
      "<re.Match object; span=(3, 4), match='c'> -> c\n",
      "<re.Match object; span=(4, 5), match='d'> -> d\n",
      "<re.Match object; span=(5, 6), match='e'> -> e\n",
      "<re.Match object; span=(6, 7), match='f'> -> f\n",
      "<re.Match object; span=(7, 8), match='g'> -> g\n",
      "<re.Match object; span=(8, 9), match='h'> -> h\n",
      "<re.Match object; span=(10, 11), match='A'> -> A\n",
      "<re.Match object; span=(11, 12), match='B'> -> B\n",
      "<re.Match object; span=(12, 13), match='C'> -> C\n",
      "<re.Match object; span=(13, 14), match='D'> -> D\n",
      "<re.Match object; span=(14, 15), match='E'> -> E\n",
      "<re.Match object; span=(15, 16), match='F'> -> F\n",
      "<re.Match object; span=(16, 17), match='G'> -> G\n",
      "<re.Match object; span=(17, 18), match='H'> -> H\n",
      "<re.Match object; span=(23, 24), match='_'> -> _\n",
      "<re.Match object; span=(25, 26), match='0'> -> 0\n",
      "<re.Match object; span=(26, 27), match='1'> -> 1\n",
      "<re.Match object; span=(27, 28), match='2'> -> 2\n",
      "<re.Match object; span=(28, 29), match='3'> -> 3\n",
      "<re.Match object; span=(29, 30), match='4'> -> 4\n",
      "<re.Match object; span=(30, 31), match='5'> -> 5\n",
      "<re.Match object; span=(31, 32), match='6'> -> 6\n",
      "<re.Match object; span=(32, 33), match='7'> -> 7\n",
      "<re.Match object; span=(33, 34), match='8'> -> 8\n",
      "<re.Match object; span=(34, 35), match='9'> -> 9\n",
      "<re.Match object; span=(36, 37), match='a'> -> a\n",
      "<re.Match object; span=(37, 38), match='b'> -> b\n",
      "<re.Match object; span=(38, 39), match='c'> -> c\n"
     ]
    }
   ],
   "metadata": {}
  },
  {
   "cell_type": "code",
   "execution_count": 22,
   "source": [
    "pattern = re.compile(r'\\D') # Matches all characters (except newline)\n",
    "matches = pattern.finditer(sentence)\n",
    "for match in matches: print(f\"{match} -> {sentence[match.start() : match.end()]}\")"
   ],
   "outputs": [
    {
     "output_type": "stream",
     "name": "stdout",
     "text": [
      "<re.Match object; span=(0, 1), match='\\n'> -> \n",
      "\n",
      "<re.Match object; span=(1, 2), match='a'> -> a\n",
      "<re.Match object; span=(2, 3), match='b'> -> b\n",
      "<re.Match object; span=(3, 4), match='c'> -> c\n",
      "<re.Match object; span=(4, 5), match='d'> -> d\n",
      "<re.Match object; span=(5, 6), match='e'> -> e\n",
      "<re.Match object; span=(6, 7), match='f'> -> f\n",
      "<re.Match object; span=(7, 8), match='g'> -> g\n",
      "<re.Match object; span=(8, 9), match='h'> -> h\n",
      "<re.Match object; span=(9, 10), match='\\n'> -> \n",
      "\n",
      "<re.Match object; span=(10, 11), match='A'> -> A\n",
      "<re.Match object; span=(11, 12), match='B'> -> B\n",
      "<re.Match object; span=(12, 13), match='C'> -> C\n",
      "<re.Match object; span=(13, 14), match='D'> -> D\n",
      "<re.Match object; span=(14, 15), match='E'> -> E\n",
      "<re.Match object; span=(15, 16), match='F'> -> F\n",
      "<re.Match object; span=(16, 17), match='G'> -> G\n",
      "<re.Match object; span=(17, 18), match='H'> -> H\n",
      "<re.Match object; span=(18, 19), match='\\n'> -> \n",
      "\n",
      "<re.Match object; span=(19, 20), match='@'> -> @\n",
      "<re.Match object; span=(20, 21), match='#'> -> #\n",
      "<re.Match object; span=(21, 22), match='$'> -> $\n",
      "<re.Match object; span=(22, 23), match='%'> -> %\n",
      "<re.Match object; span=(23, 24), match='_'> -> _\n",
      "<re.Match object; span=(24, 25), match='\\n'> -> \n",
      "\n",
      "<re.Match object; span=(35, 36), match='\\n'> -> \n",
      "\n",
      "<re.Match object; span=(36, 37), match='a'> -> a\n",
      "<re.Match object; span=(37, 38), match='b'> -> b\n",
      "<re.Match object; span=(38, 39), match='c'> -> c\n",
      "<re.Match object; span=(39, 40), match='.'> -> .\n",
      "<re.Match object; span=(40, 41), match='\\n'> -> \n",
      "\n"
     ]
    }
   ],
   "metadata": {}
  },
  {
   "cell_type": "code",
   "execution_count": 23,
   "source": [
    "pattern = re.compile(r'\\W') # Matches all characters (except newline)\n",
    "matches = pattern.finditer(sentence)\n",
    "for match in matches: print(f\"{match} -> {sentence[match.start() : match.end()]}\")"
   ],
   "outputs": [
    {
     "output_type": "stream",
     "name": "stdout",
     "text": [
      "<re.Match object; span=(0, 1), match='\\n'> -> \n",
      "\n",
      "<re.Match object; span=(9, 10), match='\\n'> -> \n",
      "\n",
      "<re.Match object; span=(18, 19), match='\\n'> -> \n",
      "\n",
      "<re.Match object; span=(19, 20), match='@'> -> @\n",
      "<re.Match object; span=(20, 21), match='#'> -> #\n",
      "<re.Match object; span=(21, 22), match='$'> -> $\n",
      "<re.Match object; span=(22, 23), match='%'> -> %\n",
      "<re.Match object; span=(24, 25), match='\\n'> -> \n",
      "\n",
      "<re.Match object; span=(35, 36), match='\\n'> -> \n",
      "\n",
      "<re.Match object; span=(39, 40), match='.'> -> .\n",
      "<re.Match object; span=(40, 41), match='\\n'> -> \n",
      "\n"
     ]
    }
   ],
   "metadata": {}
  },
  {
   "cell_type": "code",
   "execution_count": 24,
   "source": [
    "sentence = 'hello hellohello'\n",
    "pattern = re.compile(r'\\bhello') # Word boundary would be a space, tab or newline\n",
    "matches = pattern.finditer(sentence)\n",
    "for match in matches: print(match)"
   ],
   "outputs": [
    {
     "output_type": "stream",
     "name": "stdout",
     "text": [
      "<re.Match object; span=(0, 5), match='hello'>\n",
      "<re.Match object; span=(6, 11), match='hello'>\n"
     ]
    }
   ],
   "metadata": {}
  },
  {
   "cell_type": "code",
   "execution_count": 25,
   "source": [
    "sentence = 'hello hellohello'\n",
    "pattern = re.compile(r'\\Bhello') # Word boundary would be a space, tab or newline\n",
    "matches = pattern.finditer(sentence)\n",
    "for match in matches: print(match)"
   ],
   "outputs": [
    {
     "output_type": "stream",
     "name": "stdout",
     "text": [
      "<re.Match object; span=(11, 16), match='hello'>\n"
     ]
    }
   ],
   "metadata": {}
  },
  {
   "cell_type": "code",
   "execution_count": 28,
   "source": [
    "sentence = 'start and then end'\n",
    "pattern = re.compile(r'^start') # Word boundary would be a space, tab or newline\n",
    "matches = pattern.finditer(sentence)\n",
    "for match in matches: print(match)\n",
    "\n",
    "pattern = re.compile(r'^end') # Word boundary would be a space, tab or newline\n",
    "matches = pattern.finditer(sentence)\n",
    "for match in matches: print(match)"
   ],
   "outputs": [
    {
     "output_type": "stream",
     "name": "stdout",
     "text": [
      "<re.Match object; span=(0, 5), match='start'>\n"
     ]
    }
   ],
   "metadata": {}
  },
  {
   "cell_type": "code",
   "execution_count": 29,
   "source": [
    "pattern = re.compile(r'end$') # Word boundary would be a space, tab or newline\n",
    "matches = pattern.finditer(sentence)\n",
    "for match in matches: print(match)"
   ],
   "outputs": [
    {
     "output_type": "stream",
     "name": "stdout",
     "text": [
      "<re.Match object; span=(15, 18), match='end'>\n"
     ]
    }
   ],
   "metadata": {}
  },
  {
   "cell_type": "code",
   "execution_count": 30,
   "source": [
    "pattern = re.compile(r'start$') # Word boundary would be a space, tab or newline\n",
    "matches = pattern.finditer(sentence)\n",
    "for match in matches: print(match)"
   ],
   "outputs": [],
   "metadata": {}
  },
  {
   "cell_type": "code",
   "execution_count": 34,
   "source": [
    "sentence = '''hello hello   hel\\tlo\n",
    "'''\n",
    "pattern = re.compile(r'\\s') # Word boundary would be a space, tab or newline\n",
    "matches = pattern.finditer(sentence)\n",
    "for match in matches: print(match)"
   ],
   "outputs": [
    {
     "output_type": "stream",
     "name": "stdout",
     "text": [
      "<re.Match object; span=(5, 6), match=' '>\n",
      "<re.Match object; span=(11, 12), match=' '>\n",
      "<re.Match object; span=(12, 13), match=' '>\n",
      "<re.Match object; span=(13, 14), match=' '>\n",
      "<re.Match object; span=(17, 18), match='\\t'>\n",
      "<re.Match object; span=(20, 21), match='\\n'>\n"
     ]
    }
   ],
   "metadata": {}
  },
  {
   "cell_type": "code",
   "execution_count": 40,
   "source": [
    "phNumbers = '''\n",
    "040-12345\n",
    "044--45678\n",
    "022*54689\n",
    "022-54689\n",
    "022@54689\n",
    "033-16453\n",
    "033-16453033-16453\n",
    "033-16453-033-16453\n",
    "'''\n",
    "\n",
    "pattern = re.compile(r'\\d\\d\\d[-]\\d\\d\\d\\d\\d') # Whatever is inside [] is matched\n",
    "matches = pattern.finditer(phNumbers)\n",
    "for match in matches: print(match)"
   ],
   "outputs": [
    {
     "output_type": "stream",
     "name": "stdout",
     "text": [
      "<re.Match object; span=(1, 10), match='040-12345'>\n",
      "<re.Match object; span=(32, 41), match='022-54689'>\n",
      "<re.Match object; span=(52, 61), match='033-16453'>\n"
     ]
    }
   ],
   "metadata": {}
  },
  {
   "cell_type": "code",
   "execution_count": 41,
   "source": [
    "pattern = re.compile(r'\\d\\d\\d[-*]\\d\\d\\d\\d\\d') # Matches - or *\n",
    "matches = pattern.finditer(phNumbers)\n",
    "for match in matches: print(match)"
   ],
   "outputs": [
    {
     "output_type": "stream",
     "name": "stdout",
     "text": [
      "<re.Match object; span=(1, 10), match='040-12345'>\n",
      "<re.Match object; span=(22, 31), match='022*54689'>\n",
      "<re.Match object; span=(32, 41), match='022-54689'>\n",
      "<re.Match object; span=(52, 61), match='033-16453'>\n"
     ]
    }
   ],
   "metadata": {}
  },
  {
   "cell_type": "code",
   "execution_count": 42,
   "source": [
    "pattern = re.compile(r'\\d{3}[-*]\\d{5}') # Matches - or *\n",
    "matches = pattern.finditer(phNumbers)\n",
    "for match in matches: print(match)"
   ],
   "outputs": [
    {
     "output_type": "stream",
     "name": "stdout",
     "text": [
      "<re.Match object; span=(1, 10), match='040-12345'>\n",
      "<re.Match object; span=(22, 31), match='022*54689'>\n",
      "<re.Match object; span=(32, 41), match='022-54689'>\n",
      "<re.Match object; span=(52, 61), match='033-16453'>\n"
     ]
    }
   ],
   "metadata": {}
  },
  {
   "cell_type": "markdown",
   "source": [
    "# Class 6 (20.9.2021)"
   ],
   "metadata": {}
  },
  {
   "cell_type": "code",
   "execution_count": 1,
   "source": [
    "import re\n",
    "pattern = re.compile(r'\\d{3}-\\d{5}') \n",
    "with open('./Phone.txt', 'r') as f:\n",
    "    contents = f.read()\n",
    "    matches = pattern.finditer(contents)\n",
    "    for match in matches: print(match)"
   ],
   "outputs": [
    {
     "output_type": "stream",
     "name": "stdout",
     "text": [
      "<re.Match object; span=(0, 9), match='080-12321'>\n",
      "<re.Match object; span=(20, 29), match='011-23432'>\n",
      "<re.Match object; span=(30, 39), match='080-12567'>\n",
      "<re.Match object; span=(51, 60), match='456-12345'>\n"
     ]
    }
   ],
   "metadata": {}
  },
  {
   "cell_type": "markdown",
   "source": [
    "# Quantifiers\n",
    "* - 0 or more\n",
    "+ - 1 or more\n",
    "? - 0 or one\n",
    "{2,8} - Range of numbers\n",
    "\n",
    "# Groups\n",
    "Allows us to match multiple patterns\n",
    "(Pattern1|Pattern2|....)"
   ],
   "metadata": {}
  },
  {
   "cell_type": "code",
   "execution_count": 2,
   "source": [
    "names = '''\n",
    "Mr. Abc\n",
    "Mr Efg\n",
    "Mr. Hig\n",
    "Ms Jkl\n",
    "Mrs. Mno\n",
    "Ms. Pqr\n",
    "Ms V\n",
    "'''\n",
    "\n",
    "pattern = re.compile(r'M(rs|r|s)\\.?\\s[A-Z]\\w*')\n",
    "matches = pattern.finditer(names)\n",
    "for match in matches: print(match)"
   ],
   "outputs": [
    {
     "output_type": "stream",
     "name": "stdout",
     "text": [
      "<re.Match object; span=(1, 8), match='Mr. Abc'>\n",
      "<re.Match object; span=(9, 15), match='Mr Efg'>\n",
      "<re.Match object; span=(16, 23), match='Mr. Hig'>\n",
      "<re.Match object; span=(24, 30), match='Ms Jkl'>\n",
      "<re.Match object; span=(31, 39), match='Mrs. Mno'>\n",
      "<re.Match object; span=(40, 47), match='Ms. Pqr'>\n",
      "<re.Match object; span=(48, 52), match='Ms V'>\n"
     ]
    }
   ],
   "metadata": {}
  },
  {
   "cell_type": "code",
   "execution_count": 3,
   "source": [
    "emails = '''\n",
    "abc@pes.edu\n",
    "ABC.efg@gmail.com\n",
    "efg-123-CDE@hotmail.com\n",
    "xyz.12.4-a@my-space.net\n",
    "'''"
   ],
   "outputs": [],
   "metadata": {}
  },
  {
   "cell_type": "code",
   "execution_count": 4,
   "source": [
    "pattern = re.compile(r'[a-zA-Z0-9.-]+@[a-zA-Z0-9.-]+\\.(com|net|edu)')\n",
    "matches = pattern.finditer(emails)\n",
    "for match in matches: print(match)"
   ],
   "outputs": [
    {
     "output_type": "stream",
     "name": "stdout",
     "text": [
      "<re.Match object; span=(1, 12), match='abc@pes.edu'>\n",
      "<re.Match object; span=(13, 30), match='ABC.efg@gmail.com'>\n",
      "<re.Match object; span=(31, 54), match='efg-123-CDE@hotmail.com'>\n",
      "<re.Match object; span=(55, 78), match='xyz.12.4-a@my-space.net'>\n"
     ]
    }
   ],
   "metadata": {}
  },
  {
   "cell_type": "code",
   "execution_count": 5,
   "source": [
    "urls = '''\n",
    "https://www.google.com\n",
    "http://pes.edu\n",
    "https://www.irctc.co.in\n",
    "http://abc.com\n",
    "'''"
   ],
   "outputs": [],
   "metadata": {}
  },
  {
   "cell_type": "code",
   "execution_count": 24,
   "source": [
    "pattern = re.compile(r'(https?://)(www\\.)?([a-zA-Z0-9.-]+)([a-zA-Z0-9.-]*)')\n",
    "matches = pattern.finditer(urls)\n",
    "for match in matches: \n",
    "    print(match)\n",
    "    print(match.group(0))\n",
    "    print(match.group(1))\n",
    "    print(match.group(2))\n",
    "    print(match.group(3))\n",
    "    "
   ],
   "outputs": [
    {
     "output_type": "stream",
     "name": "stdout",
     "text": [
      "<re.Match object; span=(1, 23), match='https://www.google.com'>\n",
      "https://www.google.com\n",
      "https://\n",
      "www.\n",
      "google.com\n",
      "<re.Match object; span=(24, 38), match='http://pes.edu'>\n",
      "http://pes.edu\n",
      "http://\n",
      "None\n",
      "pes.edu\n",
      "<re.Match object; span=(39, 62), match='https://www.irctc.co.in'>\n",
      "https://www.irctc.co.in\n",
      "https://\n",
      "www.\n",
      "irctc.co.in\n",
      "<re.Match object; span=(63, 77), match='http://abc.com'>\n",
      "http://abc.com\n",
      "http://\n",
      "None\n",
      "abc.com\n"
     ]
    }
   ],
   "metadata": {}
  },
  {
   "cell_type": "code",
   "execution_count": null,
   "source": [
    "pattern = re.compile(r'([a-zA-Z0-9.-]+@[a-zA-Z0-9.-]+\\.(com|net|edu)|\\\n",
    "    (https?://)(www\\.)?([a-zA-Z0-9.-]+)([a-zA-Z0-9.-]*))\\\n",
    "    ')\n"
   ],
   "outputs": [],
   "metadata": {}
  },
  {
   "cell_type": "markdown",
   "source": [
    "# Class 7 (25.9.2021)"
   ],
   "metadata": {}
  },
  {
   "cell_type": "markdown",
   "source": [
    "# Finding Patterns in text\n",
    "search() function returns match object if the pattern is found in the text"
   ],
   "metadata": {}
  },
  {
   "cell_type": "code",
   "execution_count": 3,
   "source": [
    "import re\n",
    "pattern = 'IPL'\n",
    "text = 'cricket IPL matches IPL'\n",
    "match = re.search(pattern, text) # Only first match is found\n",
    "s = match.start()\n",
    "e = match.end()\n",
    "print(s, e, text[s:e])"
   ],
   "outputs": [
    {
     "output_type": "stream",
     "name": "stdout",
     "text": [
      "8 11 IPL\n"
     ]
    }
   ],
   "metadata": {}
  },
  {
   "cell_type": "code",
   "execution_count": 2,
   "source": [
    "match = re.search('Test', text) # If match is not found, None is returned \n",
    "s = match.start()\n",
    "e = match.end()\n",
    "print(s, e)"
   ],
   "outputs": [
    {
     "output_type": "error",
     "ename": "AttributeError",
     "evalue": "'NoneType' object has no attribute 'start'",
     "traceback": [
      "\u001b[0;31m---------------------------------------------------------------------------\u001b[0m",
      "\u001b[0;31mAttributeError\u001b[0m                            Traceback (most recent call last)",
      "\u001b[0;32m/tmp/ipykernel_9749/2667492107.py\u001b[0m in \u001b[0;36m<module>\u001b[0;34m\u001b[0m\n\u001b[1;32m      1\u001b[0m \u001b[0mmatch\u001b[0m \u001b[0;34m=\u001b[0m \u001b[0mre\u001b[0m\u001b[0;34m.\u001b[0m\u001b[0msearch\u001b[0m\u001b[0;34m(\u001b[0m\u001b[0;34m'Test'\u001b[0m\u001b[0;34m,\u001b[0m \u001b[0mtext\u001b[0m\u001b[0;34m)\u001b[0m\u001b[0;34m\u001b[0m\u001b[0;34m\u001b[0m\u001b[0m\n\u001b[0;32m----> 2\u001b[0;31m \u001b[0ms\u001b[0m \u001b[0;34m=\u001b[0m \u001b[0mmatch\u001b[0m\u001b[0;34m.\u001b[0m\u001b[0mstart\u001b[0m\u001b[0;34m(\u001b[0m\u001b[0;34m)\u001b[0m\u001b[0;34m\u001b[0m\u001b[0;34m\u001b[0m\u001b[0m\n\u001b[0m\u001b[1;32m      3\u001b[0m \u001b[0me\u001b[0m \u001b[0;34m=\u001b[0m \u001b[0mmatch\u001b[0m\u001b[0;34m.\u001b[0m\u001b[0mend\u001b[0m\u001b[0;34m(\u001b[0m\u001b[0;34m)\u001b[0m\u001b[0;34m\u001b[0m\u001b[0;34m\u001b[0m\u001b[0m\n\u001b[1;32m      4\u001b[0m \u001b[0mprint\u001b[0m\u001b[0;34m(\u001b[0m\u001b[0ms\u001b[0m\u001b[0;34m,\u001b[0m \u001b[0me\u001b[0m\u001b[0;34m)\u001b[0m\u001b[0;34m\u001b[0m\u001b[0;34m\u001b[0m\u001b[0m\n",
      "\u001b[0;31mAttributeError\u001b[0m: 'NoneType' object has no attribute 'start'"
     ]
    }
   ],
   "metadata": {}
  },
  {
   "cell_type": "code",
   "execution_count": 6,
   "source": [
    "# Finding multiple matches (Returns all the matched strings)\n",
    "text = 'Voice of PESU. PES University conducted voice of PESU'\n",
    "pattern = 'PESU'\n",
    "matches = re.findall(pattern, text)\n",
    "for match in matches: print(match)"
   ],
   "outputs": [
    {
     "output_type": "stream",
     "name": "stdout",
     "text": [
      "PESU\n",
      "PESU\n"
     ]
    }
   ],
   "metadata": {}
  },
  {
   "cell_type": "code",
   "execution_count": 7,
   "source": [
    "for match in re.finditer(pattern, text):\n",
    "    s, e = match.start(), match.end()\n",
    "    print(match, text[s:e])"
   ],
   "outputs": [
    {
     "output_type": "stream",
     "name": "stdout",
     "text": [
      "<re.Match object; span=(9, 13), match='PESU'> PESU\n",
      "<re.Match object; span=(49, 53), match='PESU'> PESU\n"
     ]
    }
   ],
   "metadata": {}
  },
  {
   "cell_type": "markdown",
   "source": [
    "# Constraining the search\n",
    "If the pattern must appear at the front of the input, use match function instead of search function.\n",
    "It will implicitly anchors the pattern (^)."
   ],
   "metadata": {}
  },
  {
   "cell_type": "code",
   "execution_count": 8,
   "source": [
    "text = 'This is PAP class morning 9.15 saturday 2021'\n",
    "pattern = 'is'\n",
    "matches = re.match(pattern, text) # As the text isnt starting with 'is', match returns None\n",
    "print(matches)"
   ],
   "outputs": [
    {
     "output_type": "stream",
     "name": "stdout",
     "text": [
      "None\n"
     ]
    }
   ],
   "metadata": {}
  },
  {
   "cell_type": "code",
   "execution_count": 9,
   "source": [
    "searches = re.search(pattern, text)\n",
    "print(searches)"
   ],
   "outputs": [
    {
     "output_type": "stream",
     "name": "stdout",
     "text": [
      "<re.Match object; span=(2, 4), match='is'>\n"
     ]
    }
   ],
   "metadata": {}
  },
  {
   "cell_type": "code",
   "execution_count": 10,
   "source": [
    "findalls = re.findall(pattern, text)\n",
    "print(findalls)"
   ],
   "outputs": [
    {
     "output_type": "stream",
     "name": "stdout",
     "text": [
      "['is', 'is']\n"
     ]
    }
   ],
   "metadata": {}
  },
  {
   "cell_type": "markdown",
   "source": [
    "# Search Options\n",
    "* Case-Insensitive matching (IGNORECASE) (i)\n",
    "* Input with multiple lines\n",
    "    * MULTILINE (m):\n",
    "        When specified, the pattern character '^' matches at the beginning of the string and at the beginning of each line (immediately     following each newline); and the pattern character '$' matches at the end of the string and at the end of each line (immediately    preceding each newline).\n",
    "    * DOTALL (s):\n",
    "        Allows '.' to match everything (including newline character)"
   ],
   "metadata": {}
  },
  {
   "cell_type": "code",
   "execution_count": 11,
   "source": [
    "text = 'This is some text'\n",
    "pattern = r'\\bT\\w+'\n",
    "withCase = re.compile(pattern)\n",
    "withoutCase = re.compile(pattern, re.IGNORECASE)\n",
    "for match in withCase.findall(text): print(match)\n",
    "print()\n",
    "for match in withoutCase.findall(text): print(match)"
   ],
   "outputs": [
    {
     "output_type": "stream",
     "name": "stdout",
     "text": [
      "This\n",
      "\n",
      "This\n",
      "text\n"
     ]
    }
   ],
   "metadata": {}
  },
  {
   "cell_type": "markdown",
   "source": [
    "# Class 8 (27.9.2021)"
   ],
   "metadata": {}
  },
  {
   "cell_type": "code",
   "execution_count": 19,
   "source": [
    "import re\n",
    "text = 'UPSC Exams\\nKPSC Exams'\n",
    "pattern = r'(^\\w+)|(\\w+\\S*$)'  # Matches text starting with a word character or ending with a word character and non space character\n",
    "singleLine = re.compile(pattern)\n",
    "multiLine = re.compile(pattern, re.MULTILINE)\n",
    "for match in singleLine.findall(text): print(match)\n",
    "print()\n",
    "for match in multiLine.findall(text): print(match)"
   ],
   "outputs": [
    {
     "output_type": "stream",
     "name": "stdout",
     "text": [
      "('UPSC', '')\n",
      "('', 'Exams')\n",
      "\n",
      "('UPSC', '')\n",
      "('', 'Exams')\n",
      "('KPSC', '')\n",
      "('', 'Exams')\n"
     ]
    }
   ],
   "metadata": {}
  },
  {
   "cell_type": "code",
   "execution_count": 16,
   "source": [
    "print(singleLine.findall(text))"
   ],
   "outputs": [
    {
     "output_type": "stream",
     "name": "stdout",
     "text": [
      "[('UPSC', ''), ('', 'Exams')]\n"
     ]
    }
   ],
   "metadata": {}
  },
  {
   "cell_type": "code",
   "execution_count": 17,
   "source": [
    "print(multiLine.findall(text))"
   ],
   "outputs": [
    {
     "output_type": "stream",
     "name": "stdout",
     "text": [
      "[('UPSC', ''), ('', 'Exams'), ('KPSC', ''), ('', 'Exams')]\n"
     ]
    }
   ],
   "metadata": {}
  },
  {
   "cell_type": "code",
   "execution_count": 25,
   "source": [
    "text = 'Friday special topic isa 1\\n next week isa-1 for other courses'\n",
    "pattern = r'.+'\n",
    "withoutDotall = re.compile(pattern)\n",
    "withDotall = re.compile(pattern, re.DOTALL)\n",
    "print(withoutDotall.findall(text))\n",
    "print()\n",
    "print(withDotall.findall(text))\n"
   ],
   "outputs": [
    {
     "output_type": "stream",
     "name": "stdout",
     "text": [
      "['Friday special topic isa 1', ' next week isa-1 for other courses']\n",
      "\n",
      "['Friday special topic isa 1\\n next week isa-1 for other courses']\n"
     ]
    }
   ],
   "metadata": {}
  },
  {
   "cell_type": "markdown",
   "source": [
    "# Other flags\n",
    "* unicode (u) : Required in python 2 for using the unicode character set.\n",
    "* verbose (x) : Allows adding comments to the pattern making it more readable."
   ],
   "metadata": {}
  },
  {
   "cell_type": "code",
   "execution_count": 28,
   "source": [
    "address = re.compile(r'[\\w\\d.+-]+@([\\w\\d.]+\\.)+(com|org|edu)')\n",
    "names = [\n",
    "    'xyz.abc@ex.com', \n",
    "    'abc+efg@mail.com',\n",
    "    'invalid@mail.ex.com',\n",
    "    'valid@ex.fun'    \n",
    "]\n",
    "for name in names:\n",
    "    match = address.search(name)\n",
    "    print(name, '\\tmatches' if match else '\\tno match')"
   ],
   "outputs": [
    {
     "output_type": "stream",
     "name": "stdout",
     "text": [
      "xyz.abc@ex.com \tmatches\n",
      "abc+efg@mail.com \tmatches\n",
      "invalid@mail.ex.com \tmatches\n",
      "valid@ex.fun \tno match\n"
     ]
    }
   ],
   "metadata": {}
  },
  {
   "cell_type": "code",
   "execution_count": 30,
   "source": [
    "address = re.compile('''\n",
    "                     [\\w\\d.+-]+      # User name\n",
    "                     @([\\w\\d.]+\\.)+  # Domain name Prefix\n",
    "                     (com|org|edu)   # Top level domain name\n",
    "                     ''',\n",
    "                     re.VERBOSE\n",
    "          )\n",
    "names = [\n",
    "    'xyz.abc@ex.com', \n",
    "    'abc+efg@mail.com',\n",
    "    'invalid@mail.ex.com',\n",
    "    'valid@ex.fun'    \n",
    "]\n",
    "for name in names:\n",
    "    match = address.search(name)\n",
    "    print(name, '\\tmatches' if match else '\\tno match')"
   ],
   "outputs": [
    {
     "output_type": "stream",
     "name": "stdout",
     "text": [
      "xyz.abc@ex.com \tmatches\n",
      "abc+efg@mail.com \tmatches\n",
      "invalid@mail.ex.com \tmatches\n",
      "valid@ex.fun \tno match\n"
     ]
    }
   ],
   "metadata": {}
  },
  {
   "cell_type": "markdown",
   "source": [
    "# Embedding flags inside the expression for the pattern itself\n",
    "Flags can be embedded into the pattern --> (?imus)\n",
    "* Here the IGNORECASE, MULTILINE, UNICODE, DOTALL have been embedded into the pattern itself"
   ],
   "metadata": {}
  },
  {
   "cell_type": "code",
   "execution_count": 33,
   "source": [
    "text = 'They are quite different. Yes, both affect how newlines are treated, but they switch behaviour for different concepts.'\n",
    "pattern = r'(?i)\\bT\\w+'  # Ignore case flag --> (?i)\n",
    "regex = re.compile(pattern)\n",
    "print(regex.findall(text))"
   ],
   "outputs": [
    {
     "output_type": "stream",
     "name": "stdout",
     "text": [
      "['They', 'treated', 'they']\n"
     ]
    }
   ],
   "metadata": {}
  },
  {
   "cell_type": "code",
   "execution_count": null,
   "source": [],
   "outputs": [],
   "metadata": {}
  }
 ],
 "metadata": {
  "orig_nbformat": 4,
  "language_info": {
   "name": "python",
   "version": "3.9.5",
   "mimetype": "text/x-python",
   "codemirror_mode": {
    "name": "ipython",
    "version": 3
   },
   "pygments_lexer": "ipython3",
   "nbconvert_exporter": "python",
   "file_extension": ".py"
  },
  "kernelspec": {
   "name": "python3",
   "display_name": "Python 3.9.5 64-bit ('base': conda)"
  },
  "interpreter": {
   "hash": "95cb561d684e273be7430146e3ed2c0199570812864dc3ea408fea5378453ef7"
  }
 },
 "nbformat": 4,
 "nbformat_minor": 2
}