{
 "cells": [
  {
   "cell_type": "markdown",
   "metadata": {},
   "source": [
    "# Class 15 (20.11.2021)"
   ]
  },
  {
   "cell_type": "markdown",
   "metadata": {},
   "source": [
    "# Networking\n",
    "## Important Terminologies\n",
    "### 1. Client\n",
    "A piece of software or hardware requesting for something.\n",
    "#### Pseudocode:\n",
    "```\n",
    "get_server_address()\n",
    "request_connection()\n",
    "while connection_exists()\n",
    "    send_request()\n",
    "    get_response()\n",
    "close_connection()\n",
    "\n",
    "```\n",
    "### 2. Server\n",
    "* A piece of software or hardware that responds to a client's request. \n",
    "* They wait forever to respond to clients. \n",
    "* Eg: web servers, database servers, file servers, etc.\n",
    "#### Pseudocode:\n",
    "```\n",
    "while True:\n",
    "    accept_request()\n",
    "    open_connection()\n",
    "    while connection_exists()\n",
    "        receive_request()\n",
    "        send_response()\n",
    "    close_connection()\n",
    "```\n",
    "\n",
    "### 3. Sockets\n",
    "* For any two entities to communicate, there needs to be a channel.\n",
    "* Eg: For two people to talk to each other, there has to be a communication channel.\n",
    "* Sockets are the end points of a bidirectional communication channel.\n",
    "* They are a gateway for communication between two processes, be it within the computer or across different machines.\n",
    "* There are different socket for different channel types like UDP, TCP, etc.\n",
    "* The socket library can be used to program sockets in Python.\n",
    "\n",
    "### 4. IP Address\n",
    "* The Internet Protocol Address is a unique address that identifies a device on the internet or a local network.\n",
    "* Internet Protocol is a set of rules governing the format of data sent via the internet or local network.\n",
    "\n",
    "### 5. Port\n",
    "* In computer networking, a port is a communication endpoint.\n",
    "* At the software level, within an operating system, a port is a logical construct that identifies a specific process or a type of network service.\n",
    "* A port is identified for each transport protocol and address combination by a 16-bit unsigned number, known as the port number.\n",
    "* The most common transport protocols that use port numbers are the Transmission Control Protocol (TCP) and the User Datagram Protocol (UDP).\n",
    "* Hence, Total number of ports = 65536 (2<sup>16</sup>)\n",
    "* Reserved ports (well known or system ports): 0 - 1023\n",
    "\n",
    "| Protocol | Common Function | Port Number| Python Module |\n",
    "|:--------:|:---------------:|:----------:|:-------------:|\n",
    "| HTTP | Web Pages | 80 | httplib, urllib, xmlrpclib |\n",
    "| FTP | File Transfer | 20 (Data transfer) & 21 (Connection) | ftplib, urllib |\n",
    "| SMTP | Sending Mail | 25 | smtplib |\n",
    "| Telnet | Remote machine CLI | 23 | telnetlib |\n",
    "| Gopher | Document transfer | 70 | gopherlib, urllib |"
   ]
  },
  {
   "cell_type": "code",
   "execution_count": 1,
   "metadata": {},
   "outputs": [
    {
     "name": "stdout",
     "output_type": "stream",
     "text": [
      "Host Name = spyder || IP = 172.17.0.1\n"
     ]
    }
   ],
   "source": [
    "import socket\n",
    "\n",
    "hostname = socket.gethostname()\n",
    "ip = socket.gethostbyname(hostname)\n",
    "\n",
    "print(f\"Host Name = {hostname} || IP = {ip}\")"
   ]
  },
  {
   "cell_type": "markdown",
   "metadata": {},
   "source": [
    "## Creating Sockets\n",
    "* The socket library in Python provides a socket() method to create a socket.\n",
    "* Syntax: **`socket.socket(socket_family, socket_type, protocol = 0)`**\n",
    "    - **socket_family** : `AF_UNIX` (used for interprocess communication within a machine) or `AF_INET` (used for interprocess communication over the internet using IPv4 addresses)\n",
    "    - **socket_type** : `SOCK_STREAM` (for connection oriented protocols like TCP) or `SOCK_DGRAM` (for connectionless protocols like UDP).\n",
    "    - **protocol** : Usually left out and defaulted to 0 (look up what 0 means...)\n",
    "\n",
    "### Server Socket methods:\n",
    "* `bind()` : Binds (hostname, port number) pair to the socket.\n",
    "* `listen()` : Sets up and starts TCP listener.\n",
    "* `accept()` : Will accept TCP client connection, waiting until it arrives.\n",
    "\n",
    "### Client Socket methods:\n",
    "* `connect()` : Initiates TCP connection with the server.\n",
    "\n",
    "### General Socket methods:\n",
    "* `recv()` : Receives TCP message.\n",
    "* `send()` : Sends TCP message.\n",
    "* `recvfrom()` : Receives UDP message.\n",
    "* `sendto()` : Sends UDP message.\n",
    "* `close()` : Close Socket"
   ]
  },
  {
   "cell_type": "code",
   "execution_count": 2,
   "metadata": {},
   "outputs": [
    {
     "name": "stdout",
     "output_type": "stream",
     "text": [
      "\u001b[92mhome\u001b[0m\n",
      "\u001b[91mhome : [Errno -3] Temporary failure in name resolution\u001b[0m\n",
      "\n",
      "\u001b[92mwww.python.org\u001b[0m\n",
      "socket.gethostbyname(www.python.org): 151.101.156.223\n",
      "socket.gethostbyname_ex(www.python.org): ('dualstack.python.map.fastly.net', ['www.python.org'], ['151.101.156.223'])\n",
      "\n",
      "\u001b[92mwww.pes.edu\u001b[0m\n",
      "socket.gethostbyname(www.pes.edu): 52.172.204.196\n",
      "socket.gethostbyname_ex(www.pes.edu): ('waws-prod-pn1-007.cloudapp.net', ['www.pes.edu', 'pesuniversity.azurewebsites.net', 'waws-prod-pn1-007.sip.azurewebsites.windows.net'], ['52.172.204.196'])\n",
      "\n",
      "\u001b[92mwww.google.com\u001b[0m\n",
      "socket.gethostbyname(www.google.com): 142.250.182.132\n",
      "socket.gethostbyname_ex(www.google.com): ('www.google.com', [], ['142.250.182.132'])\n",
      "\n",
      "\u001b[92mwww\u001b[0m\n",
      "\u001b[91mwww : [Errno -3] Temporary failure in name resolution\u001b[0m\n",
      "\n"
     ]
    }
   ],
   "source": [
    "import socket\n",
    "\n",
    "# Color coding the output for easy visualization\n",
    "RED = \"\\033[91m\"\n",
    "GREEN = \"\\033[92m\"\n",
    "RESET = \"\\033[0m\"\n",
    "\n",
    "hosts = [\"home\", \"www.python.org\", \"www.pes.edu\", \"www.google.com\", \"www\"]\n",
    "\n",
    "for host in hosts:\n",
    "    try:\n",
    "        print(f\"{GREEN}{host}{RESET}\")\n",
    "\n",
    "        # Printing one IP address of the host\n",
    "        print(f\"socket.gethostbyname({host}): {socket.gethostbyname(host)}\")\n",
    "        \n",
    "        # Printing the canonical hostname, aliases and all the available IP addresses of the host\n",
    "        # i.e: gethostbyname_ex returns a tuple -> (hostname, list of aliases, list of addresses)\n",
    "        print(f\"socket.gethostbyname_ex({host}): {socket.gethostbyname_ex(host)}\\n\")\n",
    "\n",
    "    except socket.error as e:\n",
    "        print(f\"{RED}{host} : {e}{RESET}\\n\")\n",
    "\n",
    "# Note: On Windows, [Errno 11001] getaddrinfo failed is seen for invalid hosts"
   ]
  },
  {
   "cell_type": "code",
   "execution_count": 3,
   "metadata": {},
   "outputs": [
    {
     "name": "stdout",
     "output_type": "stream",
     "text": [
      "http 80\n",
      "https 443\n",
      "ftp 21\n",
      "gopher 70\n",
      "smtp 25\n",
      "imap 143\n",
      "pop3 110\n"
     ]
    }
   ],
   "source": [
    "import socket\n",
    "from urllib.parse import urlparse\n",
    "\n",
    "URLS = [\n",
    "    \"http://www.python.org\",\n",
    "    \"https://www.python.org\",\n",
    "    \"ftp://prep.ai.mit.edu\",\n",
    "    \"gopher://gopher.micro.umn.edu\",\n",
    "    \"smtp://mail.example.com\",\n",
    "    \"imap://mail.example.com\",\n",
    "    \"pop3://pop.example.com\"\n",
    "]\n",
    "\n",
    "for url in URLS:\n",
    "    parsedUrl = urlparse(url)\n",
    "    port = socket.getservbyname(parsedUrl.scheme)\n",
    "    print(parsedUrl.scheme, port)"
   ]
  },
  {
   "cell_type": "markdown",
   "metadata": {},
   "source": [
    "# Class 16 (22.11.2021)\n",
    "# TCP and UDP\n",
    "* Refer to the files in TCP and UDP folders.\n",
    "* Run the server followed by the client in different terminals to see the output."
   ]
  },
  {
   "cell_type": "code",
   "execution_count": null,
   "metadata": {},
   "outputs": [],
   "source": []
  }
 ],
 "metadata": {
  "interpreter": {
   "hash": "96287154c02bd33d964264908876ff144eece4cbcf76f7700a55934c72d2f956"
  },
  "kernelspec": {
   "display_name": "Python 3.9.5 64-bit ('base': conda)",
   "name": "python3"
  },
  "language_info": {
   "codemirror_mode": {
    "name": "ipython",
    "version": 3
   },
   "file_extension": ".py",
   "mimetype": "text/x-python",
   "name": "python",
   "nbconvert_exporter": "python",
   "pygments_lexer": "ipython3",
   "version": "3.9.5"
  },
  "orig_nbformat": 4
 },
 "nbformat": 4,
 "nbformat_minor": 2
}
