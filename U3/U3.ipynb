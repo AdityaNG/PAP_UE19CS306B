{
 "cells": [
  {
   "cell_type": "markdown",
   "metadata": {},
   "source": [
    "# Class 9 (11.10.2021)"
   ]
  },
  {
   "cell_type": "markdown",
   "metadata": {},
   "source": [
    "# Important OS concepts\n",
    "* A Process is a program under execution.\n",
    "* It consists of a Program Counter, Process Stack, Registers, Program Code, etc.\n",
    "* A thread is a light weight process managed independently by the scheduler.\n",
    "* Threads improve performance via parallelism and concurrency.\n",
    "* Threads share data segment, code and files with other threads belonging to the same process.\n",
    "* Threads have their own Registers, Stack and Program Counter.\n",
    "* For simplicity, one can consider Threads to be a subset of a Processes."
   ]
  },
  {
   "cell_type": "code",
   "execution_count": 1,
   "metadata": {},
   "outputs": [],
   "source": [
    "def cube(num):\n",
    "    print(f\"Cube of the given number if {num ** 3}\")\n",
    "\n",
    "def square(num):\n",
    "    print(f\"Square of the given number if {num ** 2}\")"
   ]
  },
  {
   "cell_type": "markdown",
   "metadata": {},
   "source": [
    "## Thread Class in Python\n",
    "To create a new thread, we create an object of the Thread class. It takes following arguments:\n",
    "* ***Target***: Function to be executed by the thread\n",
    "* ***Args***: Arguments to be passed to the target function\n",
    " \n",
    "Useful class methods:\n",
    "- ***start***: We use the **start** method of the Thread class to start the execution of a thread.\n",
    "- ***join***: Once a new thread starts executing, the current program (the main thread) also continues to execute. In order to stop the execution of the current program until a thread's execution is complete, we use the **join** method. As a result, the main thread will wait for the completion of the other thread before executing the remaining statements."
   ]
  },
  {
   "cell_type": "code",
   "execution_count": 2,
   "metadata": {},
   "outputs": [
    {
     "name": "stdout",
     "output_type": "stream",
     "text": [
      "Cube of the given number if 1000\n",
      "Square of the given number if 25\n",
      "3 Threads are currently in execution\n",
      "Both Completed\n"
     ]
    }
   ],
   "source": [
    "# Run this multiple times to show how the threads compete for stdout\n",
    "from threading import Thread\n",
    "\n",
    "t1 = Thread(target = cube, args = (10,))  # Args has to be an iterable like a list or a tuple\n",
    "t2 = Thread(target = square, args = (5,))\n",
    "\n",
    "# Starting the thread's execution\n",
    "t1.start()\n",
    "t2.start()\n",
    "\n",
    "# This will be printed by the main thread\n",
    "print(\"3 Threads are currently in execution\") # Due to a race condition for stdout, the output will be jumbled\n",
    "\n",
    "# Wait untill t1 and t2 complete execution\n",
    "t1.join() # Main thread waits for this thread to finish execution (main thread is blocked)\n",
    "t2.join() # Main thread is blocked untill t2 finishes\n",
    "\n",
    "# This will be printed by the main thread\n",
    "print(\"Both Completed\") # There is no competition for stdout once all the threads have completed execution."
   ]
  },
  {
   "cell_type": "code",
   "execution_count": 3,
   "metadata": {},
   "outputs": [],
   "source": [
    "def print_loop_even(num):\n",
    "    for i in range(num):\n",
    "        print(f\"{2*i} ==\")\n",
    "\n",
    "\n",
    "def print_loop_odd(num):\n",
    "    for i in range(num):\n",
    "        print(f\"{2*i + 1} --\")"
   ]
  },
  {
   "cell_type": "code",
   "execution_count": 4,
   "metadata": {},
   "outputs": [
    {
     "name": "stdout",
     "output_type": "stream",
     "text": [
      "0 ==\n",
      "2 ==\n",
      "1 --\n",
      "3 --4 ==\n",
      "6 ==\n",
      "8 ==\n",
      "10 ==\n",
      "5 --\n",
      "7 --\n",
      "3 Threads are currently in execution\n",
      "9 --\n",
      "11 --\n",
      "13 --\n",
      "15 --\n",
      "17 --\n",
      "19 --\n",
      "\n",
      "12 ==\n",
      "14 ==\n",
      "16 ==\n",
      "18 ==\n",
      "Both Completed\n"
     ]
    }
   ],
   "source": [
    "# Run this multiple times to see how the threads compete for stdout\n",
    "from threading import Thread\n",
    "\n",
    "t1 = Thread(target = print_loop_even, args = (10,))  # Args has to be an iterable\n",
    "t2 = Thread(target = print_loop_odd, args = (10,))\n",
    "\n",
    "# Starting the thread's execution\n",
    "t1.start()\n",
    "t2.start()\n",
    "\n",
    "# This will be printed by the main thread\n",
    "print(\"3 Threads are currently in execution\") # Due to a race condition for stdout, the output will be jumbled\n",
    "\n",
    "# Wait untill t1 completes execution\n",
    "t1.join() # Main thread waits for this thread to finish execution (main thread is blocked)\n",
    "t2.join() # Main thread is blocked untill t2 finishes\n",
    "\n",
    "print(\"Both Completed\")"
   ]
  },
  {
   "cell_type": "markdown",
   "metadata": {},
   "source": [
    "## Concept of global (scope of a variable)\n",
    "Inside a function, the local variables are given higher priority than the variables declared outside (global variables)."
   ]
  },
  {
   "cell_type": "code",
   "execution_count": 5,
   "metadata": {},
   "outputs": [
    {
     "name": "stdout",
     "output_type": "stream",
     "text": [
      "Inside function 1\n",
      "Outside function 45\n"
     ]
    }
   ],
   "source": [
    "x = 45\n",
    "def example():\n",
    "    x = 1\n",
    "    print(f\"Inside function {x}\")\n",
    "    x = 2\n",
    "\n",
    "example()\n",
    "print(f\"Outside function {x}\")"
   ]
  },
  {
   "cell_type": "code",
   "execution_count": 6,
   "metadata": {},
   "outputs": [
    {
     "ename": "UnboundLocalError",
     "evalue": "local variable 'x' referenced before assignment",
     "output_type": "error",
     "traceback": [
      "\u001b[0;31m---------------------------------------------------------------------------\u001b[0m",
      "\u001b[0;31mUnboundLocalError\u001b[0m                         Traceback (most recent call last)",
      "\u001b[0;32m/tmp/ipykernel_25032/1322856758.py\u001b[0m in \u001b[0;36m<module>\u001b[0;34m\u001b[0m\n\u001b[1;32m      5\u001b[0m     \u001b[0mx\u001b[0m \u001b[0;34m=\u001b[0m \u001b[0;36m2\u001b[0m\u001b[0;34m\u001b[0m\u001b[0;34m\u001b[0m\u001b[0m\n\u001b[1;32m      6\u001b[0m \u001b[0;34m\u001b[0m\u001b[0m\n\u001b[0;32m----> 7\u001b[0;31m \u001b[0mexample\u001b[0m\u001b[0;34m(\u001b[0m\u001b[0;34m)\u001b[0m\u001b[0;34m\u001b[0m\u001b[0;34m\u001b[0m\u001b[0m\n\u001b[0m\u001b[1;32m      8\u001b[0m \u001b[0mprint\u001b[0m\u001b[0;34m(\u001b[0m\u001b[0;34mf\"Outside function {x}\"\u001b[0m\u001b[0;34m)\u001b[0m\u001b[0;34m\u001b[0m\u001b[0;34m\u001b[0m\u001b[0m\n",
      "\u001b[0;32m/tmp/ipykernel_25032/1322856758.py\u001b[0m in \u001b[0;36mexample\u001b[0;34m()\u001b[0m\n\u001b[1;32m      1\u001b[0m \u001b[0mx\u001b[0m \u001b[0;34m=\u001b[0m \u001b[0;36m45\u001b[0m\u001b[0;34m\u001b[0m\u001b[0;34m\u001b[0m\u001b[0m\n\u001b[1;32m      2\u001b[0m \u001b[0;32mdef\u001b[0m \u001b[0mexample\u001b[0m\u001b[0;34m(\u001b[0m\u001b[0;34m)\u001b[0m\u001b[0;34m:\u001b[0m\u001b[0;34m\u001b[0m\u001b[0;34m\u001b[0m\u001b[0m\n\u001b[0;32m----> 3\u001b[0;31m     \u001b[0mx\u001b[0m \u001b[0;34m+=\u001b[0m \u001b[0;36m1\u001b[0m\u001b[0;34m\u001b[0m\u001b[0;34m\u001b[0m\u001b[0m\n\u001b[0m\u001b[1;32m      4\u001b[0m     \u001b[0mprint\u001b[0m\u001b[0;34m(\u001b[0m\u001b[0;34mf\"Inside function {x}\"\u001b[0m\u001b[0;34m)\u001b[0m\u001b[0;34m\u001b[0m\u001b[0;34m\u001b[0m\u001b[0m\n\u001b[1;32m      5\u001b[0m     \u001b[0mx\u001b[0m \u001b[0;34m=\u001b[0m \u001b[0;36m2\u001b[0m\u001b[0;34m\u001b[0m\u001b[0;34m\u001b[0m\u001b[0m\n",
      "\u001b[0;31mUnboundLocalError\u001b[0m: local variable 'x' referenced before assignment"
     ]
    }
   ],
   "source": [
    "x = 45\n",
    "def example():\n",
    "    x += 1\n",
    "    print(f\"Inside function {x}\")\n",
    "    x = 2\n",
    "\n",
    "example()\n",
    "print(f\"Outside function {x}\")"
   ]
  },
  {
   "cell_type": "code",
   "execution_count": 7,
   "metadata": {},
   "outputs": [
    {
     "name": "stdout",
     "output_type": "stream",
     "text": [
      "Inside function 46\n",
      "Outside function 46\n"
     ]
    }
   ],
   "source": [
    "x = 45\n",
    "def example():\n",
    "    global x\n",
    "    x += 1\n",
    "    print(f\"Inside function {x}\")\n",
    "    \n",
    "example()\n",
    "print(f\"Outside function {x}\")"
   ]
  },
  {
   "cell_type": "code",
   "execution_count": 8,
   "metadata": {},
   "outputs": [
    {
     "name": "stdout",
     "output_type": "stream",
     "text": [
      "0 -> 1673981\n",
      "1 -> 1559361\n",
      "2 -> 1520942\n",
      "3 -> 1740946\n",
      "4 -> 1608316\n",
      "5 -> 1609151\n",
      "6 -> 1695534\n",
      "7 -> 1588607\n",
      "8 -> 1692432\n",
      "9 -> 1692081\n"
     ]
    }
   ],
   "source": [
    "# Showing thread collisions\n",
    "\n",
    "globVar = 0\n",
    "\n",
    "def incGlobal():\n",
    "    global globVar\n",
    "    globVar += 1\n",
    "\n",
    "def threadTask():\n",
    "    for _ in range(1000000):\n",
    "        incGlobal()\n",
    "\n",
    "def main():\n",
    "    global globVar\n",
    "    globVar = 0\n",
    "    \n",
    "    t1 = Thread(target = threadTask) # No arguments for the target function\n",
    "    t2 = Thread(target = threadTask)\n",
    "    \n",
    "    t1.start()\n",
    "    t2.start()\n",
    "    \n",
    "    t1.join()\n",
    "    t2.join()\n",
    "\n",
    "for i in range(10):\n",
    "    main()\n",
    "    print(f\"{i} -> {globVar}\")"
   ]
  },
  {
   "cell_type": "code",
   "execution_count": 9,
   "metadata": {},
   "outputs": [
    {
     "name": "stdout",
     "output_type": "stream",
     "text": [
      "ID of process running main program: 25032\n",
      "Current thread count =  9\n",
      "Thread th is True\n",
      "\n",
      "This is thread: th\n",
      "\n",
      "Thread th is False\n",
      "Current thread count =  8\n",
      "\n",
      "Main thread's name = MainThread\n",
      "Current thread's name in main = MainThread\n"
     ]
    }
   ],
   "source": [
    "from threading import Thread, active_count, main_thread, current_thread\n",
    "from os import getpid\n",
    "from time import sleep\n",
    "\n",
    "def threadName():\n",
    "    sleep(2)\n",
    "    print(f\"This is thread: {current_thread().name}\")\n",
    "\n",
    "\n",
    "if __name__ == \"__main__\":\n",
    "    print(\"ID of process running main program:\", getpid()) \n",
    "\n",
    "    th = Thread(target = threadName, name = \"th\")\n",
    "    th.start()\n",
    "\n",
    "    print(\"Current thread count = \", active_count())\n",
    "    print(f\"Thread {th.getName()} is {th.is_alive()}\")\n",
    "    print()\n",
    "\n",
    "    th.join()\n",
    "\n",
    "    print()\n",
    "    print(f\"Thread {th.getName()} is {th.is_alive()}\")\n",
    "    print(\"Current thread count = \", active_count())\n",
    "    print()\n",
    "\n",
    "    print(f\"Main thread's name = {main_thread().name}\")\n",
    "    print(f\"Current thread's name in main = {current_thread().name}\")"
   ]
  },
  {
   "cell_type": "markdown",
   "metadata": {},
   "source": [
    "### Number of threads on interactive kernels like jupyter would likely be higher\n",
    "This is what the output to the above program would look like when run as a normal python file:\n",
    "\n",
    "```\n",
    "ID of process running main program: 12966\n",
    "Current thread count =  2\n",
    "Thread th is True\n",
    "\n",
    "This is thread: th\n",
    "\n",
    "Thread th is False\n",
    "Current thread count =  1\n",
    "\n",
    "Main thread's name = MainThread\n",
    "Current thread's name in main = MainThread\n",
    "```"
   ]
  },
  {
   "cell_type": "code",
   "execution_count": 10,
   "metadata": {},
   "outputs": [
    {
     "name": "stdout",
     "output_type": "stream",
     "text": [
      "Thread-32\n",
      "This is thread: Thread-32\n"
     ]
    }
   ],
   "source": [
    "t = Thread(target = threadName)\n",
    "print(t.getName()) # Returns the default name assigned to the thread during its creation\n",
    "\n",
    "t.start()\n",
    "t.join()"
   ]
  },
  {
   "cell_type": "markdown",
   "metadata": {},
   "source": [
    "# Inter Process Communication (IPC)\n",
    "A process can be of two types:\n",
    "1. Independent process.\n",
    "2. Co-operating process.\n",
    "\n",
    "An independent process is not affected by the execution of other processes while\n",
    "a co-operating process can be affected by other executing processes. Though one\n",
    "can think that those processes, which are running independently, will execute\n",
    "very efficiently, in reality, there are many situations when co-operative nature can\n",
    "be utilised for increasing computational speed, convenience and modularity. Inter\n",
    "process communication (IPC) is a mechanism which allows processes to\n",
    "communicate with each other and synchronize their actions. The communication\n",
    "between these processes can be seen as a method of co-operation between\n",
    "them. Processes can communicate with each other through both:\n",
    "\n",
    "1. Shared Memory\n",
    "2. Message passing\n",
    "\n",
    "The Figure 1 below shows a basic structure of communication between processes via the shared memory method and via the message passing method.\n",
    "\n",
    "<center>\n",
    "    <img src=\"https://media.geeksforgeeks.org/wp-content/uploads/1-76.png\"/>\n",
    "</center>"
   ]
  },
  {
   "cell_type": "code",
   "execution_count": 11,
   "metadata": {},
   "outputs": [
    {
     "name": "stdout",
     "output_type": "stream",
     "text": [
      "In Process P1\n",
      "Shared Variable: [1, 4, 9, 16, 25]\n",
      "Local Variable: [1, 4, 9, 16, 25]\n",
      "Sum of squares =  55\n",
      "-------------------------------\n",
      "\n",
      "In Main Process\n",
      "Shared Variable: [1, 4, 9, 16, 25]\n",
      "Local Variable: []\n",
      "Sum of squares =  55\n"
     ]
    }
   ],
   "source": [
    "from multiprocessing import Process, Array, Value\n",
    "\n",
    "resultLocal = [] # Local to the current Process. Hence any changes made to this outside this process won't be reflected below\n",
    "\n",
    "def squareList(a, result, squareSum):\n",
    "    for i, num  in enumerate(a):\n",
    "        result[i] = num ** 2\n",
    "        resultLocal.append(result[i])\n",
    "    squareSum.value = sum(result)\n",
    "    \n",
    "    print(\"In Process P1\")\n",
    "    print(f\"Shared Variable: {result[:]}\")\n",
    "    print(f\"Local Variable: {resultLocal}\")\n",
    "    print(\"Sum of squares = \", squareSum.value)\n",
    "    print(\"-------------------------------\")\n",
    "\n",
    "if __name__ == \"__main__\":\n",
    "    a = range(1, 6)\n",
    "    result = Array('i', 5) # Shared between multiple Processes (C style IPC)\n",
    "    squareSum = Value('i') # Shared between multiple Processes (C style IPC)\n",
    "    p1 = Process(target = squareList, args = (a, result, squareSum), name = \"P1\")\n",
    "    p1.start()\n",
    "    p1.join()\n",
    "    print(\"\\nIn Main Process\")\n",
    "    print(f\"Shared Variable: {result[:]}\")      # Changes reflected\n",
    "    print(f\"Local Variable: {resultLocal}\")     # Changes not reflected\n",
    "    print(\"Sum of squares = \", squareSum.value) # Changes reflected"
   ]
  },
  {
   "cell_type": "markdown",
   "metadata": {},
   "source": [
    "# Multiprocessing\n",
    "* Ability of a system to support more than one processor to execute instructions at the same time.\n",
    "* It is a mode of operation in which two or more processors in a computer simultaneously process two or more different portions of the same program (set of instructions). \n",
    "* Applications in a multiprocessing system are broken into smaller routines that run independently. \n",
    "* The operating system allocates these threads to the processors, improving performance of the system.\n",
    "* For example, different processors may be used to manage memory storage, data communications, or arithmetic functions.\n",
    "* In Python, this is used to launch multiple processes which the OS can then schedule to different logical processors (threads).\n",
    "- ***Multiprocessing***: More than one process is running on a single processor.\n",
    "- ***Parallel Processing***: One Process (broken into different parts) running on multiple processors.\n",
    "\n",
    "## Need for Multiprocessing\n",
    "Consider a computer system with a single processor. If it is assigned several\n",
    "processes at the same time, it will have to interrupt each task and switch briefly\n",
    "to another (context switch), to keep all of the processes going.\n",
    "This situation is just like a chef working in a kitchen alone. He has to do several\n",
    "tasks like baking, stirring, kneading dough, etc.\n",
    "\n",
    "----\n",
    "\n",
    "## Stackoverflow\n",
    "### Multi Processing\n",
    "Multiprocessing is the use of two or more central processing units (CPUs) within a single computer system. \n",
    "The term also refers to the ability of a system to support more than one processor and/or the ability to allocate tasks between them.\n",
    "\n",
    "### Parallel Processing\n",
    "In computers, parallel processing is the processing of program instructions by dividing them among multiple processors with the objective of running a program in less time. \n",
    "In the earliest computers, only one program ran at a time."
   ]
  },
  {
   "cell_type": "code",
   "execution_count": 12,
   "metadata": {},
   "outputs": [
    {
     "name": "stdout",
     "output_type": "stream",
     "text": [
      "Square of the given number is 4\n",
      "Cube of the given number is 1000\n",
      "Both processes finished\n"
     ]
    }
   ],
   "source": [
    "from multiprocessing import Process\n",
    "\n",
    "def cube(num):\n",
    "    print(f\"Cube of the given number is {num ** 3}\")\n",
    "\n",
    "def square(num):\n",
    "    print(f\"Square of the given number is {num ** 2}\")\n",
    "\n",
    "if __name__ == \"__main__\":\n",
    "    p1 = Process(target = cube, args = (10,))\n",
    "    p2 = Process(target = square, args = (2,))\n",
    "\n",
    "    p1.start()\n",
    "    p2.start()\n",
    "\n",
    "    p1.join()\n",
    "    p2.join()\n",
    "\n",
    "    print(\"Both processes finished\")"
   ]
  },
  {
   "cell_type": "markdown",
   "metadata": {},
   "source": [
    "Output obtained when run as a normal Python file:\n",
    "\n",
    "```\n",
    "Cube of the given number is 1000\n",
    "Square of the given number is 4\n",
    "Both processes finished\n",
    "```"
   ]
  },
  {
   "cell_type": "code",
   "execution_count": 13,
   "metadata": {},
   "outputs": [
    {
     "name": "stdout",
     "output_type": "stream",
     "text": [
      "Main process id 25032\n",
      "\n",
      "Current Process:  <Process name='Process-5' parent=25032 started>\n",
      "PID:  25161\n",
      "\n",
      "Current Process:  <Process name='Process-4' parent=25032 started>\n",
      "PID:  25160\n",
      "\n",
      "Both processes finished execution!\n",
      "p1 status is alive?: False\n",
      "p2 status is alive?: False\n"
     ]
    }
   ],
   "source": [
    "from multiprocessing import Process, current_process\n",
    "from os import getpid\n",
    "\n",
    "def printPID():\n",
    "    print(\"\\nCurrent Process: \", current_process())\n",
    "    print(\"PID: \", getpid())\n",
    "\n",
    "if __name__ == \"__main__\":\n",
    "    print(\"Main process id\", getpid())\n",
    "\n",
    "    p1 = Process(target = printPID) \n",
    "    p2 = Process(target = printPID)\n",
    "\n",
    "    p1.start()\n",
    "    p2.start()\n",
    " \n",
    "    p1.join()\n",
    "    p2.join()\n",
    "\n",
    "    print(\"\\nBoth processes finished execution!\")\n",
    "    print(\"p1 status is alive?:\", p1.is_alive())\n",
    "    print(\"p2 status is alive?:\", p2.is_alive())"
   ]
  },
  {
   "cell_type": "markdown",
   "metadata": {},
   "source": [
    "# Class 10 (13.10.2021)"
   ]
  },
  {
   "cell_type": "markdown",
   "metadata": {},
   "source": [
    "## Lock Mechanisms\n",
    "Lock or a mutex is a synchronization mechanism for enforcing limits on access to a resource in an environment with multiple threads in execution."
   ]
  },
  {
   "cell_type": "code",
   "execution_count": 14,
   "metadata": {},
   "outputs": [
    {
     "name": "stdout",
     "output_type": "stream",
     "text": [
      "Initial value = 500\n",
      "Value after deposit = 1000\n",
      "Value after withdra = 500\n"
     ]
    }
   ],
   "source": [
    "from multiprocessing import Process\n",
    "from time import sleep\n",
    "\n",
    "def deposit(total):\n",
    "    for i in range(100):\n",
    "        sleep(0.01)\n",
    "        total += 5\n",
    "    return total\n",
    "\n",
    "def withdraw(total):\n",
    "    for i in range(100):\n",
    "        sleep(0.01)\n",
    "        total -= 5\n",
    "    return total\n",
    "\n",
    "if __name__ == \"__main__\":\n",
    "    total = 500\n",
    "    print(f\"Initial value = {total}\")\n",
    "    total = deposit(total)\n",
    "    print(f\"Value after deposit = {total}\")\n",
    "    total = withdraw(total)\n",
    "    print(f\"Value after withdra = {total}\")"
   ]
  },
  {
   "cell_type": "code",
   "execution_count": 15,
   "metadata": {},
   "outputs": [
    {
     "name": "stdout",
     "output_type": "stream",
     "text": [
      "Total Object = <Synchronized wrapper for c_int(500)>\n",
      "Initial Value = 500\n",
      "Total = 500\n"
     ]
    }
   ],
   "source": [
    "# Multiprocessing with no lock mechanisms (No Atomicity)\n",
    "from multiprocessing import Process, Value\n",
    "from time import sleep\n",
    "\n",
    "def deposit(total):\n",
    "    for i in range(100):\n",
    "        sleep(0.01)\n",
    "        total.value += 5\n",
    "    return total\n",
    "\n",
    "def withdraw(total):\n",
    "    for i in range(100):\n",
    "        sleep(0.01)\n",
    "        total.value -= 5\n",
    "    return total\n",
    "\n",
    "if __name__ == \"__main__\":\n",
    "    # Value class returns a \"ctypes\" object which is present in the Shared Memory by default.\n",
    "    # It is synchronized using RLock Mechanism (a locking mechanism part of the multiprocessing library).\n",
    "    # It is used to share information between processes (Inter Process Communication, IPC).\n",
    "    # Synchronized manager server ?? (Look up)\n",
    "    total = Value('i', 500) # \"ctypes\" Int Object (i stands for int) with a value of 500\n",
    "    print(f\"Total Object = {total}\")\n",
    "    print(f\"Initial Value = {total.value}\")\n",
    "\n",
    "    add = Process(target = deposit, args = (total,))\n",
    "    sub = Process(target = withdraw, args = (total,))\n",
    "\n",
    "    add.start()\n",
    "    sub.start()\n",
    "\n",
    "    add.join()\n",
    "    sub.join()\n",
    "\n",
    "    print(f\"Total = {total.value}\")"
   ]
  },
  {
   "cell_type": "code",
   "execution_count": 16,
   "metadata": {},
   "outputs": [
    {
     "name": "stdout",
     "output_type": "stream",
     "text": [
      "Lock Object = <Lock(owner=None)>\n",
      "Total Object = <Synchronized wrapper for c_int(500)>\n",
      "Initial Value = 500\n",
      "Total = 500\n"
     ]
    }
   ],
   "source": [
    "from multiprocessing import Process, Value, Lock\n",
    "from time import sleep\n",
    "\n",
    "# With lock\n",
    "lock = Lock() # Lock Object\n",
    "print(f\"Lock Object = {lock}\")\n",
    "\n",
    "def deposit(total, lock):\n",
    "    for i in range(100):\n",
    "        sleep(0.01)\n",
    "        lock.acquire()\n",
    "        total.value += 5\n",
    "        lock.release()\n",
    "    return total\n",
    "\n",
    "def withdraw(total, lock):\n",
    "    for i in range(100):\n",
    "        sleep(0.01)\n",
    "        lock.acquire()\n",
    "        total.value -= 5\n",
    "        lock.release()\n",
    "    return total\n",
    "\n",
    "if __name__ == \"__main__\":\n",
    "    total = Value('i', 500)\n",
    "    print(f\"Total Object = {total}\")\n",
    "    print(f\"Initial Value = {total.value}\")\n",
    "\n",
    "    add = Process(target = deposit, args = (total, lock))\n",
    "    sub = Process(target = withdraw, args = (total, lock))\n",
    "\n",
    "    add.start()\n",
    "    sub.start()\n",
    "\n",
    "    add.join()\n",
    "    sub.join()\n",
    "\n",
    "    print(f\"Total = {total.value}\")"
   ]
  },
  {
   "cell_type": "markdown",
   "metadata": {},
   "source": [
    "# Race Conditions\n",
    "A race condition occurs when two or more threads can access shared data and they try to change it at the same time. Because the thread scheduling algorithm can swap between threads at any time, you don't know the order in which the threads will attempt to access the shared data. Therefore, the result of the change in data is dependent on the thread scheduling algorithm, i.e. both threads are \"racing\" to access/change the data."
   ]
  },
  {
   "cell_type": "code",
   "execution_count": 17,
   "metadata": {},
   "outputs": [
    {
     "name": "stdout",
     "output_type": "stream",
     "text": [
      "AaaABbBCCbcDcDEEdFdFeGGefHHfgghh"
     ]
    }
   ],
   "source": [
    "from threading import Thread\n",
    "import random\n",
    "import sys\n",
    "from time import sleep\n",
    "\n",
    "def f1(s):\n",
    "    for i in range(0, len(s)):\n",
    "        print(s[i], end = '')\n",
    "        sys.stdout.flush() # Flush the data buffer\n",
    "        sleep(random.random()*3)\n",
    "        print(s[i], end = '')\n",
    "        sys.stdout.flush()\n",
    "        sleep(random.random()*3)\n",
    "\n",
    "t1 = Thread(target = f1, args = ('ABCDEFGH',))\n",
    "t2 = Thread(target = f1, args = ('abcdefgh',))\n",
    "\n",
    "t1.start()\n",
    "t2.start()\n",
    "\n",
    "t1.join()\n",
    "t2.join()"
   ]
  },
  {
   "cell_type": "code",
   "execution_count": 18,
   "metadata": {},
   "outputs": [
    {
     "name": "stdout",
     "output_type": "stream",
     "text": [
      "AAaabbBBccCCDDddEEeeFFffggGGhhHH"
     ]
    }
   ],
   "source": [
    "from threading import Thread, Lock\n",
    "import random\n",
    "import sys\n",
    "from time import sleep\n",
    "\n",
    "lock = Lock()\n",
    "\n",
    "def f1(s):\n",
    "    for i in range(0, len(s)):\n",
    "        lock.acquire()\n",
    "        print(s[i], end = '')\n",
    "        sys.stdout.flush() # Flush the data buffer\n",
    "        sleep(random.random()*3)\n",
    "        print(s[i], end = '')\n",
    "        sys.stdout.flush()\n",
    "        lock.release()\n",
    "        sleep(random.random()*3)\n",
    "\n",
    "t1 = Thread(target = f1, args = ('ABCDEFGH',))\n",
    "t2 = Thread(target = f1, args = ('abcdefgh',))\n",
    "\n",
    "t1.start()\n",
    "t2.start()\n",
    "\n",
    "t1.join()\n",
    "t2.join()"
   ]
  },
  {
   "cell_type": "markdown",
   "metadata": {},
   "source": [
    "# Class 11 (20.10.2021)"
   ]
  },
  {
   "cell_type": "markdown",
   "metadata": {},
   "source": [
    "# Semaphores\n",
    "* One of the oldest synchronization primitives in the history of Computer Science.\n",
    "* Invented by Dutch scientist Dijkstra.\n",
    "* **p()** {Wait/Acquire} and **v()** {Signal/Release}."
   ]
  },
  {
   "cell_type": "code",
   "execution_count": 19,
   "metadata": {},
   "outputs": [
    {
     "name": "stdout",
     "output_type": "stream",
     "text": [
      "5\n",
      "True\n",
      "4\n",
      "None\n",
      "None\n",
      "6\n"
     ]
    }
   ],
   "source": [
    "from threading import Semaphore\n",
    "\n",
    "# This is not a bounded Semaphore.\n",
    "sem = Semaphore(5) # Allows 5 threads to acquire it, i.e 5 threads can be in the critical section at a time\n",
    "\n",
    "print(sem._value)\n",
    "\n",
    "print(sem.acquire())\n",
    "\n",
    "print(sem._value)\n",
    "\n",
    "print(sem.release())\n",
    "print(sem.release()) # Can release without acquiring as well (not ideal in some cases, hence use BoundedSemaphore)\n",
    "\n",
    "print(sem._value)"
   ]
  },
  {
   "cell_type": "code",
   "execution_count": 20,
   "metadata": {},
   "outputs": [
    {
     "name": "stdout",
     "output_type": "stream",
     "text": [
      "True\n",
      "9\n",
      "None\n"
     ]
    },
    {
     "ename": "ValueError",
     "evalue": "Semaphore released too many times",
     "output_type": "error",
     "traceback": [
      "\u001b[0;31m---------------------------------------------------------------------------\u001b[0m",
      "\u001b[0;31mValueError\u001b[0m                                Traceback (most recent call last)",
      "\u001b[0;32m/tmp/ipykernel_25032/1909914081.py\u001b[0m in \u001b[0;36m<module>\u001b[0;34m\u001b[0m\n\u001b[1;32m      7\u001b[0m \u001b[0;34m\u001b[0m\u001b[0m\n\u001b[1;32m      8\u001b[0m \u001b[0mprint\u001b[0m\u001b[0;34m(\u001b[0m\u001b[0mbsem\u001b[0m\u001b[0;34m.\u001b[0m\u001b[0mrelease\u001b[0m\u001b[0;34m(\u001b[0m\u001b[0;34m)\u001b[0m\u001b[0;34m)\u001b[0m\u001b[0;34m\u001b[0m\u001b[0;34m\u001b[0m\u001b[0m\n\u001b[0;32m----> 9\u001b[0;31m \u001b[0mprint\u001b[0m\u001b[0;34m(\u001b[0m\u001b[0mbsem\u001b[0m\u001b[0;34m.\u001b[0m\u001b[0mrelease\u001b[0m\u001b[0;34m(\u001b[0m\u001b[0;34m)\u001b[0m\u001b[0;34m)\u001b[0m \u001b[0;31m# Cannot release without acquiring\u001b[0m\u001b[0;34m\u001b[0m\u001b[0;34m\u001b[0m\u001b[0m\n\u001b[0m\u001b[1;32m     10\u001b[0m \u001b[0;34m\u001b[0m\u001b[0m\n\u001b[1;32m     11\u001b[0m \u001b[0mprint\u001b[0m\u001b[0;34m(\u001b[0m\u001b[0mbsem\u001b[0m\u001b[0;34m.\u001b[0m\u001b[0m_value\u001b[0m\u001b[0;34m)\u001b[0m\u001b[0;34m\u001b[0m\u001b[0;34m\u001b[0m\u001b[0m\n",
      "\u001b[0;32m~/miniconda3/lib/python3.9/threading.py\u001b[0m in \u001b[0;36mrelease\u001b[0;34m(self, n)\u001b[0m\n\u001b[1;32m    502\u001b[0m         \u001b[0;32mwith\u001b[0m \u001b[0mself\u001b[0m\u001b[0;34m.\u001b[0m\u001b[0m_cond\u001b[0m\u001b[0;34m:\u001b[0m\u001b[0;34m\u001b[0m\u001b[0;34m\u001b[0m\u001b[0m\n\u001b[1;32m    503\u001b[0m             \u001b[0;32mif\u001b[0m \u001b[0mself\u001b[0m\u001b[0;34m.\u001b[0m\u001b[0m_value\u001b[0m \u001b[0;34m+\u001b[0m \u001b[0mn\u001b[0m \u001b[0;34m>\u001b[0m \u001b[0mself\u001b[0m\u001b[0;34m.\u001b[0m\u001b[0m_initial_value\u001b[0m\u001b[0;34m:\u001b[0m\u001b[0;34m\u001b[0m\u001b[0;34m\u001b[0m\u001b[0m\n\u001b[0;32m--> 504\u001b[0;31m                 \u001b[0;32mraise\u001b[0m \u001b[0mValueError\u001b[0m\u001b[0;34m(\u001b[0m\u001b[0;34m\"Semaphore released too many times\"\u001b[0m\u001b[0;34m)\u001b[0m\u001b[0;34m\u001b[0m\u001b[0;34m\u001b[0m\u001b[0m\n\u001b[0m\u001b[1;32m    505\u001b[0m             \u001b[0mself\u001b[0m\u001b[0;34m.\u001b[0m\u001b[0m_value\u001b[0m \u001b[0;34m+=\u001b[0m \u001b[0mn\u001b[0m\u001b[0;34m\u001b[0m\u001b[0;34m\u001b[0m\u001b[0m\n\u001b[1;32m    506\u001b[0m             \u001b[0;32mfor\u001b[0m \u001b[0mi\u001b[0m \u001b[0;32min\u001b[0m \u001b[0mrange\u001b[0m\u001b[0;34m(\u001b[0m\u001b[0mn\u001b[0m\u001b[0;34m)\u001b[0m\u001b[0;34m:\u001b[0m\u001b[0;34m\u001b[0m\u001b[0;34m\u001b[0m\u001b[0m\n",
      "\u001b[0;31mValueError\u001b[0m: Semaphore released too many times"
     ]
    }
   ],
   "source": [
    "from threading import BoundedSemaphore\n",
    "\n",
    "bsem = BoundedSemaphore(10)\n",
    "\n",
    "print(bsem.acquire())\n",
    "print(bsem._value)\n",
    "\n",
    "print(bsem.release())\n",
    "print(bsem.release()) # Cannot release without acquiring\n",
    "\n",
    "print(bsem._value)"
   ]
  },
  {
   "cell_type": "code",
   "execution_count": 21,
   "metadata": {},
   "outputs": [
    {
     "name": "stdout",
     "output_type": "stream",
     "text": [
      "True\n"
     ]
    },
    {
     "ename": "KeyboardInterrupt",
     "evalue": "",
     "output_type": "error",
     "traceback": [
      "\u001b[0;31m---------------------------------------------------------------------------\u001b[0m",
      "\u001b[0;31mKeyboardInterrupt\u001b[0m                         Traceback (most recent call last)",
      "\u001b[0;32m/tmp/ipykernel_25032/3701670932.py\u001b[0m in \u001b[0;36m<module>\u001b[0;34m\u001b[0m\n\u001b[1;32m      2\u001b[0m \u001b[0mprint\u001b[0m\u001b[0;34m(\u001b[0m\u001b[0msem\u001b[0m\u001b[0;34m.\u001b[0m\u001b[0macquire\u001b[0m\u001b[0;34m(\u001b[0m\u001b[0;34m)\u001b[0m\u001b[0;34m)\u001b[0m\u001b[0;34m\u001b[0m\u001b[0;34m\u001b[0m\u001b[0m\n\u001b[1;32m      3\u001b[0m \u001b[0;31m# By default, the acquire method for Semaphores is blocking. Hence, it blocks the thread trying to acquire it when its value is 0\u001b[0m\u001b[0;34m\u001b[0m\u001b[0;34m\u001b[0m\u001b[0;34m\u001b[0m\u001b[0m\n\u001b[0;32m----> 4\u001b[0;31m \u001b[0mprint\u001b[0m\u001b[0;34m(\u001b[0m\u001b[0msem\u001b[0m\u001b[0;34m.\u001b[0m\u001b[0macquire\u001b[0m\u001b[0;34m(\u001b[0m\u001b[0;34m)\u001b[0m\u001b[0;34m)\u001b[0m \u001b[0;31m# Check if this is busy wait...\u001b[0m\u001b[0;34m\u001b[0m\u001b[0;34m\u001b[0m\u001b[0m\n\u001b[0m\u001b[1;32m      5\u001b[0m \u001b[0mprint\u001b[0m\u001b[0;34m(\u001b[0m\u001b[0;34m\"Acquired!\"\u001b[0m\u001b[0;34m)\u001b[0m\u001b[0;34m\u001b[0m\u001b[0;34m\u001b[0m\u001b[0m\n",
      "\u001b[0;32m~/miniconda3/lib/python3.9/threading.py\u001b[0m in \u001b[0;36macquire\u001b[0;34m(self, blocking, timeout)\u001b[0m\n\u001b[1;32m    441\u001b[0m                         \u001b[0;32mif\u001b[0m \u001b[0mtimeout\u001b[0m \u001b[0;34m<=\u001b[0m \u001b[0;36m0\u001b[0m\u001b[0;34m:\u001b[0m\u001b[0;34m\u001b[0m\u001b[0;34m\u001b[0m\u001b[0m\n\u001b[1;32m    442\u001b[0m                             \u001b[0;32mbreak\u001b[0m\u001b[0;34m\u001b[0m\u001b[0;34m\u001b[0m\u001b[0m\n\u001b[0;32m--> 443\u001b[0;31m                 \u001b[0mself\u001b[0m\u001b[0;34m.\u001b[0m\u001b[0m_cond\u001b[0m\u001b[0;34m.\u001b[0m\u001b[0mwait\u001b[0m\u001b[0;34m(\u001b[0m\u001b[0mtimeout\u001b[0m\u001b[0;34m)\u001b[0m\u001b[0;34m\u001b[0m\u001b[0;34m\u001b[0m\u001b[0m\n\u001b[0m\u001b[1;32m    444\u001b[0m             \u001b[0;32melse\u001b[0m\u001b[0;34m:\u001b[0m\u001b[0;34m\u001b[0m\u001b[0;34m\u001b[0m\u001b[0m\n\u001b[1;32m    445\u001b[0m                 \u001b[0mself\u001b[0m\u001b[0;34m.\u001b[0m\u001b[0m_value\u001b[0m \u001b[0;34m-=\u001b[0m \u001b[0;36m1\u001b[0m\u001b[0;34m\u001b[0m\u001b[0;34m\u001b[0m\u001b[0m\n",
      "\u001b[0;32m~/miniconda3/lib/python3.9/threading.py\u001b[0m in \u001b[0;36mwait\u001b[0;34m(self, timeout)\u001b[0m\n\u001b[1;32m    310\u001b[0m         \u001b[0;32mtry\u001b[0m\u001b[0;34m:\u001b[0m    \u001b[0;31m# restore state no matter what (e.g., KeyboardInterrupt)\u001b[0m\u001b[0;34m\u001b[0m\u001b[0;34m\u001b[0m\u001b[0m\n\u001b[1;32m    311\u001b[0m             \u001b[0;32mif\u001b[0m \u001b[0mtimeout\u001b[0m \u001b[0;32mis\u001b[0m \u001b[0;32mNone\u001b[0m\u001b[0;34m:\u001b[0m\u001b[0;34m\u001b[0m\u001b[0;34m\u001b[0m\u001b[0m\n\u001b[0;32m--> 312\u001b[0;31m                 \u001b[0mwaiter\u001b[0m\u001b[0;34m.\u001b[0m\u001b[0macquire\u001b[0m\u001b[0;34m(\u001b[0m\u001b[0;34m)\u001b[0m\u001b[0;34m\u001b[0m\u001b[0;34m\u001b[0m\u001b[0m\n\u001b[0m\u001b[1;32m    313\u001b[0m                 \u001b[0mgotit\u001b[0m \u001b[0;34m=\u001b[0m \u001b[0;32mTrue\u001b[0m\u001b[0;34m\u001b[0m\u001b[0;34m\u001b[0m\u001b[0m\n\u001b[1;32m    314\u001b[0m             \u001b[0;32melse\u001b[0m\u001b[0;34m:\u001b[0m\u001b[0;34m\u001b[0m\u001b[0;34m\u001b[0m\u001b[0m\n",
      "\u001b[0;31mKeyboardInterrupt\u001b[0m: "
     ]
    }
   ],
   "source": [
    "sem = Semaphore(1)\n",
    "print(sem.acquire())\n",
    "# By default, the acquire method for Semaphores is blocking. Hence, it blocks the thread trying to acquire it when its value is 0\n",
    "print(sem.acquire()) # Check if this is busy wait...\n",
    "print(\"Acquired!\")"
   ]
  },
  {
   "cell_type": "code",
   "execution_count": 22,
   "metadata": {},
   "outputs": [
    {
     "name": "stdout",
     "output_type": "stream",
     "text": [
      "True\n",
      "False\n",
      "Acquired!\n"
     ]
    }
   ],
   "source": [
    "sem = Semaphore(1)\n",
    "print(sem.acquire(blocking = False))\n",
    "print(sem.acquire(blocking = False)) # When Blocking is set to False, It returns False immediately if the Semaphore cannot be acquired\n",
    "print(\"Acquired!\")"
   ]
  },
  {
   "cell_type": "code",
   "execution_count": 23,
   "metadata": {},
   "outputs": [
    {
     "name": "stdout",
     "output_type": "stream",
     "text": [
      "<threading.Semaphore object at 0x7f4b3c6587c0> 1\n",
      "Starting Function f1\n",
      "1) Function f1 in loop\n",
      "Starting Function f2\n",
      "\n",
      "\u001b[91mFunction f2: Semaphore unavailable\u001b[0m\n",
      "\n",
      "2) Function f1 in loop\n",
      "3) Function f1 in loop\n",
      "\n",
      "\u001b[91mFunction f2: Semaphore unavailable\u001b[0m\n",
      "\n",
      "4) Function f1 in loop\n",
      "Function f1 done\n",
      "\n",
      "\u001b[92mFunction f2: Semaphore acquired\u001b[0m\n",
      "\n",
      "1) Function f2 in loop\n",
      "2) Function f2 in loop\n",
      "3) Function f2 in loop\n",
      "4) Function f2 in loop\n"
     ]
    }
   ],
   "source": [
    "from threading import Semaphore, Thread\n",
    "from time import  sleep\n",
    "\n",
    "sem = Semaphore() # Default value of Semaphore count is 1\n",
    "print(sem, sem._value)\n",
    "\n",
    "# Color coding for ease of visualization\n",
    "RED = \"\\033[91m\"\n",
    "GREEN = \"\\033[92m\"\n",
    "RESET = \"\\033[0m\"\n",
    "\n",
    "def f1():\n",
    "    print(\"Starting Function f1\")\n",
    "    sem.acquire()\n",
    "    for loop in range(1, 5):\n",
    "        print(f\"{loop}) Function f1 in loop\")\n",
    "        sleep(0.02)\n",
    "    sem.release()\n",
    "    print(\"Function f1 done\")\n",
    "\n",
    "def f2():\n",
    "    print(\"Starting Function f2\")\n",
    "    while not sem.acquire(blocking = False):\n",
    "        print(f\"\\n{RED}Function f2: Semaphore unavailable{RESET}\\n\")\n",
    "        sleep(0.05)\n",
    "    else:\n",
    "        print(f\"\\n{GREEN}Function f2: Semaphore acquired{RESET}\\n\")\n",
    "        for loop in range(1, 5):\n",
    "            print(f\"{loop}) Function f2 in loop\")\n",
    "            sleep(0.02)\n",
    "    sem.release()\n",
    "\n",
    "t1 = Thread(target = f1)\n",
    "t2 = Thread(target = f2)\n",
    "\n",
    "t1.start()\n",
    "t2.start()\n",
    "\n",
    "t1.join()\n",
    "t2.join()"
   ]
  },
  {
   "cell_type": "markdown",
   "metadata": {},
   "source": [
    "# Difference between Semaphore, BoundedSemaphore"
   ]
  },
  {
   "cell_type": "code",
   "execution_count": 24,
   "metadata": {},
   "outputs": [
    {
     "name": "stdout",
     "output_type": "stream",
     "text": [
      "6\n",
      "5\n",
      "As expected, it complained!\n"
     ]
    }
   ],
   "source": [
    "from threading import Semaphore, BoundedSemaphore\n",
    "\n",
    "# Usually, you create a Semaphore that will allow a certain number of threads\n",
    "# into a section of code. This one starts at 5.\n",
    "s1 = Semaphore(5)\n",
    "\n",
    "# When you want to enter the section of code, you acquire it first.\n",
    "# That lowers it to 4. (Four more threads could enter this section.)\n",
    "s1.acquire()\n",
    "\n",
    "# Then you do whatever sensitive thing needed to be restricted to five threads.\n",
    "# When you're finished, you release the semaphore, and it goes back to 5.\n",
    "s1.release()\n",
    "\n",
    "# That's all fine, but you can also release it without acquiring it first.\n",
    "s1.release()\n",
    "\n",
    "# The counter is now 6! That might make sense in some situations, but not in most.\n",
    "print(s1._value) # => 6\n",
    "\n",
    "# If that doesn't make sense in your situation, use a BoundedSemaphore.\n",
    "s2 = BoundedSemaphore(5) # Start at 5.\n",
    "s2.acquire() # Lower to 4.\n",
    "s2.release() # Go back to 5.\n",
    "print(s2._value)\n",
    "\n",
    "try:\n",
    "    s2.release() # Try to raise to 6, above starting value.\n",
    "    print(s2._value)\n",
    "except ValueError:\n",
    "    print('As expected, it complained!') "
   ]
  },
  {
   "cell_type": "markdown",
   "metadata": {},
   "source": [
    "# Producer Consumer Problem (PCP)\n",
    "Helps us understand concurrency.\n",
    "* Producer produces stuff and pushes it to a buffer.\n",
    "* Consumer will consume the stuff from the buffer."
   ]
  },
  {
   "cell_type": "code",
   "execution_count": 28,
   "metadata": {},
   "outputs": [
    {
     "name": "stdout",
     "output_type": "stream",
     "text": [
      "\u001b[93mProducer: \u001b[95mProduced 0\u001b[0m\n",
      "\u001b[94mConsumer: \u001b[92mConsumed 0\u001b[0m\n",
      "\u001b[94mConsumer: \u001b[91mQueue Empty\u001b[0m\n",
      "\u001b[93mProducer: \u001b[95mProduced 4\u001b[0m\n",
      "\u001b[94mConsumer: \u001b[92mConsumed 4\u001b[0m\n",
      "\u001b[93mProducer: \u001b[95mProduced 0\u001b[0m\n",
      "\u001b[93mProducer: \u001b[95mProduced 2\u001b[0m\n",
      "\u001b[94mConsumer: \u001b[92mConsumed 0\u001b[0m\n",
      "\u001b[93mProducer: \u001b[95mProduced 4\u001b[0m\n",
      "\u001b[93mProducer: \u001b[95mProduced 0\u001b[0m\n",
      "\u001b[94mConsumer: \u001b[92mConsumed 2\u001b[0m\n",
      "\u001b[94mConsumer: \u001b[92mConsumed 4\u001b[0m\n",
      "\u001b[93mProducer: \u001b[95mProduced 3\u001b[0m\n",
      "\u001b[94mConsumer: \u001b[92mConsumed 0\u001b[0m\n",
      "\u001b[94mConsumer: \u001b[92mConsumed 3\u001b[0m\n",
      "\u001b[93mProducer: \u001b[95mProduced 2\u001b[0m\n",
      "\u001b[94mConsumer: \u001b[92mConsumed 2\u001b[0m\n",
      "\u001b[93mProducer: \u001b[95mProduced 3\u001b[0m\n",
      "\u001b[93mProducer: \u001b[95mProduced 0\u001b[0m\n",
      "\u001b[94mConsumer: \u001b[92mConsumed 3\u001b[0m\n"
     ]
    }
   ],
   "source": [
    "from threading import Thread, Lock\n",
    "from time import  sleep\n",
    "from random import choice, random\n",
    "\n",
    "queue = []\n",
    "lock = Lock()\n",
    "\n",
    "# Color coding the output for easy visualization\n",
    "RED = \"\\033[91m\"\n",
    "GREEN = \"\\033[92m\"\n",
    "RESET = \"\\033[0m\"\n",
    "C1 = \"\\033[93m\"\n",
    "C2 = \"\\033[94m\"\n",
    "C3 = \"\\033[95m\"\n",
    "\n",
    "class Producer(Thread):\n",
    "    def run(self):\n",
    "        nums = range(5)\n",
    "        global queue\n",
    "        for i in range(10): # Run the Condition.py file for non terminating simulation of the PCP\n",
    "            num = choice(nums)\n",
    "            with lock:\n",
    "                queue.append(num)\n",
    "                print(f\"{C1}Producer: {C3}Produced {num}{RESET}\")\n",
    "            sleep(random())\n",
    "\n",
    "class Consumer(Thread):\n",
    "    def run(self):\n",
    "        global queue\n",
    "        for i in range(10):\n",
    "            with lock:\n",
    "                if not queue: \n",
    "                    print(f\"{C2}Consumer: {RED}Queue Empty{RESET}\")\n",
    "                else: # If this else condition is removed, the consumer will try to pop from an empty buffer leading to an IndexError\n",
    "                    num = queue.pop(0)\n",
    "                    print(f\"{C2}Consumer: {GREEN}Consumed {num}{RESET}\")\n",
    "            sleep(random())\n",
    "\n",
    "Producer().start()\n",
    "Consumer().start()          "
   ]
  },
  {
   "cell_type": "markdown",
   "metadata": {},
   "source": [
    "# Class 12 (25.10.2021)"
   ]
  },
  {
   "cell_type": "markdown",
   "metadata": {},
   "source": [
    "# Condition Object\n",
    "* Allows one or more threads to wait until notified by another thread. (Prevents the consumer from trying to consume from an empty buffer in the previous case)\n",
    "* This can be used to prevent concurrency bugs.\n",
    "* Conditions are associated with locks and have two methods --> ***acquire()*** and ***release()***"
   ]
  },
  {
   "cell_type": "code",
   "execution_count": 29,
   "metadata": {},
   "outputs": [
    {
     "name": "stdout",
     "output_type": "stream",
     "text": [
      "\u001b[93mProducer: \u001b[95mProduced 1\u001b[0m\n",
      "\u001b[94mConsumer: \u001b[92mConsumed 1\u001b[0m\n",
      "\u001b[93mProducer: \u001b[95mProduced 4\u001b[0m\n",
      "\u001b[94mConsumer: \u001b[92mConsumed 4\u001b[0m\n",
      "\u001b[93mProducer: \u001b[95mProduced 3\u001b[0m\n",
      "\u001b[94mConsumer: \u001b[92mConsumed 3\u001b[0m\n",
      "\u001b[94mConsumer: \u001b[91mQueue Empty\u001b[0m\n",
      "\u001b[93mProducer: \u001b[95mProduced 0\u001b[0m\n",
      "\u001b[94mConsumer: \u001b[92mConsumed 0\u001b[0m\n",
      "\u001b[93mProducer: \u001b[95mProduced 4\u001b[0m\n",
      "\u001b[93mProducer: \u001b[95mProduced 2\u001b[0m\n",
      "\u001b[94mConsumer: \u001b[92mConsumed 4\u001b[0m\n",
      "\u001b[94mConsumer: \u001b[92mConsumed 2\u001b[0m\n",
      "\u001b[93mProducer: \u001b[95mProduced 2\u001b[0m\n",
      "\u001b[93mProducer: \u001b[95mProduced 1\u001b[0m\n",
      "\u001b[94mConsumer: \u001b[92mConsumed 2\u001b[0m\n",
      "\u001b[94mConsumer: \u001b[92mConsumed 1\u001b[0m\n",
      "\u001b[93mProducer: \u001b[95mProduced 2\u001b[0m\n",
      "\u001b[94mConsumer: \u001b[92mConsumed 2\u001b[0m\n",
      "\u001b[94mConsumer: \u001b[91mQueue Empty\u001b[0m\n",
      "\u001b[93mProducer: \u001b[95mProduced 0\u001b[0m\n",
      "\u001b[94mConsumer: \u001b[92mConsumed 0\u001b[0m\n",
      "\u001b[94mConsumer: \u001b[91mQueue Empty\u001b[0m\n",
      "\u001b[93mProducer: \u001b[95mProduced 3\u001b[0m\n",
      "\u001b[94mConsumer: \u001b[92mConsumed 3\u001b[0m\n",
      "\u001b[94mConsumer: \u001b[91mQueue Empty\u001b[0m\n",
      "\u001b[93mProducer: \u001b[95mProduced 0\u001b[0m\n",
      "\u001b[94mConsumer: \u001b[92mConsumed 0\u001b[0m\n",
      "\u001b[94mConsumer: \u001b[91mQueue Empty\u001b[0m\n",
      "\u001b[93mProducer: \u001b[95mProduced 3\u001b[0m\n",
      "\u001b[94mConsumer: \u001b[92mConsumed 3\u001b[0m\n",
      "\u001b[94mConsumer: \u001b[91mQueue Empty\u001b[0m\n",
      "\u001b[93mProducer: \u001b[95mProduced 1\u001b[0m\n",
      "\u001b[94mConsumer: \u001b[92mConsumed 1\u001b[0m\n",
      "\u001b[94mConsumer: \u001b[91mQueue Empty\u001b[0m\n",
      "\u001b[93mProducer: \u001b[95mProduced 3\u001b[0m\n",
      "\u001b[94mConsumer: \u001b[92mConsumed 3\u001b[0m\n",
      "\u001b[93mProducer: \u001b[95mProduced 3\u001b[0m\n",
      "\u001b[93mProducer: \u001b[95mProduced 0\u001b[0m\n",
      "\u001b[94mConsumer: \u001b[92mConsumed 3\u001b[0m\n",
      "\u001b[93mProducer: \u001b[95mProduced 0\u001b[0m\n",
      "\u001b[93mProducer: \u001b[95mProduced 4\u001b[0m\n",
      "\u001b[94mConsumer: \u001b[92mConsumed 0\u001b[0m\n",
      "\u001b[94mConsumer: \u001b[92mConsumed 0\u001b[0m\n",
      "\u001b[93mProducer: \u001b[95mProduced 2\u001b[0m\n",
      "\u001b[94mConsumer: \u001b[92mConsumed 4\u001b[0m\n",
      "\u001b[94mConsumer: \u001b[92mConsumed 2\u001b[0m\n"
     ]
    }
   ],
   "source": [
    "from threading import Thread, Condition\n",
    "from time import  sleep\n",
    "from random import choice, random\n",
    "\n",
    "simulationLength = range(20)\n",
    "queue = []\n",
    "maxNum = 5\n",
    "condition = Condition()\n",
    "\n",
    "# Color coding the output for easy visualization\n",
    "RED = \"\\033[91m\"\n",
    "GREEN = \"\\033[92m\"\n",
    "RESET = \"\\033[0m\"\n",
    "C1 = \"\\033[93m\"\n",
    "C2 = \"\\033[94m\"\n",
    "C3 = \"\\033[95m\"\n",
    "\n",
    "class Producer(Thread):\n",
    "    def run(self):\n",
    "        nums = range(5)\n",
    "        global queue\n",
    "        for i in simulationLength:\n",
    "            num = choice(nums)\n",
    "            condition.acquire() # \"with condition\" can be used instead of explicitly using the acquire and release methods\n",
    "            if len(queue) == maxNum: \n",
    "                print(f\"{C1}Producer: {RED}Queue Full{RESET}\")\n",
    "                condition.wait() # Wait for Consumer to notify after it has consumed something and made room for new products in the queue\n",
    "            queue.append(num)\n",
    "            print(f\"{C1}Producer: {C3}Produced {num}{RESET}\")\n",
    "            condition.notify() # Notify the consumer that a new product has been produced\n",
    "            condition.release()\n",
    "            sleep(random())\n",
    "\n",
    "class Consumer(Thread):\n",
    "    def run(self):\n",
    "        global queue\n",
    "        for i in simulationLength:\n",
    "            condition.acquire()\n",
    "            if not queue: \n",
    "                print(f\"{C2}Consumer: {RED}Queue Empty{RESET}\")\n",
    "                condition.wait() # Wait for Producer to add something the queue\n",
    "            num = queue.pop(0)\n",
    "            print(f\"{C2}Consumer: {GREEN}Consumed {num}{RESET}\")\n",
    "            condition.notify() # Notify the producer to add something to the queue\n",
    "            condition.release()\n",
    "            sleep(random())\n",
    "\n",
    "Producer().start()\n",
    "Consumer().start()               "
   ]
  },
  {
   "cell_type": "markdown",
   "metadata": {},
   "source": [
    "# Explanation\n",
    "1. The Consumer checks if the buffer is empty before consuming.\n",
    "2. If the buffer is empty, it calls **wait()** on the condition instance.\n",
    "3. **wait()** blocks the consumer and also releases the lock associated with the condition, i.e it loses hold of the lock.\n",
    "4. Now unless consumer is notified, it will not run.\n",
    "5. Now, the Producer can acquire the lock as it was released by the Consumer.\n",
    "6. Producer puts data into the buffer and calls **notify()** on the condition instance.\n",
    "7. Once **notify()** call is made on condition, Consumer wakes up. But waking up doesn’t mean it starts executing.\n",
    "8. **notify()** does not release the lock. Even after **notify()**, lock is still held by the Producer.\n",
    "9. Producer explicitly releases the lock by using **condition.release()**.\n",
    "10. Consumer starts running again and it'll consume the data in the buffer.\n",
    "11. No IndexError will be raised."
   ]
  },
  {
   "cell_type": "code",
   "execution_count": 30,
   "metadata": {},
   "outputs": [
    {
     "data": {
      "text/plain": [
       "['__class__',\n",
       " '__delattr__',\n",
       " '__dict__',\n",
       " '__dir__',\n",
       " '__doc__',\n",
       " '__eq__',\n",
       " '__format__',\n",
       " '__ge__',\n",
       " '__getattribute__',\n",
       " '__gt__',\n",
       " '__hash__',\n",
       " '__init__',\n",
       " '__init_subclass__',\n",
       " '__le__',\n",
       " '__lt__',\n",
       " '__module__',\n",
       " '__ne__',\n",
       " '__new__',\n",
       " '__reduce__',\n",
       " '__reduce_ex__',\n",
       " '__repr__',\n",
       " '__setattr__',\n",
       " '__sizeof__',\n",
       " '__str__',\n",
       " '__subclasshook__',\n",
       " '__weakref__',\n",
       " '_bootstrap',\n",
       " '_bootstrap_inner',\n",
       " '_delete',\n",
       " '_initialized',\n",
       " '_reset_internal_locks',\n",
       " '_set_ident',\n",
       " '_set_native_id',\n",
       " '_set_tstate_lock',\n",
       " '_stop',\n",
       " '_wait_for_tstate_lock',\n",
       " 'daemon',\n",
       " 'getName',\n",
       " 'ident',\n",
       " 'isDaemon',\n",
       " 'is_alive',\n",
       " 'join',\n",
       " 'name',\n",
       " 'native_id',\n",
       " 'run',\n",
       " 'setDaemon',\n",
       " 'setName',\n",
       " 'start']"
      ]
     },
     "execution_count": 30,
     "metadata": {},
     "output_type": "execute_result"
    }
   ],
   "source": [
    "dir(Producer)"
   ]
  }
 ],
 "metadata": {
  "interpreter": {
   "hash": "96287154c02bd33d964264908876ff144eece4cbcf76f7700a55934c72d2f956"
  },
  "kernelspec": {
   "display_name": "Python 3.9.5 64-bit ('base': conda)",
   "name": "python3"
  },
  "language_info": {
   "codemirror_mode": {
    "name": "ipython",
    "version": 3
   },
   "file_extension": ".py",
   "mimetype": "text/x-python",
   "name": "python",
   "nbconvert_exporter": "python",
   "pygments_lexer": "ipython3",
   "version": "3.9.5"
  },
  "orig_nbformat": 4
 },
 "nbformat": 4,
 "nbformat_minor": 2
}
