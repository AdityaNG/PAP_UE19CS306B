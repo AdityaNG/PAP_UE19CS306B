{
 "cells": [
  {
   "cell_type": "markdown",
   "metadata": {},
   "source": [
    "# Class 9 (11.10.2021)"
   ]
  },
  {
   "cell_type": "markdown",
   "metadata": {},
   "source": [
    "# OS concepts in Python\n",
    "* Process is a program under execution.\n",
    "* It consists of a Program Counter, Process Stack, Registers, Program Code, etc.\n",
    "* A thread is a light weight process managed independently by the scheduler.\n",
    "* Threads improve performance via parallelism and concurrency.\n",
    "* Threads share data segment, code and files with other threads belonging to the same process.\n",
    "* Threads have their own Registers, Stack and Program Counter.\n",
    "* Thread is a subset of a process."
   ]
  },
  {
   "cell_type": "code",
   "execution_count": 6,
   "metadata": {},
   "outputs": [],
   "source": [
    "def cube(num):\n",
    "    print(f\"Cube of the given number if {num ** 3}\")\n",
    "\n",
    "def square(num):\n",
    "    print(f\"Square of the given number if {num ** 2}\")"
   ]
  },
  {
   "cell_type": "markdown",
   "metadata": {},
   "source": [
    "## Thread Class in Python\n",
    "* ***Target***: Function to be executed by the thread\n",
    "* ***Args***: Arguments to be passed to the target function\n",
    "\n",
    "- Use start method from thread class to start a new thread.\n",
    "- Use join method to join threads (wait for another thread to terminate)"
   ]
  },
  {
   "cell_type": "code",
   "execution_count": 16,
   "metadata": {},
   "outputs": [
    {
     "name": "stdout",
     "output_type": "stream",
     "text": [
      "Cube of the given number if 1000\n",
      "Square of the given number if 253 Threads are currently in execution\n",
      "\n",
      "Both Completed\n"
     ]
    }
   ],
   "source": [
    "# Run this multiple times to show how the threads compete for stdout\n",
    "from threading import Thread\n",
    "\n",
    "t1 = Thread(target = cube, args = (10,))  # Args has to be an iterable\n",
    "t2 = Thread(target = square, args = (5,))\n",
    "\n",
    "# Starting the thread's execution\n",
    "t1.start()\n",
    "t2.start()\n",
    "\n",
    "print(\"3 Threads are currently in execution\")\n",
    "\n",
    "# Wait untill t1 and t2 complete execution\n",
    "t1.join() # Main thread waits for this thread to finish execution (main thread is blocked)\n",
    "t2.join() # Main thread is blocked untill t2 finishes\n",
    "\n",
    "print(\"Both Completed\")"
   ]
  },
  {
   "cell_type": "code",
   "execution_count": 29,
   "metadata": {},
   "outputs": [],
   "source": [
    "def print_loop_even(num):\n",
    "    for i in range(num):\n",
    "        print(f\"{2*i} ==\")\n",
    "\n",
    "\n",
    "def print_loop_odd(num):\n",
    "    for i in range(num):\n",
    "        print(f\"{2*i + 1} --\")"
   ]
  },
  {
   "cell_type": "code",
   "execution_count": 32,
   "metadata": {},
   "outputs": [
    {
     "name": "stdout",
     "output_type": "stream",
     "text": [
      "0 ==\n",
      "2 ==\n",
      "4 ==\n",
      "6 ==\n",
      "8 ==\n",
      "10 ==\n",
      "12 ==\n",
      "14 ==\n",
      "16 ==\n",
      "18 ==\n",
      "1 --3 Threads are currently in execution\n",
      "\n",
      "3 --\n",
      "5 --\n",
      "7 --\n",
      "9 --\n",
      "11 --\n",
      "13 --\n",
      "15 --\n",
      "17 --\n",
      "19 --\n",
      "Both Completed\n"
     ]
    }
   ],
   "source": [
    "# Run this multiple times to see how the threads compete for stdout\n",
    "from threading import Thread\n",
    "\n",
    "t1 = Thread(target = print_loop_even, args = (10,))  # Args has to be an iterable\n",
    "t2 = Thread(target = print_loop_odd, args = (10,))\n",
    "\n",
    "# Starting the thread's execution\n",
    "t1.start()\n",
    "t2.start()\n",
    "\n",
    "print(\"3 Threads are currently in execution\")\n",
    "\n",
    "# Wait untill t1 completes execution\n",
    "t1.join() # Main thread waits for this thread to finish execution (main thread is blocked)\n",
    "t2.join() # Main thread is blocked untill t2 finishes\n",
    "\n",
    "print(\"Both Completed\")"
   ]
  },
  {
   "cell_type": "markdown",
   "metadata": {},
   "source": [
    "## Concept of global (scope of a variable)\n",
    "Inside a function, the local variables are given higher priority than a global variable"
   ]
  },
  {
   "cell_type": "code",
   "execution_count": 34,
   "metadata": {},
   "outputs": [
    {
     "name": "stdout",
     "output_type": "stream",
     "text": [
      "Inside function 1\n",
      "Outside function 45\n"
     ]
    }
   ],
   "source": [
    "x = 45\n",
    "def example():\n",
    "    x = 1\n",
    "    print(f\"Inside function {x}\")\n",
    "    x = 2\n",
    "\n",
    "example()\n",
    "print(f\"Outside function {x}\")"
   ]
  },
  {
   "cell_type": "code",
   "execution_count": 35,
   "metadata": {},
   "outputs": [
    {
     "ename": "UnboundLocalError",
     "evalue": "local variable 'x' referenced before assignment",
     "output_type": "error",
     "traceback": [
      "\u001b[0;31m---------------------------------------------------------------------------\u001b[0m",
      "\u001b[0;31mUnboundLocalError\u001b[0m                         Traceback (most recent call last)",
      "\u001b[0;32m/tmp/ipykernel_48877/1322856758.py\u001b[0m in \u001b[0;36m<module>\u001b[0;34m\u001b[0m\n\u001b[1;32m      5\u001b[0m     \u001b[0mx\u001b[0m \u001b[0;34m=\u001b[0m \u001b[0;36m2\u001b[0m\u001b[0;34m\u001b[0m\u001b[0;34m\u001b[0m\u001b[0m\n\u001b[1;32m      6\u001b[0m \u001b[0;34m\u001b[0m\u001b[0m\n\u001b[0;32m----> 7\u001b[0;31m \u001b[0mexample\u001b[0m\u001b[0;34m(\u001b[0m\u001b[0;34m)\u001b[0m\u001b[0;34m\u001b[0m\u001b[0;34m\u001b[0m\u001b[0m\n\u001b[0m\u001b[1;32m      8\u001b[0m \u001b[0mprint\u001b[0m\u001b[0;34m(\u001b[0m\u001b[0;34mf\"Outside function {x}\"\u001b[0m\u001b[0;34m)\u001b[0m\u001b[0;34m\u001b[0m\u001b[0;34m\u001b[0m\u001b[0m\n",
      "\u001b[0;32m/tmp/ipykernel_48877/1322856758.py\u001b[0m in \u001b[0;36mexample\u001b[0;34m()\u001b[0m\n\u001b[1;32m      1\u001b[0m \u001b[0mx\u001b[0m \u001b[0;34m=\u001b[0m \u001b[0;36m45\u001b[0m\u001b[0;34m\u001b[0m\u001b[0;34m\u001b[0m\u001b[0m\n\u001b[1;32m      2\u001b[0m \u001b[0;32mdef\u001b[0m \u001b[0mexample\u001b[0m\u001b[0;34m(\u001b[0m\u001b[0;34m)\u001b[0m\u001b[0;34m:\u001b[0m\u001b[0;34m\u001b[0m\u001b[0;34m\u001b[0m\u001b[0m\n\u001b[0;32m----> 3\u001b[0;31m     \u001b[0mx\u001b[0m \u001b[0;34m+=\u001b[0m \u001b[0;36m1\u001b[0m\u001b[0;34m\u001b[0m\u001b[0;34m\u001b[0m\u001b[0m\n\u001b[0m\u001b[1;32m      4\u001b[0m     \u001b[0mprint\u001b[0m\u001b[0;34m(\u001b[0m\u001b[0;34mf\"Inside function {x}\"\u001b[0m\u001b[0;34m)\u001b[0m\u001b[0;34m\u001b[0m\u001b[0;34m\u001b[0m\u001b[0m\n\u001b[1;32m      5\u001b[0m     \u001b[0mx\u001b[0m \u001b[0;34m=\u001b[0m \u001b[0;36m2\u001b[0m\u001b[0;34m\u001b[0m\u001b[0;34m\u001b[0m\u001b[0m\n",
      "\u001b[0;31mUnboundLocalError\u001b[0m: local variable 'x' referenced before assignment"
     ]
    }
   ],
   "source": [
    "x = 45\n",
    "def example():\n",
    "    x += 1\n",
    "    print(f\"Inside function {x}\")\n",
    "    x = 2\n",
    "\n",
    "example()\n",
    "print(f\"Outside function {x}\")"
   ]
  },
  {
   "cell_type": "code",
   "execution_count": 37,
   "metadata": {},
   "outputs": [
    {
     "name": "stdout",
     "output_type": "stream",
     "text": [
      "Inside function 46\n",
      "Outside function 46\n"
     ]
    }
   ],
   "source": [
    "x = 45\n",
    "def example():\n",
    "    global x\n",
    "    x += 1\n",
    "    print(f\"Inside function {x}\")\n",
    "    \n",
    "example()\n",
    "print(f\"Outside function {x}\")"
   ]
  },
  {
   "cell_type": "code",
   "execution_count": 40,
   "metadata": {},
   "outputs": [
    {
     "name": "stdout",
     "output_type": "stream",
     "text": [
      "0 -> 1632227\n",
      "1 -> 1540315\n",
      "2 -> 1587102\n",
      "3 -> 1620880\n",
      "4 -> 1604563\n",
      "5 -> 1729259\n",
      "6 -> 1497725\n",
      "7 -> 1617416\n",
      "8 -> 1701018\n",
      "9 -> 1482813\n"
     ]
    }
   ],
   "source": [
    "# Showing thread collisions\n",
    "\n",
    "globVar = 0\n",
    "\n",
    "def incGlobal():\n",
    "    global globVar\n",
    "    globVar += 1\n",
    "\n",
    "def threadTask():\n",
    "    for _ in range(1000000):\n",
    "        incGlobal()\n",
    "\n",
    "def main():\n",
    "    global globVar\n",
    "    globVar = 0\n",
    "    \n",
    "    t1 = Thread(target = threadTask)\n",
    "    t2 = Thread(target = threadTask)\n",
    "    \n",
    "    t1.start()\n",
    "    t2.start()\n",
    "    \n",
    "    t1.join()\n",
    "    t2.join()\n",
    "\n",
    "for i in range(10):\n",
    "    main()\n",
    "    print(f\"{i} -> {globVar}\")"
   ]
  },
  {
   "cell_type": "code",
   "execution_count": 48,
   "metadata": {},
   "outputs": [
    {
     "name": "stdout",
     "output_type": "stream",
     "text": [
      "Current thread count =  9\n",
      "Thread th is True\n",
      "\n",
      "This is thread\n",
      "\n",
      "Thread th is False\n",
      "Current thread count =  8\n",
      "\n",
      "Main thread's name = MainThread\n"
     ]
    }
   ],
   "source": [
    "from threading import Thread, active_count, main_thread\n",
    "from time import sleep\n",
    "\n",
    "def threadName():\n",
    "    sleep(2)\n",
    "    print(\"This is thread\")\n",
    "\n",
    "th = Thread(target = threadName, name = \"th\")\n",
    "th.start()\n",
    "\n",
    "print(\"Current thread count = \", active_count())\n",
    "print(f\"Thread {th.getName()} is {th.is_alive()}\")\n",
    "print()\n",
    "\n",
    "th.join()\n",
    "\n",
    "print()\n",
    "print(f\"Thread {th.getName()} is {th.is_alive()}\")\n",
    "print(\"Current thread count = \", active_count())\n",
    "print()\n",
    "\n",
    "print(f\"Main thread's name = {main_thread().name}\")"
   ]
  },
  {
   "cell_type": "markdown",
   "metadata": {},
   "source": [
    "### Number of threads on interactive kernels like jupyter would likely be higher\n",
    "This is what the output to the above program would look like when run as a normal python file:\n",
    "\n",
    "```\n",
    "Current thread count =  2\n",
    "Thread th is True\n",
    "\n",
    "This is thread\n",
    "\n",
    "Thread th is False\n",
    "Current thread count =  1\n",
    "\n",
    "Main thread's name = MainThread\n",
    "```"
   ]
  },
  {
   "cell_type": "code",
   "execution_count": 53,
   "metadata": {},
   "outputs": [
    {
     "name": "stdout",
     "output_type": "stream",
     "text": [
      "Thread-107\n",
      "This is thread\n"
     ]
    }
   ],
   "source": [
    "t = Thread(target = threadName)\n",
    "print(t.getName()) # Returns the default name assigned to the thread during its creation\n",
    "\n",
    "t.start()\n",
    "t.join()"
   ]
  },
  {
   "cell_type": "markdown",
   "metadata": {},
   "source": [
    "# Multiprocessing\n",
    "* Ability of a system to utilise more than one processor to execute instructions at the same time.\n",
    "* It is a mode of operation in which two or more processors in a computer simultaneously process two or more different portions of the same program (set of instructions). \n",
    "* For example, different processors may be used to manage memory storage, data communications, or arithmetic functions.\n",
    "* In Python, this is used to launch multiple processes which the OS can then schedule to different logical processors (threads).\n",
    "* Multiprocessing: More than 1 process is running on a single processor.\n",
    "* Parallel Processing: 1 Process running on multiple processors.\n",
    "\n",
    "### StackOverFlow\n",
    "#### Multi Processing\n",
    "Multiprocessing is the use of two or more central processing units (CPUs) within a single computer system. \n",
    "The term also refers to the ability of a system to support more than one processor and/or the ability to allocate tasks between them.\n",
    "\n",
    "#### Parallel Processing\n",
    "In computers, parallel processing is the processing of program instructions by dividing them among multiple processors with the objective of running a program in less time. \n",
    "In the earliest computers, only one program ran at a time.\n"
   ]
  },
  {
   "cell_type": "code",
   "execution_count": 55,
   "metadata": {},
   "outputs": [
    {
     "name": "stdout",
     "output_type": "stream",
     "text": [
      "Cube of the given number if 1000Square of the given number if 4\n",
      "\n",
      "Both processes finished\n"
     ]
    }
   ],
   "source": [
    "from multiprocessing import Process\n",
    "\n",
    "def cube(num):\n",
    "    print(f\"Cube of the given number if {num ** 3}\")\n",
    "\n",
    "def square(num):\n",
    "    print(f\"Square of the given number if {num ** 2}\")\n",
    "\n",
    "p1 = Process(target = cube, args = (10,))\n",
    "p2 = Process(target = square, args = (2,))\n",
    "\n",
    "p1.start()\n",
    "p2.start()\n",
    "\n",
    "p1.join()\n",
    "p2.join()\n",
    "\n",
    "print(\"Both processes finished\")"
   ]
  },
  {
   "cell_type": "markdown",
   "metadata": {},
   "source": [
    "Output obtained when run as a normal Python file:\n",
    "\n",
    "```\n",
    "Cube of the given number if 1000\n",
    "Square of the given number if 4\n",
    "Both processes finished\n",
    "```"
   ]
  },
  {
   "cell_type": "markdown",
   "metadata": {},
   "source": [
    "# Class 10 (13.10.2021)"
   ]
  },
  {
   "cell_type": "markdown",
   "metadata": {},
   "source": [
    "## Lock Mechanisms\n",
    "Lock or a mutex is a synchronization mechanism for enforcing limits on access to a resource in an environment with multiple threads in execution."
   ]
  },
  {
   "cell_type": "code",
   "execution_count": 1,
   "metadata": {},
   "outputs": [
    {
     "name": "stdout",
     "output_type": "stream",
     "text": [
      "Initial value = 500\n",
      "Value after deposit = 1000\n",
      "Value after withdra = 500\n"
     ]
    }
   ],
   "source": [
    "from multiprocessing import Process, Lock, Value\n",
    "from time import sleep\n",
    "\n",
    "def deposit(total):\n",
    "    for i in range(100):\n",
    "        sleep(0.01)\n",
    "        total += 5\n",
    "    return total\n",
    "\n",
    "def withdraw(total):\n",
    "    for i in range(100):\n",
    "        sleep(0.01)\n",
    "        total -= 5\n",
    "    return total\n",
    "\n",
    "total = 500\n",
    "print(f\"Initial value = {total}\")\n",
    "total = deposit(total)\n",
    "print(f\"Value after deposit = {total}\")\n",
    "total = withdraw(total)\n",
    "print(f\"Value after withdra = {total}\")"
   ]
  },
  {
   "cell_type": "code",
   "execution_count": 7,
   "metadata": {},
   "outputs": [
    {
     "name": "stdout",
     "output_type": "stream",
     "text": [
      "Total Object = <Synchronized wrapper for c_int(500)>\n",
      "Initial Value = 500\n",
      "Total = 520\n"
     ]
    }
   ],
   "source": [
    "# Multiprocessing with no lock mechanisms (No Atomicity)\n",
    "\n",
    "def deposit(total):\n",
    "    for i in range(100):\n",
    "        sleep(0.01)\n",
    "        total.value += 5\n",
    "    return total\n",
    "\n",
    "def withdraw(total):\n",
    "    for i in range(100):\n",
    "        sleep(0.01)\n",
    "        total.value -= 5\n",
    "    return total\n",
    "\n",
    "# Lookup Value class\n",
    "# Value class returns a C type object which is present in the Shared Memory by default.\n",
    "# It is synchronized using R Lock Mechanism (Doubtful)\n",
    "# It is used to share information between processes (Inter Process Communication, IPC).\n",
    "# Synchronized manager server ?? (Look up)\n",
    "total = Value('i', 500) # C Type Int Object (i stands for int)\n",
    "print(f\"Total Object = {total}\")\n",
    "print(f\"Initial Value = {total.value}\")\n",
    "\n",
    "add = Process(target = deposit, args = (total,))\n",
    "sub = Process(target = withdraw, args = (total,))\n",
    "\n",
    "add.start()\n",
    "sub.start()\n",
    "\n",
    "add.join()\n",
    "sub.join()\n",
    "\n",
    "print(f\"Total = {total.value}\")"
   ]
  },
  {
   "cell_type": "code",
   "execution_count": 17,
   "metadata": {},
   "outputs": [
    {
     "name": "stdout",
     "output_type": "stream",
     "text": [
      "Lock Object = <Lock(owner=None)>\n",
      "Total Object = <Synchronized wrapper for c_int(500)>\n",
      "Initial Value = 500\n",
      "Total = 500\n"
     ]
    }
   ],
   "source": [
    "# With lock\n",
    "lock = Lock() # Lock Object\n",
    "print(f\"Lock Object = {lock}\")\n",
    "\n",
    "def deposit(total, lock):\n",
    "    for i in range(100):\n",
    "        sleep(0.01)\n",
    "        lock.acquire()\n",
    "        total.value += 5\n",
    "        lock.release()\n",
    "    return total\n",
    "\n",
    "def withdraw(total, lock):\n",
    "    for i in range(100):\n",
    "        sleep(0.01)\n",
    "        lock.acquire()\n",
    "        total.value -= 5\n",
    "        lock.release()\n",
    "    return total\n",
    "\n",
    "total = Value('i', 500) # C Type Int Object (i stands for int)\n",
    "print(f\"Total Object = {total}\")\n",
    "print(f\"Initial Value = {total.value}\")\n",
    "\n",
    "add = Process(target = deposit, args = (total, lock))\n",
    "sub = Process(target = withdraw, args = (total, lock))\n",
    "\n",
    "add.start()\n",
    "sub.start()\n",
    "\n",
    "add.join()\n",
    "sub.join()\n",
    "\n",
    "print(f\"Total = {total.value}\")"
   ]
  },
  {
   "cell_type": "markdown",
   "metadata": {},
   "source": [
    "# Race Conditions\n",
    "Look up technical definition..."
   ]
  },
  {
   "cell_type": "code",
   "execution_count": 20,
   "metadata": {},
   "outputs": [
    {
     "name": "stdout",
     "output_type": "stream",
     "text": [
      "AaaAbbBccdBdeCeCDffDgEEghhFFGGHH"
     ]
    }
   ],
   "source": [
    "from threading import *\n",
    "import random\n",
    "import sys\n",
    "from time import sleep\n",
    "\n",
    "def f1(s):\n",
    "    for i in range(0, len(s)):\n",
    "        print(s[i], end = '')\n",
    "        sys.stdout.flush() # Flush the data buffer\n",
    "        sleep(random.random()*3)\n",
    "        print(s[i], end = '')\n",
    "        sys.stdout.flush()\n",
    "        sleep(random.random()*3)\n",
    "\n",
    "t1 = Thread(target = f1, args = ('ABCDEFGH',))\n",
    "t2 = Thread(target = f1, args = ('abcdefgh',))\n",
    "\n",
    "t1.start()\n",
    "t2.start()\n",
    "\n",
    "t1.join()\n",
    "t2.join()"
   ]
  },
  {
   "cell_type": "code",
   "execution_count": 19,
   "metadata": {},
   "outputs": [
    {
     "name": "stdout",
     "output_type": "stream",
     "text": [
      "AAaabbBBccCCddeeDDffEEggFFhhGGHH"
     ]
    }
   ],
   "source": [
    "from threading import *\n",
    "import random\n",
    "import sys\n",
    "from time import sleep\n",
    "\n",
    "lock = Lock()\n",
    "\n",
    "def f1(s):\n",
    "    for i in range(0, len(s)):\n",
    "        lock.acquire()\n",
    "        print(s[i], end = '')\n",
    "        sys.stdout.flush() # Flush the data buffer\n",
    "        sleep(random.random()*3)\n",
    "        print(s[i], end = '')\n",
    "        sys.stdout.flush()\n",
    "        lock.release()\n",
    "        sleep(random.random()*3)\n",
    "\n",
    "t1 = Thread(target = f1, args = ('ABCDEFGH',))\n",
    "t2 = Thread(target = f1, args = ('abcdefgh',))\n",
    "\n",
    "t1.start()\n",
    "t2.start()\n",
    "\n",
    "t1.join()\n",
    "t2.join()"
   ]
  },
  {
   "cell_type": "markdown",
   "metadata": {},
   "source": [
    "# Class 11 (20.10.2021)"
   ]
  },
  {
   "cell_type": "markdown",
   "metadata": {},
   "source": [
    "# Semaphores\n",
    "* One of the oldest synchronization primitives in the history of Computers Science.\n",
    "* Invented by Dutch scientist Dijkstra.\n",
    "* p() and v()."
   ]
  },
  {
   "cell_type": "code",
   "execution_count": 2,
   "metadata": {},
   "outputs": [
    {
     "name": "stdout",
     "output_type": "stream",
     "text": [
      "5\n",
      "True\n",
      "4\n",
      "None\n",
      "None\n",
      "6\n"
     ]
    }
   ],
   "source": [
    "from threading import Semaphore\n",
    "\n",
    "# This is not a bounded Semaphore.\n",
    "sem = Semaphore(5) # Allows 5 threads to acquire it, i.e 5 threads can be in the critical section at a time\n",
    "\n",
    "print(sem._value)\n",
    "\n",
    "print(sem.acquire())\n",
    "\n",
    "print(sem._value)\n",
    "\n",
    "print(sem.release())\n",
    "print(sem.release()) # Can release without acquiring as well (not ideal in some cases, hence use BoundedSemaphore)\n",
    "\n",
    "print(sem._value)"
   ]
  },
  {
   "cell_type": "code",
   "execution_count": 3,
   "metadata": {},
   "outputs": [
    {
     "name": "stdout",
     "output_type": "stream",
     "text": [
      "True\n",
      "9\n",
      "None\n"
     ]
    },
    {
     "ename": "ValueError",
     "evalue": "Semaphore released too many times",
     "output_type": "error",
     "traceback": [
      "\u001b[0;31m---------------------------------------------------------------------------\u001b[0m",
      "\u001b[0;31mValueError\u001b[0m                                Traceback (most recent call last)",
      "\u001b[0;32m/tmp/ipykernel_16312/3528607408.py\u001b[0m in \u001b[0;36m<module>\u001b[0;34m\u001b[0m\n\u001b[1;32m      7\u001b[0m \u001b[0;34m\u001b[0m\u001b[0m\n\u001b[1;32m      8\u001b[0m \u001b[0mprint\u001b[0m\u001b[0;34m(\u001b[0m\u001b[0mbsem\u001b[0m\u001b[0;34m.\u001b[0m\u001b[0mrelease\u001b[0m\u001b[0;34m(\u001b[0m\u001b[0;34m)\u001b[0m\u001b[0;34m)\u001b[0m\u001b[0;34m\u001b[0m\u001b[0;34m\u001b[0m\u001b[0m\n\u001b[0;32m----> 9\u001b[0;31m \u001b[0mprint\u001b[0m\u001b[0;34m(\u001b[0m\u001b[0mbsem\u001b[0m\u001b[0;34m.\u001b[0m\u001b[0mrelease\u001b[0m\u001b[0;34m(\u001b[0m\u001b[0;34m)\u001b[0m\u001b[0;34m)\u001b[0m \u001b[0;31m# Cannot release without acquiring\u001b[0m\u001b[0;34m\u001b[0m\u001b[0;34m\u001b[0m\u001b[0m\n\u001b[0m\u001b[1;32m     10\u001b[0m \u001b[0;34m\u001b[0m\u001b[0m\n\u001b[1;32m     11\u001b[0m \u001b[0mprint\u001b[0m\u001b[0;34m(\u001b[0m\u001b[0mbsem\u001b[0m\u001b[0;34m.\u001b[0m\u001b[0m_value\u001b[0m\u001b[0;34m)\u001b[0m\u001b[0;34m\u001b[0m\u001b[0;34m\u001b[0m\u001b[0m\n",
      "\u001b[0;32m~/miniconda3/lib/python3.9/threading.py\u001b[0m in \u001b[0;36mrelease\u001b[0;34m(self, n)\u001b[0m\n\u001b[1;32m    502\u001b[0m         \u001b[0;32mwith\u001b[0m \u001b[0mself\u001b[0m\u001b[0;34m.\u001b[0m\u001b[0m_cond\u001b[0m\u001b[0;34m:\u001b[0m\u001b[0;34m\u001b[0m\u001b[0;34m\u001b[0m\u001b[0m\n\u001b[1;32m    503\u001b[0m             \u001b[0;32mif\u001b[0m \u001b[0mself\u001b[0m\u001b[0;34m.\u001b[0m\u001b[0m_value\u001b[0m \u001b[0;34m+\u001b[0m \u001b[0mn\u001b[0m \u001b[0;34m>\u001b[0m \u001b[0mself\u001b[0m\u001b[0;34m.\u001b[0m\u001b[0m_initial_value\u001b[0m\u001b[0;34m:\u001b[0m\u001b[0;34m\u001b[0m\u001b[0;34m\u001b[0m\u001b[0m\n\u001b[0;32m--> 504\u001b[0;31m                 \u001b[0;32mraise\u001b[0m \u001b[0mValueError\u001b[0m\u001b[0;34m(\u001b[0m\u001b[0;34m\"Semaphore released too many times\"\u001b[0m\u001b[0;34m)\u001b[0m\u001b[0;34m\u001b[0m\u001b[0;34m\u001b[0m\u001b[0m\n\u001b[0m\u001b[1;32m    505\u001b[0m             \u001b[0mself\u001b[0m\u001b[0;34m.\u001b[0m\u001b[0m_value\u001b[0m \u001b[0;34m+=\u001b[0m \u001b[0mn\u001b[0m\u001b[0;34m\u001b[0m\u001b[0;34m\u001b[0m\u001b[0m\n\u001b[1;32m    506\u001b[0m             \u001b[0;32mfor\u001b[0m \u001b[0mi\u001b[0m \u001b[0;32min\u001b[0m \u001b[0mrange\u001b[0m\u001b[0;34m(\u001b[0m\u001b[0mn\u001b[0m\u001b[0;34m)\u001b[0m\u001b[0;34m:\u001b[0m\u001b[0;34m\u001b[0m\u001b[0;34m\u001b[0m\u001b[0m\n",
      "\u001b[0;31mValueError\u001b[0m: Semaphore released too many times"
     ]
    }
   ],
   "source": [
    "from threading import BoundedSemaphore\n",
    "\n",
    "bsem = BoundedSemaphore(10)\n",
    "\n",
    "print(bsem.acquire())\n",
    "print(bsem._value)\n",
    "\n",
    "print(bsem.release())\n",
    "print(bsem.release()) # Cannot release without acquiring\n",
    "\n",
    "print(bsem._value)\n"
   ]
  },
  {
   "cell_type": "code",
   "execution_count": 5,
   "metadata": {},
   "outputs": [
    {
     "name": "stdout",
     "output_type": "stream",
     "text": [
      "True\n"
     ]
    },
    {
     "ename": "KeyboardInterrupt",
     "evalue": "",
     "output_type": "error",
     "traceback": [
      "\u001b[0;31m---------------------------------------------------------------------------\u001b[0m",
      "\u001b[0;31mKeyboardInterrupt\u001b[0m                         Traceback (most recent call last)",
      "\u001b[0;32m/tmp/ipykernel_16312/3797178902.py\u001b[0m in \u001b[0;36m<module>\u001b[0;34m\u001b[0m\n\u001b[1;32m      2\u001b[0m \u001b[0mprint\u001b[0m\u001b[0;34m(\u001b[0m\u001b[0msem\u001b[0m\u001b[0;34m.\u001b[0m\u001b[0macquire\u001b[0m\u001b[0;34m(\u001b[0m\u001b[0;34m)\u001b[0m\u001b[0;34m)\u001b[0m\u001b[0;34m\u001b[0m\u001b[0;34m\u001b[0m\u001b[0m\n\u001b[1;32m      3\u001b[0m \u001b[0;31m# By default, Semaphores are blocking. Hence, it blocks the thread trying to acquire it when its value is 0\u001b[0m\u001b[0;34m\u001b[0m\u001b[0;34m\u001b[0m\u001b[0;34m\u001b[0m\u001b[0m\n\u001b[0;32m----> 4\u001b[0;31m \u001b[0mprint\u001b[0m\u001b[0;34m(\u001b[0m\u001b[0msem\u001b[0m\u001b[0;34m.\u001b[0m\u001b[0macquire\u001b[0m\u001b[0;34m(\u001b[0m\u001b[0;34m)\u001b[0m\u001b[0;34m)\u001b[0m\u001b[0;34m\u001b[0m\u001b[0;34m\u001b[0m\u001b[0m\n\u001b[0m\u001b[1;32m      5\u001b[0m \u001b[0mprint\u001b[0m\u001b[0;34m(\u001b[0m\u001b[0;34m\"Acquired!\"\u001b[0m\u001b[0;34m)\u001b[0m\u001b[0;34m\u001b[0m\u001b[0;34m\u001b[0m\u001b[0m\n",
      "\u001b[0;32m~/miniconda3/lib/python3.9/threading.py\u001b[0m in \u001b[0;36macquire\u001b[0;34m(self, blocking, timeout)\u001b[0m\n\u001b[1;32m    441\u001b[0m                         \u001b[0;32mif\u001b[0m \u001b[0mtimeout\u001b[0m \u001b[0;34m<=\u001b[0m \u001b[0;36m0\u001b[0m\u001b[0;34m:\u001b[0m\u001b[0;34m\u001b[0m\u001b[0;34m\u001b[0m\u001b[0m\n\u001b[1;32m    442\u001b[0m                             \u001b[0;32mbreak\u001b[0m\u001b[0;34m\u001b[0m\u001b[0;34m\u001b[0m\u001b[0m\n\u001b[0;32m--> 443\u001b[0;31m                 \u001b[0mself\u001b[0m\u001b[0;34m.\u001b[0m\u001b[0m_cond\u001b[0m\u001b[0;34m.\u001b[0m\u001b[0mwait\u001b[0m\u001b[0;34m(\u001b[0m\u001b[0mtimeout\u001b[0m\u001b[0;34m)\u001b[0m\u001b[0;34m\u001b[0m\u001b[0;34m\u001b[0m\u001b[0m\n\u001b[0m\u001b[1;32m    444\u001b[0m             \u001b[0;32melse\u001b[0m\u001b[0;34m:\u001b[0m\u001b[0;34m\u001b[0m\u001b[0;34m\u001b[0m\u001b[0m\n\u001b[1;32m    445\u001b[0m                 \u001b[0mself\u001b[0m\u001b[0;34m.\u001b[0m\u001b[0m_value\u001b[0m \u001b[0;34m-=\u001b[0m \u001b[0;36m1\u001b[0m\u001b[0;34m\u001b[0m\u001b[0;34m\u001b[0m\u001b[0m\n",
      "\u001b[0;32m~/miniconda3/lib/python3.9/threading.py\u001b[0m in \u001b[0;36mwait\u001b[0;34m(self, timeout)\u001b[0m\n\u001b[1;32m    310\u001b[0m         \u001b[0;32mtry\u001b[0m\u001b[0;34m:\u001b[0m    \u001b[0;31m# restore state no matter what (e.g., KeyboardInterrupt)\u001b[0m\u001b[0;34m\u001b[0m\u001b[0;34m\u001b[0m\u001b[0m\n\u001b[1;32m    311\u001b[0m             \u001b[0;32mif\u001b[0m \u001b[0mtimeout\u001b[0m \u001b[0;32mis\u001b[0m \u001b[0;32mNone\u001b[0m\u001b[0;34m:\u001b[0m\u001b[0;34m\u001b[0m\u001b[0;34m\u001b[0m\u001b[0m\n\u001b[0;32m--> 312\u001b[0;31m                 \u001b[0mwaiter\u001b[0m\u001b[0;34m.\u001b[0m\u001b[0macquire\u001b[0m\u001b[0;34m(\u001b[0m\u001b[0;34m)\u001b[0m\u001b[0;34m\u001b[0m\u001b[0;34m\u001b[0m\u001b[0m\n\u001b[0m\u001b[1;32m    313\u001b[0m                 \u001b[0mgotit\u001b[0m \u001b[0;34m=\u001b[0m \u001b[0;32mTrue\u001b[0m\u001b[0;34m\u001b[0m\u001b[0;34m\u001b[0m\u001b[0m\n\u001b[1;32m    314\u001b[0m             \u001b[0;32melse\u001b[0m\u001b[0;34m:\u001b[0m\u001b[0;34m\u001b[0m\u001b[0;34m\u001b[0m\u001b[0m\n",
      "\u001b[0;31mKeyboardInterrupt\u001b[0m: "
     ]
    }
   ],
   "source": [
    "sem = Semaphore(1)\n",
    "print(sem.acquire())\n",
    "# By default, the acquire method for Semaphores is blocking. Hence, it blocks the thread trying to acquire it when its value is 0\n",
    "print(sem.acquire()) # Check if this is busy wait\n",
    "print(\"Acquired!\")"
   ]
  },
  {
   "cell_type": "code",
   "execution_count": 9,
   "metadata": {},
   "outputs": [
    {
     "name": "stdout",
     "output_type": "stream",
     "text": [
      "True\n",
      "False\n",
      "Acquired!\n"
     ]
    }
   ],
   "source": [
    "sem = Semaphore(1)\n",
    "print(sem.acquire(blocking = False))\n",
    "print(sem.acquire(blocking = False)) # When Blocking is set to False, It returns False immediately if the Semaphore cannot be acquired\n",
    "print(\"Acquired!\")"
   ]
  },
  {
   "cell_type": "code",
   "execution_count": 17,
   "metadata": {},
   "outputs": [
    {
     "name": "stdout",
     "output_type": "stream",
     "text": [
      "<threading.Semaphore object at 0x7f3c74753490> 1\n",
      "Starting Function f1\n",
      "1) Function f1 in loop\n",
      "Starting Function f2\n",
      "\n",
      "\u001b[91mFunction f2: Semaphore unavailable\u001b[0m\n",
      "\n",
      "2) Function f1 in loop\n",
      "3) Function f1 in loop\n",
      "4) Function f1 in loop\n",
      "\n",
      "\u001b[91mFunction f2: Semaphore unavailable\u001b[0m\n",
      "\n",
      "Function f1 done\n",
      "\n",
      "\u001b[92mFunction f2: Semaphore acquired\u001b[0m\n",
      "\n",
      "1) Function f2 in loop\n",
      "2) Function f2 in loop\n",
      "3) Function f2 in loop\n",
      "4) Function f2 in loop\n"
     ]
    }
   ],
   "source": [
    "from threading import Semaphore, Thread\n",
    "from time import  sleep\n",
    "\n",
    "sem = Semaphore() # Default value of Semaphore is 1\n",
    "print(sem, sem._value)\n",
    "\n",
    "def f1():\n",
    "    print(\"Starting Function f1\")\n",
    "    sem.acquire()\n",
    "    for loop in range(1, 5):\n",
    "        print(f\"{loop}) Function f1 in loop\")\n",
    "        sleep(0.02)\n",
    "    sem.release()\n",
    "    print(\"Function f1 done\")\n",
    "\n",
    "def f2():\n",
    "    print(\"Starting Function f2\")\n",
    "    while not sem.acquire(blocking = False):\n",
    "        print(\"\\n\\033[91mFunction f2: Semaphore unavailable\\033[0m\\n\")\n",
    "        sleep(0.05)\n",
    "    else:\n",
    "        print(\"\\n\\033[92mFunction f2: Semaphore acquired\\033[0m\\n\")\n",
    "        for loop in range(1, 5):\n",
    "            print(f\"{loop}) Function f2 in loop\")\n",
    "            sleep(0.02)\n",
    "    sem.release()\n",
    "\n",
    "t1 = Thread(target = f1)\n",
    "t2 = Thread(target = f2)\n",
    "\n",
    "t1.start()\n",
    "t2.start()\n",
    "\n",
    "t1.join()\n",
    "t2.join()"
   ]
  },
  {
   "cell_type": "markdown",
   "metadata": {},
   "source": [
    "# Producer Consumer Problem (PCP)\n",
    "Helps us understand concurrency.\n",
    "* Producer produces stuff and pushes it to a buffer.\n",
    "* Consumer will consume the stuff from the buffer."
   ]
  },
  {
   "cell_type": "code",
   "execution_count": 7,
   "metadata": {},
   "outputs": [
    {
     "name": "stdout",
     "output_type": "stream",
     "text": [
      "\u001b[93mProducer: \u001b[92mProduced 3\u001b[0m\n",
      "\u001b[94mConsumer: \u001b[92mConsumed 3\u001b[0m\n",
      "\u001b[94mConsumer: \u001b[91mQueue Empty\u001b[0m\n",
      "\u001b[93mProducer: \u001b[92mProduced 1\u001b[0m\n",
      "\u001b[93mProducer: \u001b[92mProduced 3\u001b[0m\n",
      "\u001b[94mConsumer: \u001b[92mConsumed 1\u001b[0m\n",
      "\u001b[94mConsumer: \u001b[92mConsumed 3\u001b[0m\n",
      "\u001b[93mProducer: \u001b[92mProduced 2\u001b[0m\n",
      "\u001b[94mConsumer: \u001b[92mConsumed 2\u001b[0m\n",
      "\u001b[93mProducer: \u001b[92mProduced 4\u001b[0m\n",
      "\u001b[94mConsumer: \u001b[92mConsumed 4\u001b[0m\n",
      "\u001b[93mProducer: \u001b[92mProduced 4\u001b[0m\n",
      "\u001b[94mConsumer: \u001b[92mConsumed 4\u001b[0m\n",
      "\u001b[93mProducer: \u001b[92mProduced 3\u001b[0m\n",
      "\u001b[94mConsumer: \u001b[92mConsumed 3\u001b[0m\n",
      "\u001b[93mProducer: \u001b[92mProduced 1\u001b[0m\n",
      "\u001b[94mConsumer: \u001b[92mConsumed 1\u001b[0m\n",
      "\u001b[94mConsumer: \u001b[91mQueue Empty\u001b[0m\n",
      "\u001b[93mProducer: \u001b[92mProduced 1\u001b[0m\n",
      "\u001b[93mProducer: \u001b[92mProduced 0\u001b[0m\n"
     ]
    }
   ],
   "source": [
    "from threading import Thread, Lock\n",
    "from time import  sleep\n",
    "from random import choice, random\n",
    "\n",
    "queue = []\n",
    "lock = Lock()\n",
    "\n",
    "RED = \"\\033[91m\"\n",
    "GREEN = \"\\033[92m\"\n",
    "RESET = \"\\033[0m\"\n",
    "C1 = \"\\033[93m\"\n",
    "C2 = \"\\033[94m\"\n",
    "\n",
    "class Producer(Thread):\n",
    "    def run(self):\n",
    "        nums = range(5)\n",
    "        global queue\n",
    "        for i in range(10):\n",
    "            num = choice(nums)\n",
    "            with lock:\n",
    "                queue.append(num)\n",
    "                print(f\"{C1}Producer: {GREEN}Produced {num}{RESET}\")\n",
    "            sleep(random())\n",
    "\n",
    "class Consumer(Thread):\n",
    "    def run(self):\n",
    "        global queue\n",
    "        for i in range(10):\n",
    "            with lock:\n",
    "                if not queue: \n",
    "                    print(f\"{C2}Consumer: {RED}Queue Empty{RESET}\")\n",
    "                else:\n",
    "                    num = queue.pop(0)\n",
    "                    print(f\"{C2}Consumer: {GREEN}Consumed {num}{RESET}\")\n",
    "            sleep(random())\n",
    "\n",
    "Producer().start()\n",
    "Consumer().start()               "
   ]
  },
  {
   "cell_type": "markdown",
   "metadata": {},
   "source": [
    "# Class 12 (25.10.2021)"
   ]
  },
  {
   "cell_type": "markdown",
   "metadata": {},
   "source": [
    "# Condition Object\n",
    "* Allows one or more threads to wait until notified by another thread.\n",
    "* This can be used to prevent concurrency bugs.\n",
    "* Conditions are associated with locks and have two methods --> acquire() and release()"
   ]
  },
  {
   "cell_type": "code",
   "execution_count": 1,
   "metadata": {},
   "outputs": [
    {
     "name": "stdout",
     "output_type": "stream",
     "text": [
      "\u001b[93mProducer: \u001b[92mProduced 0\u001b[0m\n",
      "\u001b[94mConsumer: \u001b[92mConsumed 0\u001b[0m\n",
      "\u001b[93mProducer: \u001b[92mProduced 1\u001b[0m\n",
      "\u001b[94mConsumer: \u001b[92mConsumed 1\u001b[0m\n",
      "\u001b[93mProducer: \u001b[92mProduced 2\u001b[0m\n",
      "\u001b[94mConsumer: \u001b[92mConsumed 2\u001b[0m\n",
      "\u001b[94mConsumer: \u001b[91mQueue Empty\u001b[0m\n",
      "\u001b[93mProducer: \u001b[92mProduced 4\u001b[0m\n",
      "\u001b[94mConsumer: \u001b[92mConsumed 4\u001b[0m\n",
      "\u001b[94mConsumer: \u001b[91mQueue Empty\u001b[0m\n",
      "\u001b[93mProducer: \u001b[92mProduced 0\u001b[0m\n",
      "\u001b[94mConsumer: \u001b[92mConsumed 0\u001b[0m\n",
      "\u001b[94mConsumer: \u001b[91mQueue Empty\u001b[0m\n",
      "\u001b[93mProducer: \u001b[92mProduced 1\u001b[0m\n",
      "\u001b[94mConsumer: \u001b[92mConsumed 1\u001b[0m\n",
      "\u001b[93mProducer: \u001b[92mProduced 4\u001b[0m\n",
      "\u001b[94mConsumer: \u001b[92mConsumed 4\u001b[0m\n",
      "\u001b[93mProducer: \u001b[92mProduced 1\u001b[0m\n",
      "\u001b[94mConsumer: \u001b[92mConsumed 1\u001b[0m\n",
      "\u001b[93mProducer: \u001b[92mProduced 4\u001b[0m\n",
      "\u001b[93mProducer: \u001b[92mProduced 4\u001b[0m\n",
      "\u001b[94mConsumer: \u001b[92mConsumed 4\u001b[0m\n",
      "\u001b[94mConsumer: \u001b[92mConsumed 4\u001b[0m\n",
      "\u001b[93mProducer: \u001b[92mProduced 1\u001b[0m\n",
      "\u001b[94mConsumer: \u001b[92mConsumed 1\u001b[0m\n",
      "\u001b[93mProducer: \u001b[92mProduced 3\u001b[0m\n",
      "\u001b[94mConsumer: \u001b[92mConsumed 3\u001b[0m\n",
      "\u001b[94mConsumer: \u001b[91mQueue Empty\u001b[0m\n",
      "\u001b[93mProducer: \u001b[92mProduced 4\u001b[0m\n",
      "\u001b[94mConsumer: \u001b[92mConsumed 4\u001b[0m\n",
      "\u001b[93mProducer: \u001b[92mProduced 0\u001b[0m\n",
      "\u001b[93mProducer: \u001b[92mProduced 4\u001b[0m\n",
      "\u001b[93mProducer: \u001b[92mProduced 1\u001b[0m\n",
      "\u001b[93mProducer: \u001b[92mProduced 4\u001b[0m\n",
      "\u001b[94mConsumer: \u001b[92mConsumed 0\u001b[0m\n",
      "\u001b[93mProducer: \u001b[92mProduced 4\u001b[0m\n",
      "\u001b[94mConsumer: \u001b[92mConsumed 4\u001b[0m\n",
      "\u001b[93mProducer: \u001b[92mProduced 3\u001b[0m\n",
      "\u001b[94mConsumer: \u001b[92mConsumed 1\u001b[0m\n",
      "\u001b[94mConsumer: \u001b[92mConsumed 4\u001b[0m\n",
      "\u001b[93mProducer: \u001b[92mProduced 0\u001b[0m\n",
      "\u001b[94mConsumer: \u001b[92mConsumed 4\u001b[0m\n",
      "\u001b[94mConsumer: \u001b[92mConsumed 3\u001b[0m\n",
      "\u001b[94mConsumer: \u001b[92mConsumed 0\u001b[0m\n"
     ]
    }
   ],
   "source": [
    "from threading import Thread, Condition\n",
    "from time import  sleep\n",
    "from random import choice, random\n",
    "\n",
    "simulationLength = range(20)\n",
    "queue = []\n",
    "maxNum = 5\n",
    "condition = Condition()\n",
    "\n",
    "RED = \"\\033[91m\"\n",
    "GREEN = \"\\033[92m\"\n",
    "RESET = \"\\033[0m\"\n",
    "C1 = \"\\033[93m\"\n",
    "C2 = \"\\033[94m\"\n",
    "\n",
    "class Producer(Thread):\n",
    "    def run(self):\n",
    "        nums = range(5)\n",
    "        global queue\n",
    "        for i in simulationLength:\n",
    "            num = choice(nums)\n",
    "            condition.acquire()\n",
    "            if len(queue) == maxNum: \n",
    "                print(f\"{C1}Producer: {RED}Queue Full{RESET}\")\n",
    "                condition.wait() # Wait for Consumer to notify after it has consumed something and made room for new products in the queue\n",
    "            queue.append(num)\n",
    "            print(f\"{C1}Producer: {GREEN}Produced {num}{RESET}\")\n",
    "            condition.notify() # Notify the consumer that a new product has been produced\n",
    "            condition.release()\n",
    "            sleep(random())\n",
    "\n",
    "class Consumer(Thread):\n",
    "    def run(self):\n",
    "        global queue\n",
    "        for i in simulationLength:\n",
    "            condition.acquire()\n",
    "            if not queue: \n",
    "                print(f\"{C2}Consumer: {RED}Queue Empty{RESET}\")\n",
    "                condition.wait() # Wait for Producer to add something the queue\n",
    "            num = queue.pop(0)\n",
    "            print(f\"{C2}Consumer: {GREEN}Consumed {num}{RESET}\")\n",
    "            condition.notify() # Notify the producer to add something to the queue\n",
    "            condition.release()\n",
    "            sleep(random())\n",
    "\n",
    "Producer().start()\n",
    "Consumer().start()               "
   ]
  },
  {
   "cell_type": "code",
   "execution_count": null,
   "metadata": {},
   "outputs": [],
   "source": []
  }
 ],
 "metadata": {
  "interpreter": {
   "hash": "96287154c02bd33d964264908876ff144eece4cbcf76f7700a55934c72d2f956"
  },
  "kernelspec": {
   "display_name": "Python 3.9.5 64-bit ('base': conda)",
   "name": "python3"
  },
  "language_info": {
   "codemirror_mode": {
    "name": "ipython",
    "version": 3
   },
   "file_extension": ".py",
   "mimetype": "text/x-python",
   "name": "python",
   "nbconvert_exporter": "python",
   "pygments_lexer": "ipython3",
   "version": "3.9.5"
  },
  "orig_nbformat": 4
 },
 "nbformat": 4,
 "nbformat_minor": 2
}
