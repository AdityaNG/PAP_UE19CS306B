{
 "cells": [
  {
   "cell_type": "markdown",
   "metadata": {},
   "source": [
    "# Class 12 (25.10.2021)"
   ]
  },
  {
   "cell_type": "markdown",
   "metadata": {},
   "source": [
    "# SQLite\n",
    "SQLite is a software library that implements a self-contained, serverless, zero-configuration, transactional SQL database engine. It is the most widely deployed SQL database engine in the world. The source code for SQLite is in the public domain.\n",
    "SQLite is not directly comparable to Client/Server SQL database engines such as MySQL, Oracle, PostgreSQL, or SQL Server since SQLite is trying to solve a different problem. \n",
    "Client/Server SQL database engines strive to implement a shared repository of enterprise data. They emphasize scalability, concurrency, centralization, and control. SQLite strives to provide local data storage for individual applications and devices. SQLite emphasizes economy, efficiency, reliability, independence, and simplicity. \n",
    "\n",
    "## When to avoid SQLite?\n",
    "* When there are many client programs sending SQL requests to the same database over the network, a Client-Server databse would be better than SQLite.\n",
    "* High volume websites (database has to be write intensive).<br/>\n",
    "  SQLite will normally work fine as the database backend to a website. But if the website is write-intensive or is so busy that it requires multiple servers, then consider using an enterprise-class Client-Server database engine instead of SQLite.\n",
    "* Very large scale databases. (SQLite is limited to 140TB {(247 bytes, 128 tibibytes)})\n",
    "* High Concurrency<br/>\n",
    "  SQLite supports an unlimited number of simultaneous readers, but it will only allow one writer at any instant in time.\n",
    "\n",
    "## Connection objects\n",
    "Connection objects create a connection with the database and these are further used for different transactions. These connection objects are also used as representatives of the database session.\n",
    "You can use a connection object for calling methods like **commit()**, **rollback()** and **close()**\n",
    "\n",
    "### Cursor objects\n",
    "Cursor is one of the powerful features of SQL. These are objects that are responsible for submitting various SQL statements to a database server. \n",
    "\n",
    "<br/>\n",
    " \n",
    "```python \n",
    "sqlite3.connect(database [,timeout ,other optional arguments])\n",
    "```\n",
    "This API opens a connection to the SQLite database file. You can use **\":memory:\"** to open a database connection to a database that resides in RAM instead of on disk. If database is opened successfully, it returns a connection object.\n",
    "When a database is accessed by multiple connections, and one of the processes modifies the database, the SQLite database is locked until that transaction is committed. The timeout parameter specifies how long the connection should wait for the lock to go away until raising an exception. The default for the timeout parameter is 5.0 (five seconds).\n",
    "If the given database name does not exist then this call will create the database. You can specify filename with the required path as well if you want to create a database anywhere else (other than the current directory).\n",
    "\n",
    "\n",
    "<br/>\n",
    "\n",
    "```python\n",
    "connection.cursor([cursorClass])\n",
    "```\n",
    "This routine creates a cursor which will be used throughout our database programming with Python. This method accepts a single optional parameter **cursorClass**. If supplied, this must be a custom cursor class that extends **sqlite3.Cursor**.\n",
    "\n",
    "\n",
    "<br/>\n",
    "\n",
    "```python \n",
    "cursor.execute(sql [, optional parameters])\n",
    "```\n",
    "This routine executes an SQL statement. The SQL statement may be parameterized (i.e, placeholders instead of SQL literals). The sqlite3 module supports two kinds of placeholders: question marks and named placeholders (named style).\n",
    "For example − **cursor.execute(\"insert into people values (?, ?)\", (who, age))**\n",
    "\n",
    "\n",
    "<br/>\n",
    "\n",
    "```python \n",
    "connection.commit()\n",
    "```\n",
    "This method commits the current transaction. If you don't call this method, anything you did since the last call to commit() is not visible from other database connections.\n",
    "\n",
    "\n",
    "<br/>\n",
    "\n",
    "```python \n",
    "connection.rollback()\n",
    "```\n",
    "This method rolls back any changes to the database since the last call to commit\n",
    "\n",
    "\n",
    "<br/>\n",
    "\n",
    "```python\n",
    "connection.close()\n",
    "```\n",
    "This method closes the database connection. Note that this does not automatically call commit(). If you just close your database connection without calling commit() first, your changes will be lost!"
   ]
  },
  {
   "cell_type": "code",
   "execution_count": 1,
   "metadata": {},
   "outputs": [],
   "source": [
    "import sqlite3\n",
    "\n",
    "# Connecting to Database\n",
    "connection = sqlite3.connect(\"College.db\") # If database is not existing, it will be created and stored on hard disk\n",
    "cursor = connection.cursor() # Cursor object is used to perform actions on the database (SQL statements)"
   ]
  },
  {
   "cell_type": "code",
   "execution_count": 2,
   "metadata": {},
   "outputs": [
    {
     "data": {
      "text/plain": [
       "<sqlite3.Cursor at 0x7f42a6400960>"
      ]
     },
     "execution_count": 2,
     "metadata": {},
     "output_type": "execute_result"
    }
   ],
   "source": [
    "# Creating tables\n",
    "#connection.execute(\"create table tab1(name char(20), age integer)\") # This also works\n",
    "cursor.execute(\"create table tab1(name char(20), age integer)\")\n",
    "cursor.execute(\"create table tab2(name char(20), age integer)\")"
   ]
  },
  {
   "cell_type": "code",
   "execution_count": 3,
   "metadata": {},
   "outputs": [
    {
     "data": {
      "text/plain": [
       "<sqlite3.Cursor at 0x7f42a6400960>"
      ]
     },
     "execution_count": 3,
     "metadata": {},
     "output_type": "execute_result"
    }
   ],
   "source": [
    "# Inserting values\n",
    "cursor.execute(\"insert into tab1 values('xyz', 21)\")\n",
    "cursor.execute(\"insert into tab2 values('abc', 12)\")\n",
    "\n",
    "# Using placeholders\n",
    "info = ('efg', 54)\n",
    "cursor.execute(\"insert into tab1(name, age) values(?, ?)\", info)"
   ]
  },
  {
   "cell_type": "code",
   "execution_count": 4,
   "metadata": {},
   "outputs": [
    {
     "name": "stdout",
     "output_type": "stream",
     "text": [
      "('xyz', 21)\n",
      "('efg', 54)\n",
      "-------------------\n",
      "('abc', 12)\n"
     ]
    }
   ],
   "source": [
    "# Displaying the table\n",
    "tab1 = cursor.execute(\"select * from tab1\")\n",
    "for i in tab1: print(i)\n",
    "\n",
    "print(\"-------------------\")\n",
    "\n",
    "tab2 = cursor.execute(\"select * from tab2\")\n",
    "for i in tab2: print(i)"
   ]
  },
  {
   "cell_type": "code",
   "execution_count": 5,
   "metadata": {},
   "outputs": [],
   "source": [
    "connection.commit()\n",
    "connection.close() # Closing the connection to the database"
   ]
  },
  {
   "cell_type": "markdown",
   "metadata": {},
   "source": [
    "## Creating the Database in RAM"
   ]
  },
  {
   "cell_type": "code",
   "execution_count": 6,
   "metadata": {},
   "outputs": [
    {
     "name": "stdout",
     "output_type": "stream",
     "text": [
      "('Abc', 21)\n"
     ]
    }
   ],
   "source": [
    "import sqlite3\n",
    "\n",
    "# Each time a DB is created in RAM, it occupies a new region of memory. Hence one can create multiple independent DBs in RAM\n",
    "connection =  sqlite3.connect(\":memory:\") # DB is created in RAM instead of HDD\n",
    "cursor = connection.cursor()\n",
    "cursor.execute(\"create table people(name, age)\")\n",
    "\n",
    "# QMark Style of insertion\n",
    "who = 'Abc'\n",
    "age = 21\n",
    "cursor.execute(\"insert into people values(?,?)\", (who, age))\n",
    "\n",
    "# Named Style of insertion\n",
    "cursor.execute(\"select * from people where name = :who and age = :age\", {\"who\":who, \"age\":age})\n",
    "print(cursor.fetchone())\n",
    "\n",
    "connection.close()"
   ]
  },
  {
   "cell_type": "markdown",
   "metadata": {},
   "source": [
    "## Commit"
   ]
  },
  {
   "cell_type": "code",
   "execution_count": 7,
   "metadata": {},
   "outputs": [],
   "source": [
    "import sqlite3\n",
    "connection = sqlite3.connect(\"Company.db\")"
   ]
  },
  {
   "cell_type": "code",
   "execution_count": 8,
   "metadata": {},
   "outputs": [
    {
     "data": {
      "text/plain": [
       "<sqlite3.Cursor at 0x7f42a433a110>"
      ]
     },
     "execution_count": 8,
     "metadata": {},
     "output_type": "execute_result"
    }
   ],
   "source": [
    "connection.execute('''\n",
    "    create table Company (\n",
    "        ID int primary key not null,\n",
    "        Name text not null,\n",
    "        Age int not null,\n",
    "        Address char(50),\n",
    "        Salary real\n",
    "    );\n",
    "''')"
   ]
  },
  {
   "cell_type": "code",
   "execution_count": 9,
   "metadata": {},
   "outputs": [
    {
     "name": "stdout",
     "output_type": "stream",
     "text": [
      "3 Records inserted successfully\n"
     ]
    }
   ],
   "source": [
    "connection.execute('''\n",
    "    insert into Company (ID, Name, Age, Address, Salary) values\n",
    "        (1, 'ABC', 21, 'Bengaluru 560050', 1200000),\n",
    "        (2, 'DEF', 22, 'Bengaluru 560040', 1100000),\n",
    "        (3, 'GHI', 20, 'Bengaluru 560051', 1250000);\n",
    "''')\n",
    "\n",
    "connection.commit()\n",
    "print(f\"{connection.total_changes} Records inserted successfully\")"
   ]
  },
  {
   "cell_type": "code",
   "execution_count": 10,
   "metadata": {},
   "outputs": [
    {
     "name": "stdout",
     "output_type": "stream",
     "text": [
      "{'ID': 1, 'Name': 'ABC', 'Age': 21, 'Address': 'Bengaluru 560050', 'Salary': 1200000.0}\n",
      "{'ID': 2, 'Name': 'DEF', 'Age': 22, 'Address': 'Bengaluru 560040', 'Salary': 1100000.0}\n",
      "{'ID': 3, 'Name': 'GHI', 'Age': 20, 'Address': 'Bengaluru 560051', 'Salary': 1250000.0}\n"
     ]
    }
   ],
   "source": [
    "items = connection.execute(\"select * from Company\")\n",
    "columns = (\"ID\", \"Name\", \"Age\", \"Address\", \"Salary\")\n",
    "for item in items: print(dict(zip(columns, item)))"
   ]
  },
  {
   "cell_type": "code",
   "execution_count": 11,
   "metadata": {},
   "outputs": [
    {
     "name": "stdout",
     "output_type": "stream",
     "text": [
      "{'ID': 1, 'Name': 'ABC', 'Age': 21, 'Address': 'Bengaluru 560050', 'Salary': 1200000.0}\n",
      "{'ID': 2, 'Name': 'DEF', 'Age': 22, 'Address': 'Bengaluru 560040', 'Salary': 1100000.0}\n",
      "{'ID': 3, 'Name': 'GHI', 'Age': 20, 'Address': 'Bengaluru 560051', 'Salary': 3000000.0}\n"
     ]
    }
   ],
   "source": [
    "connection.execute(\"update Company set Salary = 3000000 where ID = 3\")\n",
    "\n",
    "items = connection.execute(\"select * from Company\")\n",
    "columns = (\"ID\", \"Name\", \"Age\", \"Address\", \"Salary\")\n",
    "for item in items: print(dict(zip(columns, item)))"
   ]
  },
  {
   "cell_type": "code",
   "execution_count": 12,
   "metadata": {},
   "outputs": [],
   "source": [
    "connection.close()"
   ]
  },
  {
   "cell_type": "markdown",
   "metadata": {},
   "source": [
    "# Class 13 (8.11.2021)"
   ]
  },
  {
   "cell_type": "markdown",
   "metadata": {},
   "source": [
    "# Fetching all rows of a query result\n",
    "* **cursor.fetchall()** <br/>\n",
    "  Fetches all rows of a query result.<br/>\n",
    "  It returns all rows as list of tuples.<br/>\n",
    "  An empty list will be returned if there are no records to fetch.<br/><br/>\n",
    "\n",
    "* **cursor.fetchmany(size)** <br/>\n",
    "  Returns the number of rows specified by the size argument.<br/>\n",
    "  It fetches the next set of rows when called repeatedly.<br/>\n",
    "  Default value for size is 1.<br/>\n",
    "  This also returns a list of tuples (an empty list will be returned if there are no records to fetch).<br/><br/>\n",
    "\n",
    "* **cursor.fetchone()** <br/>\n",
    "  Returns a single row that matches the condition. (None is returned if there are no rows to fetch).\n"
   ]
  },
  {
   "cell_type": "code",
   "execution_count": 13,
   "metadata": {},
   "outputs": [],
   "source": [
    "import sqlite3\n",
    "connection = sqlite3.connect(\":memory:\")\n",
    "cursor = connection.cursor()"
   ]
  },
  {
   "cell_type": "code",
   "execution_count": 14,
   "metadata": {},
   "outputs": [
    {
     "data": {
      "text/plain": [
       "<sqlite3.Cursor at 0x7f42a433a8f0>"
      ]
     },
     "execution_count": 14,
     "metadata": {},
     "output_type": "execute_result"
    }
   ],
   "source": [
    "# Only one statement can be executed at a time. \n",
    "# Hence we need to write two connection.execute() statements or use connection.executemany()\n",
    "connection.execute('''\n",
    "    create table supplier_groups(\n",
    "        group_id int primary key,\n",
    "        group_name text not null\n",
    "    );\n",
    "''')\n",
    "\n",
    "connection.execute('''\n",
    "    create table suppliers(\n",
    "        supplier_id int primary key,\n",
    "        supplier_name text not null,\n",
    "        group_id int not null,\n",
    "        foreign key(group_id) references supplier_groups(group_id)\n",
    "    );\n",
    "''')"
   ]
  },
  {
   "cell_type": "code",
   "execution_count": 15,
   "metadata": {},
   "outputs": [
    {
     "data": {
      "text/plain": [
       "<sqlite3.Cursor at 0x7f42a433aab0>"
      ]
     },
     "execution_count": 15,
     "metadata": {},
     "output_type": "execute_result"
    }
   ],
   "source": [
    "connection.execute('''\n",
    "    insert into supplier_groups values (1, 'abc'), (2, 'abc'), (3, 'xyz'), (4, 'efg');\n",
    "''')"
   ]
  },
  {
   "cell_type": "code",
   "execution_count": 16,
   "metadata": {},
   "outputs": [
    {
     "name": "stdout",
     "output_type": "stream",
     "text": [
      "(1, 'abc')\n",
      "(2, 'abc')\n",
      "(3, 'xyz')\n",
      "(4, 'efg')\n"
     ]
    }
   ],
   "source": [
    "ret = connection.execute(\"select * from supplier_groups\")\n",
    "for group in ret:\n",
    "    print(group)"
   ]
  },
  {
   "cell_type": "code",
   "execution_count": 17,
   "metadata": {},
   "outputs": [
    {
     "name": "stdout",
     "output_type": "stream",
     "text": [
      "[(1, 'abc')]\n"
     ]
    }
   ],
   "source": [
    "cursor.execute(\"select * from supplier_groups\")\n",
    "p = cursor.fetchmany() # Default size is one\n",
    "print(p)"
   ]
  },
  {
   "cell_type": "code",
   "execution_count": 18,
   "metadata": {},
   "outputs": [
    {
     "name": "stdout",
     "output_type": "stream",
     "text": [
      "[(1, 'abc'), (2, 'abc')]\n",
      "[(3, 'xyz'), (4, 'efg')]\n"
     ]
    }
   ],
   "source": [
    "cursor.execute(\"select * from supplier_groups\")\n",
    "p1 = cursor.fetchmany(2)\n",
    "p2 = cursor.fetchmany(2)\n",
    "print(p1)\n",
    "print(p2)"
   ]
  },
  {
   "cell_type": "code",
   "execution_count": 19,
   "metadata": {},
   "outputs": [
    {
     "name": "stdout",
     "output_type": "stream",
     "text": [
      "[(1, 'abc'), (2, 'abc'), (3, 'xyz'), (4, 'efg')]\n"
     ]
    }
   ],
   "source": [
    "cursor.execute(\"select * from supplier_groups\")\n",
    "all = cursor.fetchall()\n",
    "print(all)"
   ]
  },
  {
   "cell_type": "code",
   "execution_count": 20,
   "metadata": {},
   "outputs": [
    {
     "name": "stdout",
     "output_type": "stream",
     "text": [
      "(1, 'abc')\n"
     ]
    }
   ],
   "source": [
    "cursor.execute(\"select * from supplier_groups\")\n",
    "one = cursor.fetchone()\n",
    "print(one)"
   ]
  },
  {
   "cell_type": "code",
   "execution_count": 21,
   "metadata": {},
   "outputs": [
    {
     "name": "stdout",
     "output_type": "stream",
     "text": [
      "[(1, 'abc'), (2, 'abc'), (3, 'xyz'), (4, 'efg')]\n"
     ]
    }
   ],
   "source": [
    "ret = connection.execute(\"select * from supplier_groups\")\n",
    "print(ret.fetchall())"
   ]
  },
  {
   "cell_type": "code",
   "execution_count": 22,
   "metadata": {},
   "outputs": [
    {
     "name": "stdout",
     "output_type": "stream",
     "text": [
      "(1, 'abc')\n"
     ]
    }
   ],
   "source": [
    "ret = connection.execute(\"select * from supplier_groups\")\n",
    "print(ret.fetchone())"
   ]
  },
  {
   "cell_type": "code",
   "execution_count": 23,
   "metadata": {},
   "outputs": [
    {
     "name": "stdout",
     "output_type": "stream",
     "text": [
      "[(1, 'abc'), (2, 'abc')]\n",
      "[(3, 'xyz'), (4, 'efg')]\n"
     ]
    }
   ],
   "source": [
    "ret = connection.execute(\"select * from supplier_groups\")\n",
    "print(ret.fetchmany(2))\n",
    "print(ret.fetchmany(2))"
   ]
  },
  {
   "cell_type": "code",
   "execution_count": 24,
   "metadata": {},
   "outputs": [],
   "source": [
    "connection.close()"
   ]
  },
  {
   "cell_type": "markdown",
   "metadata": {},
   "source": [
    "# SQLAlchemy (A powerful Open Source, Cross Platform SQL toolkit written in Python)\n",
    "* This is a powerful database access toolkit for Python.\n",
    "* It has Object Relational Mapper (ORM).\n",
    "* ORM sits between SQLite database and Python program and transforms the dataflow between the database engine and Python object.\n",
    "* SQLAlchemy allows us to think in terms of objects, i.e, provides an OOPS abstraction to SQL databases.\n",
    "+ ORM is a programming technique for converting the data between incompatible type systems in Object Oriented Programming Languages.\n",
    "+ The type system used in OOP languages like Python is Non Scalar, i.e, they cannot be expressed in terms of primitive datatypes like int, float, char, etc.\n",
    "+ OOP languages therefore have to convert Non Scalar data into Scalar in order to interact with the backend data.\n",
    "+ ORM maps a class to a table. This saves us from writing tedious database interface codes."
   ]
  },
  {
   "cell_type": "code",
   "execution_count": 25,
   "metadata": {},
   "outputs": [
    {
     "name": "stdout",
     "output_type": "stream",
     "text": [
      "Requirement already satisfied: sqlalchemy in /home/dhruval/miniconda3/lib/python3.9/site-packages (1.4.27)\n",
      "Requirement already satisfied: greenlet!=0.4.17 in /home/dhruval/miniconda3/lib/python3.9/site-packages (from sqlalchemy) (1.1.2)\n"
     ]
    }
   ],
   "source": [
    "!pip install sqlalchemy"
   ]
  },
  {
   "cell_type": "code",
   "execution_count": 26,
   "metadata": {},
   "outputs": [
    {
     "name": "stdout",
     "output_type": "stream",
     "text": [
      "1.4.27\n"
     ]
    }
   ],
   "source": [
    "import sqlalchemy\n",
    "print(sqlalchemy.__version__)"
   ]
  },
  {
   "cell_type": "markdown",
   "metadata": {},
   "source": [
    "# Engine Class\n",
    "* Connects a *Pool* and *Dialect* together. \n",
    "* This provides a source for database connectivity and behaviour.\n",
    "* An object of Engine class is created using the *create_engine* function."
   ]
  },
  {
   "cell_type": "code",
   "execution_count": 27,
   "metadata": {},
   "outputs": [
    {
     "name": "stdout",
     "output_type": "stream",
     "text": [
      "2021-11-12 14:40:26,576 INFO sqlalchemy.engine.Engine BEGIN (implicit)\n",
      "2021-11-12 14:40:26,579 INFO sqlalchemy.engine.Engine PRAGMA main.table_info(\"Sections\")\n",
      "2021-11-12 14:40:26,582 INFO sqlalchemy.engine.Engine [raw sql] ()\n",
      "2021-11-12 14:40:26,589 INFO sqlalchemy.engine.Engine PRAGMA temp.table_info(\"Sections\")\n",
      "2021-11-12 14:40:26,592 INFO sqlalchemy.engine.Engine [raw sql] ()\n",
      "2021-11-12 14:40:26,597 INFO sqlalchemy.engine.Engine PRAGMA main.table_info(\"Students\")\n",
      "2021-11-12 14:40:26,600 INFO sqlalchemy.engine.Engine [raw sql] ()\n",
      "2021-11-12 14:40:26,604 INFO sqlalchemy.engine.Engine PRAGMA temp.table_info(\"Students\")\n",
      "2021-11-12 14:40:26,606 INFO sqlalchemy.engine.Engine [raw sql] ()\n",
      "2021-11-12 14:40:26,614 INFO sqlalchemy.engine.Engine \n",
      "CREATE TABLE \"Sections\" (\n",
      "\t\"ID\" INTEGER NOT NULL, \n",
      "\t\"Floor\" INTEGER, \n",
      "\tPRIMARY KEY (\"ID\")\n",
      ")\n",
      "\n",
      "\n",
      "2021-11-12 14:40:26,616 INFO sqlalchemy.engine.Engine [no key 0.00215s] ()\n",
      "2021-11-12 14:40:26,781 INFO sqlalchemy.engine.Engine \n",
      "CREATE TABLE \"Students\" (\n",
      "\t\"ID\" INTEGER NOT NULL, \n",
      "\t\"Name\" VARCHAR, \n",
      "\t\"LastName\" VARCHAR, \n",
      "\t\"Section\" INTEGER, \n",
      "\tPRIMARY KEY (\"ID\"), \n",
      "\tFOREIGN KEY(\"Section\") REFERENCES \"Sections\" (\"ID\")\n",
      ")\n",
      "\n",
      "\n",
      "2021-11-12 14:40:26,784 INFO sqlalchemy.engine.Engine [no key 0.00254s] ()\n",
      "2021-11-12 14:40:26,968 INFO sqlalchemy.engine.Engine COMMIT\n"
     ]
    }
   ],
   "source": [
    "from sqlalchemy import create_engine, MetaData, Table, Column, String, Integer, ForeignKey\n",
    "\n",
    "# SQL Expression language constructs its expressions against table columns\n",
    "engine = create_engine('sqlite:///College.db', echo = True) # echo makes the output (SQL statements) verbose\n",
    "\n",
    "# MetaData is a collection of table objects and their associated schema constructs.\n",
    "meta = MetaData() # Contains info about the tables and associated objects like index, view, triggers, etc.\n",
    "\n",
    "# Creating tables\n",
    "sections = Table(\n",
    "    'Sections', meta,\n",
    "    Column('ID', Integer, primary_key = True),\n",
    "    Column('Floor', Integer)\n",
    ")\n",
    "\n",
    "students = Table(\n",
    "    'Students', meta,\n",
    "    Column('ID', Integer, primary_key = True),\n",
    "    Column('Name', String),\n",
    "    Column('LastName', String),\n",
    "    Column('Section', Integer, ForeignKey('Sections.ID')),\n",
    ")\n",
    "\n",
    "meta.create_all(engine) # Creates the table\n",
    "connection = engine.connect()"
   ]
  },
  {
   "cell_type": "markdown",
   "metadata": {},
   "source": [
    "# Class 14 (10.11.2021)"
   ]
  },
  {
   "cell_type": "code",
   "execution_count": 28,
   "metadata": {},
   "outputs": [
    {
     "name": "stdout",
     "output_type": "stream",
     "text": [
      "2021-11-12 14:40:27,012 INFO sqlalchemy.engine.Engine INSERT INTO \"Sections\" (\"ID\", \"Floor\") VALUES (?, ?)\n",
      "2021-11-12 14:40:27,014 INFO sqlalchemy.engine.Engine [generated in 0.00227s] ((1, 1), (2, 0))\n",
      "2021-11-12 14:40:27,016 INFO sqlalchemy.engine.Engine COMMIT\n",
      "2021-11-12 14:40:27,150 INFO sqlalchemy.engine.Engine INSERT INTO \"Students\" (\"ID\", \"Name\", \"LastName\", \"Section\") VALUES (?, ?, ?, ?)\n",
      "2021-11-12 14:40:27,151 INFO sqlalchemy.engine.Engine [generated in 0.00120s] ((1, 'Abc', 'Efg', 2), (2, 'Def', 'Ghi', 1))\n",
      "2021-11-12 14:40:27,152 INFO sqlalchemy.engine.Engine COMMIT\n"
     ]
    },
    {
     "data": {
      "text/plain": [
       "<sqlalchemy.engine.cursor.LegacyCursorResult at 0x7f42a431fc70>"
      ]
     },
     "execution_count": 28,
     "metadata": {},
     "output_type": "execute_result"
    }
   ],
   "source": [
    "connection.execute(sections.insert(), [\n",
    "    {'ID': 1, 'Floor' : 1},\n",
    "    {'ID': 2, 'Floor' : 0}\n",
    "])\n",
    "\n",
    "connection.execute(students.insert(), [\n",
    "    {'ID': 1, 'Name' : 'Abc', 'LastName' : 'Efg', 'Section': 2},\n",
    "    {'ID': 2, 'Name' : 'Def', 'LastName' : 'Ghi', 'Section': 1}\n",
    "])"
   ]
  },
  {
   "cell_type": "code",
   "execution_count": 29,
   "metadata": {},
   "outputs": [
    {
     "name": "stdout",
     "output_type": "stream",
     "text": [
      "2021-11-12 14:40:27,267 INFO sqlalchemy.engine.Engine SELECT \"Students\".\"ID\", \"Students\".\"Name\", \"Students\".\"LastName\", \"Students\".\"Section\" \n",
      "FROM \"Students\"\n",
      "2021-11-12 14:40:27,269 INFO sqlalchemy.engine.Engine [generated in 0.00148s] ()\n",
      "\n",
      "result = <sqlalchemy.engine.cursor.LegacyCursorResult object at 0x7f42a439ac40>\n",
      "(1, 'Abc', 'Efg', 2)\n",
      "(2, 'Def', 'Ghi', 1)\n"
     ]
    }
   ],
   "source": [
    "result = connection.execute(students.select())\n",
    "print(f'\\nresult = {result}')\n",
    "for row in result: print(row)"
   ]
  },
  {
   "cell_type": "code",
   "execution_count": 30,
   "metadata": {},
   "outputs": [
    {
     "name": "stdout",
     "output_type": "stream",
     "text": [
      "2021-11-12 14:40:27,822 INFO sqlalchemy.engine.Engine SELECT \"Students\".\"ID\", \"Students\".\"Name\", \"Students\".\"LastName\", \"Students\".\"Section\" \n",
      "FROM \"Students\" \n",
      "WHERE \"Students\".\"ID\" > ?\n",
      "2021-11-12 14:40:27,824 INFO sqlalchemy.engine.Engine [generated in 0.00187s] (1,)\n",
      "(2, 'Def', 'Ghi', 1)\n"
     ]
    }
   ],
   "source": [
    "# Select with condition\n",
    "filtered = connection.execute(students.select().where(students.c.ID > 1))\n",
    "for row in filtered: print(row)"
   ]
  },
  {
   "cell_type": "code",
   "execution_count": 31,
   "metadata": {},
   "outputs": [
    {
     "name": "stdout",
     "output_type": "stream",
     "text": [
      "2021-11-12 14:40:28,035 INFO sqlalchemy.engine.Engine UPDATE \"Students\" SET \"Name\"=? WHERE \"Students\".\"Name\" = ?\n",
      "2021-11-12 14:40:28,036 INFO sqlalchemy.engine.Engine [generated in 0.00150s] ('Xyz', 'Abc')\n",
      "2021-11-12 14:40:28,038 INFO sqlalchemy.engine.Engine COMMIT\n",
      "2021-11-12 14:40:28,218 INFO sqlalchemy.engine.Engine SELECT \"Students\".\"ID\", \"Students\".\"Name\", \"Students\".\"LastName\", \"Students\".\"Section\" \n",
      "FROM \"Students\"\n",
      "2021-11-12 14:40:28,219 INFO sqlalchemy.engine.Engine [cached since 0.9522s ago] ()\n",
      "result = <sqlalchemy.engine.cursor.LegacyCursorResult object at 0x7f429404e670>\n",
      "(1, 'Xyz', 'Efg', 2)\n",
      "(2, 'Def', 'Ghi', 1)\n"
     ]
    }
   ],
   "source": [
    "# Update\n",
    "connection.execute(students.update().where(students.c.Name == 'Abc').values(Name = 'Xyz'))\n",
    "result = connection.execute(students.select())\n",
    "print(f'result = {result}')\n",
    "for row in result: print(row)"
   ]
  },
  {
   "cell_type": "code",
   "execution_count": 32,
   "metadata": {},
   "outputs": [
    {
     "name": "stdout",
     "output_type": "stream",
     "text": [
      "2021-11-12 14:40:28,258 INFO sqlalchemy.engine.Engine DELETE FROM \"Students\" WHERE \"Students\".\"LastName\" = ?\n",
      "2021-11-12 14:40:28,262 INFO sqlalchemy.engine.Engine [generated in 0.00394s] ('Ghi',)\n",
      "2021-11-12 14:40:28,267 INFO sqlalchemy.engine.Engine COMMIT\n",
      "2021-11-12 14:40:28,450 INFO sqlalchemy.engine.Engine SELECT \"Students\".\"ID\", \"Students\".\"Name\", \"Students\".\"LastName\", \"Students\".\"Section\" \n",
      "FROM \"Students\"\n",
      "2021-11-12 14:40:28,451 INFO sqlalchemy.engine.Engine [cached since 1.184s ago] ()\n",
      "result = <sqlalchemy.engine.cursor.LegacyCursorResult object at 0x7f42a4363940>\n",
      "(1, 'Xyz', 'Efg', 2)\n"
     ]
    }
   ],
   "source": [
    "# Delete\n",
    "connection.execute(students.delete().where(students.c.LastName == 'Ghi'))\n",
    "result = connection.execute(students.select())\n",
    "print(f'result = {result}')\n",
    "for row in result: print(row)"
   ]
  },
  {
   "cell_type": "code",
   "execution_count": 33,
   "metadata": {},
   "outputs": [],
   "source": [
    "connection.close()"
   ]
  },
  {
   "cell_type": "markdown",
   "metadata": {},
   "source": [
    "## Connecting to an existing database in SQLAlchemy"
   ]
  },
  {
   "cell_type": "code",
   "execution_count": 34,
   "metadata": {},
   "outputs": [
    {
     "name": "stdout",
     "output_type": "stream",
     "text": [
      "Engine(sqlite:///College.db)\n"
     ]
    }
   ],
   "source": [
    "engine = create_engine('sqlite:///College.db', echo = True)\n",
    "print(engine)"
   ]
  },
  {
   "cell_type": "code",
   "execution_count": 37,
   "metadata": {},
   "outputs": [
    {
     "name": "stdout",
     "output_type": "stream",
     "text": [
      "<sqlalchemy.engine.base.Connection object at 0x7f427ff40b20>\n"
     ]
    }
   ],
   "source": [
    "connection = engine.connect()\n",
    "print(connection)"
   ]
  },
  {
   "cell_type": "code",
   "execution_count": 40,
   "metadata": {},
   "outputs": [
    {
     "name": "stdout",
     "output_type": "stream",
     "text": [
      "2021-11-12 14:43:24,768 INFO sqlalchemy.engine.Engine SELECT \"Students\".\"ID\", \"Students\".\"Name\", \"Students\".\"LastName\", \"Students\".\"Section\" \n",
      "FROM \"Students\"\n",
      "2021-11-12 14:43:24,770 INFO sqlalchemy.engine.Engine [cached since 24.77s ago] ()\n",
      "[(1, 'Xyz', 'Efg', 2)]\n"
     ]
    }
   ],
   "source": [
    "res = connection.execute(students.select())\n",
    "print(res.fetchall()) # Similarly one can use fethone and fetchmany as well"
   ]
  },
  {
   "cell_type": "code",
   "execution_count": 41,
   "metadata": {},
   "outputs": [],
   "source": [
    "connection.close()"
   ]
  }
 ],
 "metadata": {
  "interpreter": {
   "hash": "31f2aee4e71d21fbe5cf8b01ff0e069b9275f58929596ceb00d14d90e3e16cd6"
  },
  "kernelspec": {
   "display_name": "Python 3.8.10 64-bit",
   "language": "python",
   "name": "python3"
  },
  "language_info": {
   "codemirror_mode": {
    "name": "ipython",
    "version": 3
   },
   "file_extension": ".py",
   "mimetype": "text/x-python",
   "name": "python",
   "nbconvert_exporter": "python",
   "pygments_lexer": "ipython3",
   "version": "3.9.5"
  },
  "orig_nbformat": 4
 },
 "nbformat": 4,
 "nbformat_minor": 2
}
