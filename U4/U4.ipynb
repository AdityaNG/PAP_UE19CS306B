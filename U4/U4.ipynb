{
 "cells": [
  {
   "cell_type": "markdown",
   "metadata": {},
   "source": [
    "# Class 12 (25.10.2021)"
   ]
  },
  {
   "cell_type": "markdown",
   "metadata": {},
   "source": [
    "# SQLite\n",
    "* Serverless transactional SQL Databases.\n",
    "* Widely used SQL database engine.\n",
    "\n",
    "## When to avoid SQLite?\n",
    "* When there are many client programs sending SQL requests to the same database over the network, a client server databse would be better than SQLite.\n",
    "* High volume websites (database has to be write intensive).\n",
    "* Very large scale databases. (SQLite is limited to 140TB)"
   ]
  },
  {
   "cell_type": "code",
   "execution_count": 1,
   "metadata": {},
   "outputs": [],
   "source": [
    "import sqlite3\n",
    "\n",
    "# Connecting to Database\n",
    "connection = sqlite3.connect(\"College.db\") # If database is not existing, it will be created and stored on hard disk\n",
    "cursor = connection.cursor() # Cursor object is used to perform actions on the database (SQL statements)"
   ]
  },
  {
   "cell_type": "code",
   "execution_count": 2,
   "metadata": {},
   "outputs": [
    {
     "data": {
      "text/plain": [
       "<sqlite3.Cursor at 0x7f4d408e27a0>"
      ]
     },
     "execution_count": 2,
     "metadata": {},
     "output_type": "execute_result"
    }
   ],
   "source": [
    "# Creating tables\n",
    "#connection.execute(\"create table tab1(name char(20), age integer)\") # This also works\n",
    "cursor.execute(\"create table tab1(name char(20), age integer)\")\n",
    "cursor.execute(\"create table tab2(name char(20), age integer)\")"
   ]
  },
  {
   "cell_type": "code",
   "execution_count": 3,
   "metadata": {},
   "outputs": [
    {
     "data": {
      "text/plain": [
       "<sqlite3.Cursor at 0x7f4d408e27a0>"
      ]
     },
     "execution_count": 3,
     "metadata": {},
     "output_type": "execute_result"
    }
   ],
   "source": [
    "# Inserting values\n",
    "cursor.execute(\"insert into tab1 values('xyz', 21)\")\n",
    "cursor.execute(\"insert into tab2 values('abc', 12)\")\n",
    "\n",
    "# Using placeholders\n",
    "info = ('efg', 54)\n",
    "cursor.execute(\"insert into tab1(name, age) values(?, ?)\", info)"
   ]
  },
  {
   "cell_type": "code",
   "execution_count": 5,
   "metadata": {},
   "outputs": [
    {
     "name": "stdout",
     "output_type": "stream",
     "text": [
      "('xyz', 21)\n",
      "('efg', 54)\n",
      "-------------------\n",
      "('abc', 12)\n"
     ]
    }
   ],
   "source": [
    "# Displaying the table\n",
    "tab1 = cursor.execute(\"select * from tab1\")\n",
    "for i in tab1: print(i)\n",
    "\n",
    "print(\"-------------------\")\n",
    "\n",
    "tab2 = cursor.execute(\"select * from tab2\")\n",
    "for i in tab2: print(i)"
   ]
  },
  {
   "cell_type": "code",
   "execution_count": 6,
   "metadata": {},
   "outputs": [],
   "source": [
    "connection.close() # Closing the connection to the database"
   ]
  },
  {
   "cell_type": "markdown",
   "metadata": {},
   "source": [
    "## Creating the Database in RAM"
   ]
  },
  {
   "cell_type": "code",
   "execution_count": 9,
   "metadata": {},
   "outputs": [
    {
     "name": "stdout",
     "output_type": "stream",
     "text": [
      "('Abc', 21)\n"
     ]
    }
   ],
   "source": [
    "import sqlite3\n",
    "\n",
    "# Each time a DB is created in RAM, it occupies a new region of memory. Hence one can create multiple independent DBs in RAM\n",
    "connection =  sqlite3.connect(\":memory:\") # DB is created in RAM instead of HDD\n",
    "cursor = connection.cursor()\n",
    "cursor.execute(\"create table people(name, age)\")\n",
    "\n",
    "# QMark Style of insertion\n",
    "who = 'Abc'\n",
    "age = 21\n",
    "cursor.execute(\"insert into people values(?,?)\", (who, age))\n",
    "\n",
    "# Named Style\n",
    "cursor.execute(\"select * from people where name = :who and age = :age\", {\"who\":who, \"age\":age})\n",
    "print(cursor.fetchone())\n",
    "\n",
    "connection.close()"
   ]
  },
  {
   "cell_type": "markdown",
   "metadata": {},
   "source": [
    "## Commit"
   ]
  },
  {
   "cell_type": "code",
   "execution_count": 10,
   "metadata": {},
   "outputs": [],
   "source": [
    "import sqlite3\n",
    "connection = sqlite3.connect(\"Student.db\")"
   ]
  },
  {
   "cell_type": "code",
   "execution_count": 11,
   "metadata": {},
   "outputs": [
    {
     "data": {
      "text/plain": [
       "<sqlite3.Cursor at 0x7f4d27dc6490>"
      ]
     },
     "execution_count": 11,
     "metadata": {},
     "output_type": "execute_result"
    }
   ],
   "source": [
    "connection.execute('''\n",
    "    create table Company (\n",
    "        ID int primary key not null,\n",
    "        Name text not null,\n",
    "        Age int not null,\n",
    "        Address char(50),\n",
    "        Salary real\n",
    "    );\n",
    "''')"
   ]
  },
  {
   "cell_type": "code",
   "execution_count": 14,
   "metadata": {},
   "outputs": [
    {
     "name": "stdout",
     "output_type": "stream",
     "text": [
      "Records inserted successfully\n"
     ]
    }
   ],
   "source": [
    "connection.execute(\"insert into Company (ID, Name, Age, Address, Salary)\\\n",
    "                    values(1, 'ABC', 21, 'Bengaluru 560050', 1200000)\"\n",
    ")\n",
    "\n",
    "connection.execute(\"insert into Company (ID, Name, Age, Address, Salary)\\\n",
    "                    values(2, 'DEF', 22, 'Bengaluru 560040', 1100000)\"\n",
    ")\n",
    "\n",
    "connection.execute(\"insert into Company (ID, Name, Age, Address, Salary)\\\n",
    "                    values(3, 'GHI', 20, 'Bengaluru 560051', 1250000)\"\n",
    ")\n",
    "connection.commit()\n",
    "print(\"Records inserted successfully\")"
   ]
  },
  {
   "cell_type": "code",
   "execution_count": 18,
   "metadata": {},
   "outputs": [
    {
     "name": "stdout",
     "output_type": "stream",
     "text": [
      "{'ID': 1, 'Name': 'ABC', 'Age': 21, 'Address': 'Bengaluru 560050', 'Salary': 1200000.0}\n",
      "{'ID': 2, 'Name': 'DEF', 'Age': 22, 'Address': 'Bengaluru 560040', 'Salary': 1100000.0}\n",
      "{'ID': 3, 'Name': 'GHI', 'Age': 20, 'Address': 'Bengaluru 560051', 'Salary': 1250000.0}\n"
     ]
    }
   ],
   "source": [
    "items = connection.execute(\"select * from Company\")\n",
    "columns = (\"ID\", \"Name\", \"Age\", \"Address\", \"Salary\")\n",
    "for item in items: print(dict(zip(columns, item)))"
   ]
  },
  {
   "cell_type": "code",
   "execution_count": 20,
   "metadata": {},
   "outputs": [
    {
     "name": "stdout",
     "output_type": "stream",
     "text": [
      "{'ID': 1, 'Name': 'ABC', 'Age': 21, 'Address': 'Bengaluru 560050', 'Salary': 1200000.0}\n",
      "{'ID': 2, 'Name': 'DEF', 'Age': 22, 'Address': 'Bengaluru 560040', 'Salary': 1100000.0}\n",
      "{'ID': 3, 'Name': 'GHI', 'Age': 20, 'Address': 'Bengaluru 560051', 'Salary': 3000000.0}\n"
     ]
    }
   ],
   "source": [
    "connection.execute(\"update Company set Salary = 3000000 where ID = 3\")\n",
    "\n",
    "items = connection.execute(\"select * from Company\")\n",
    "columns = (\"ID\", \"Name\", \"Age\", \"Address\", \"Salary\")\n",
    "for item in items: print(dict(zip(columns, item)))"
   ]
  },
  {
   "cell_type": "code",
   "execution_count": 21,
   "metadata": {},
   "outputs": [],
   "source": [
    "connection.close()"
   ]
  },
  {
   "cell_type": "markdown",
   "metadata": {},
   "source": [
    "# Class 13 (8.11.2021)"
   ]
  },
  {
   "cell_type": "markdown",
   "metadata": {},
   "source": [
    "# Fetching all rows of a query result\n",
    "* **cursor.fetchall()** <br/>\n",
    "  Fetches all rows of a query result.<br/>\n",
    "  It returns all rows as list of tuples.<br/>\n",
    "  An empty list will be returned if there are no records to fetch.<br/><br/>\n",
    "\n",
    "* **cursor.fetchmany(size)** <br/>\n",
    "  Returns the number of rows specified by the size argument.<br/>\n",
    "  It fetches the next set of rows when called repeatedly.<br/>\n",
    "  Default value for size is 1.<br/>\n",
    "  This also returns a list of tuples (an empty list will be returned if there are no records to fetch).<br/><br/>\n",
    "\n",
    "* **cursor.fetchone()** <br/>\n",
    "  Returns a single row that matches the condition. (None is returned if there are no rows to fetch).\n"
   ]
  },
  {
   "cell_type": "code",
   "execution_count": 35,
   "metadata": {},
   "outputs": [],
   "source": [
    "import sqlite3\n",
    "connection = sqlite3.connect(\":memory:\")\n",
    "cursor = connection.cursor()"
   ]
  },
  {
   "cell_type": "code",
   "execution_count": 36,
   "metadata": {},
   "outputs": [
    {
     "data": {
      "text/plain": [
       "<sqlite3.Cursor at 0x7f08431f30a0>"
      ]
     },
     "execution_count": 36,
     "metadata": {},
     "output_type": "execute_result"
    }
   ],
   "source": [
    "# Only one statement can be executed at a time. Hence we need to write two connection.execute() statements\n",
    "connection.execute('''\n",
    "    create table supplier_groups(\n",
    "        group_id int primary key,\n",
    "        group_name text not null\n",
    "    );\n",
    "''')\n",
    "\n",
    "connection.execute('''\n",
    "    create table suppliers(\n",
    "        supplier_id int primary key,\n",
    "        supplier_name text not null,\n",
    "        group_id int not null,\n",
    "        foreign key(group_id) references supplier_groups(group_id)\n",
    "    );\n",
    "''')"
   ]
  },
  {
   "cell_type": "code",
   "execution_count": 37,
   "metadata": {},
   "outputs": [
    {
     "data": {
      "text/plain": [
       "<sqlite3.Cursor at 0x7f08431ff5e0>"
      ]
     },
     "execution_count": 37,
     "metadata": {},
     "output_type": "execute_result"
    }
   ],
   "source": [
    "connection.execute('''\n",
    "    insert into supplier_groups values (1, 'abc'), (2, 'abc'), (3, 'xyz'), (4, 'efg');\n",
    "''')"
   ]
  },
  {
   "cell_type": "code",
   "execution_count": 38,
   "metadata": {},
   "outputs": [
    {
     "name": "stdout",
     "output_type": "stream",
     "text": [
      "(1, 'abc')\n",
      "(2, 'abc')\n",
      "(3, 'xyz')\n",
      "(4, 'efg')\n"
     ]
    }
   ],
   "source": [
    "ret = connection.execute(\"select * from supplier_groups\")\n",
    "for group in ret:\n",
    "    print(group)"
   ]
  },
  {
   "cell_type": "code",
   "execution_count": 39,
   "metadata": {},
   "outputs": [
    {
     "name": "stdout",
     "output_type": "stream",
     "text": [
      "[(1, 'abc')]\n"
     ]
    }
   ],
   "source": [
    "cursor.execute(\"select * from supplier_groups\")\n",
    "p = cursor.fetchmany() # Default size is one\n",
    "print(p)"
   ]
  },
  {
   "cell_type": "code",
   "execution_count": 40,
   "metadata": {},
   "outputs": [
    {
     "name": "stdout",
     "output_type": "stream",
     "text": [
      "[(1, 'abc'), (2, 'abc')]\n",
      "[(3, 'xyz'), (4, 'efg')]\n"
     ]
    }
   ],
   "source": [
    "cursor.execute(\"select * from supplier_groups\")\n",
    "p1 = cursor.fetchmany(2)\n",
    "p2 = cursor.fetchmany(2)\n",
    "print(p1)\n",
    "print(p2)"
   ]
  },
  {
   "cell_type": "code",
   "execution_count": 41,
   "metadata": {},
   "outputs": [
    {
     "name": "stdout",
     "output_type": "stream",
     "text": [
      "[(1, 'abc'), (2, 'abc'), (3, 'xyz'), (4, 'efg')]\n"
     ]
    }
   ],
   "source": [
    "cursor.execute(\"select * from supplier_groups\")\n",
    "all = cursor.fetchall()\n",
    "print(all)"
   ]
  },
  {
   "cell_type": "code",
   "execution_count": 42,
   "metadata": {},
   "outputs": [
    {
     "name": "stdout",
     "output_type": "stream",
     "text": [
      "(1, 'abc')\n"
     ]
    }
   ],
   "source": [
    "cursor.execute(\"select * from supplier_groups\")\n",
    "one = cursor.fetchone()\n",
    "print(one)"
   ]
  },
  {
   "cell_type": "code",
   "execution_count": 43,
   "metadata": {},
   "outputs": [
    {
     "name": "stdout",
     "output_type": "stream",
     "text": [
      "[(1, 'abc'), (2, 'abc'), (3, 'xyz'), (4, 'efg')]\n"
     ]
    }
   ],
   "source": [
    "ret = connection.execute(\"select * from supplier_groups\")\n",
    "print(ret.fetchall())"
   ]
  },
  {
   "cell_type": "code",
   "execution_count": 44,
   "metadata": {},
   "outputs": [
    {
     "name": "stdout",
     "output_type": "stream",
     "text": [
      "(1, 'abc')\n"
     ]
    }
   ],
   "source": [
    "ret = connection.execute(\"select * from supplier_groups\")\n",
    "print(ret.fetchone())"
   ]
  },
  {
   "cell_type": "code",
   "execution_count": 45,
   "metadata": {},
   "outputs": [
    {
     "name": "stdout",
     "output_type": "stream",
     "text": [
      "[(1, 'abc'), (2, 'abc')]\n",
      "[(3, 'xyz'), (4, 'efg')]\n"
     ]
    }
   ],
   "source": [
    "ret = connection.execute(\"select * from supplier_groups\")\n",
    "print(ret.fetchmany(2))\n",
    "print(ret.fetchmany(2))"
   ]
  },
  {
   "cell_type": "code",
   "execution_count": 46,
   "metadata": {},
   "outputs": [],
   "source": [
    "connection.close()"
   ]
  },
  {
   "cell_type": "markdown",
   "metadata": {},
   "source": [
    "# SQLAlchemy (A powerful Open Source, Cross Platform SQL toolkit written in Python)\n",
    "* This is a powerful database access toolkit for Python.\n",
    "* It has Object Relational Mapper (ORM).\n",
    "* ORM sits between SQLite database and Python program and transforms the dataflow between the database engine and Python object.\n",
    "* SQLAlchemy allows us to think in terms of objects, i.e provides an OOPS abstraction to SQL databases.\n",
    "+ ORM is a programming technique for converting the data between incompatible type systems in Object Oriented Programming Languages.\n",
    "+ The type system used in OOP languages like Python is Non Scalar, i.e, they cannot be expressed in terms of primitive datatypes like int, float, char, etc.\n",
    "+ OOP languages therefore have to convert Non Scalar data into Scalar in order to interact with the backend data.\n",
    "+ ORM maps a class to a table. This saves us from writing tedious database interface codes."
   ]
  },
  {
   "cell_type": "code",
   "execution_count": 47,
   "metadata": {},
   "outputs": [
    {
     "name": "stdout",
     "output_type": "stream",
     "text": [
      "1.3.12\n"
     ]
    }
   ],
   "source": [
    "import sqlalchemy\n",
    "print(sqlalchemy.__version__)"
   ]
  },
  {
   "cell_type": "markdown",
   "metadata": {},
   "source": [
    "# Engine Class\n",
    "* Connects a *Pool* and *Dialect* together. \n",
    "* This provides a source for database connectivity and behaviour.\n",
    "* An object of Engine class is created using the *create_engine* function."
   ]
  },
  {
   "cell_type": "code",
   "execution_count": 58,
   "metadata": {},
   "outputs": [
    {
     "name": "stdout",
     "output_type": "stream",
     "text": [
      "2021-11-11 19:55:02,696 INFO sqlalchemy.engine.base.Engine SELECT CAST('test plain returns' AS VARCHAR(60)) AS anon_1\n",
      "2021-11-11 19:55:02,697 INFO sqlalchemy.engine.base.Engine ()\n",
      "2021-11-11 19:55:02,700 INFO sqlalchemy.engine.base.Engine SELECT CAST('test unicode returns' AS VARCHAR(60)) AS anon_1\n",
      "2021-11-11 19:55:02,701 INFO sqlalchemy.engine.base.Engine ()\n",
      "2021-11-11 19:55:02,703 INFO sqlalchemy.engine.base.Engine PRAGMA main.table_info(\"Students\")\n",
      "2021-11-11 19:55:02,704 INFO sqlalchemy.engine.base.Engine ()\n",
      "2021-11-11 19:55:02,706 INFO sqlalchemy.engine.base.Engine PRAGMA temp.table_info(\"Students\")\n",
      "2021-11-11 19:55:02,706 INFO sqlalchemy.engine.base.Engine ()\n",
      "2021-11-11 19:55:02,708 INFO sqlalchemy.engine.base.Engine \n",
      "CREATE TABLE \"Students\" (\n",
      "\t\"ID\" INTEGER NOT NULL, \n",
      "\t\"Name\" VARCHAR, \n",
      "\t\"LastName\" VARCHAR, \n",
      "\tPRIMARY KEY (\"ID\")\n",
      ")\n",
      "\n",
      "\n",
      "2021-11-11 19:55:02,709 INFO sqlalchemy.engine.base.Engine ()\n",
      "2021-11-11 19:55:03,657 INFO sqlalchemy.engine.base.Engine COMMIT\n"
     ]
    }
   ],
   "source": [
    "from sqlalchemy import create_engine, MetaData, Table, Column, String, Integer\n",
    "\n",
    "# SQL Expression language constructs its expressions against table columns\n",
    "engine = create_engine('sqlite:///College.db', echo = True) # echo makes the output (SQL statements) verbose\n",
    "\n",
    "# MetaData is a collection of table objects and their associated schema constructs.\n",
    "meta = MetaData() # Contains info about the tables and associated objects like index, view, triggers, etc.\n",
    "\n",
    "# Creating a table\n",
    "students = Table(\n",
    "    'Students', meta,\n",
    "    Column('ID', Integer, primary_key = True),\n",
    "    Column('Name', String),\n",
    "    Column('LastName', String)\n",
    ")\n",
    "\n",
    "meta.create_all(engine) # Creates the table\n",
    "connection = engine.connect()"
   ]
  },
  {
   "cell_type": "markdown",
   "metadata": {},
   "source": [
    "# Class 14 (10.11.2021)"
   ]
  },
  {
   "cell_type": "code",
   "execution_count": 59,
   "metadata": {},
   "outputs": [
    {
     "name": "stdout",
     "output_type": "stream",
     "text": [
      "2021-11-11 19:55:09,061 INFO sqlalchemy.engine.base.Engine INSERT INTO \"Students\" (\"ID\", \"Name\", \"LastName\") VALUES (?, ?, ?)\n",
      "2021-11-11 19:55:09,062 INFO sqlalchemy.engine.base.Engine ((1, 'Abc', 'Efg'), (2, 'Def', 'Ghi'))\n",
      "2021-11-11 19:55:09,065 INFO sqlalchemy.engine.base.Engine COMMIT\n"
     ]
    },
    {
     "data": {
      "text/plain": [
       "<sqlalchemy.engine.result.ResultProxy at 0x7f0858d3f610>"
      ]
     },
     "execution_count": 59,
     "metadata": {},
     "output_type": "execute_result"
    }
   ],
   "source": [
    "connection.execute(students.insert(), [\n",
    "    {'ID': 1, 'Name' : 'Abc', 'LastName' : 'Efg'},\n",
    "    {'ID': 2, 'Name' : 'Def', 'LastName' : 'Ghi'}\n",
    "])"
   ]
  },
  {
   "cell_type": "code",
   "execution_count": 61,
   "metadata": {},
   "outputs": [
    {
     "name": "stdout",
     "output_type": "stream",
     "text": [
      "2021-11-11 19:58:47,339 INFO sqlalchemy.engine.base.Engine SELECT \"Students\".\"ID\", \"Students\".\"Name\", \"Students\".\"LastName\" \n",
      "FROM \"Students\"\n",
      "2021-11-11 19:58:47,341 INFO sqlalchemy.engine.base.Engine ()\n",
      "result = <sqlalchemy.engine.result.ResultProxy object at 0x7f085bdd7fd0>\n",
      "(1, 'Abc', 'Efg')\n",
      "(2, 'Def', 'Ghi')\n"
     ]
    }
   ],
   "source": [
    "result = connection.execute(students.select())\n",
    "print(f'result = {result}')\n",
    "for row in result: print(row)"
   ]
  },
  {
   "cell_type": "code",
   "execution_count": 67,
   "metadata": {},
   "outputs": [
    {
     "name": "stdout",
     "output_type": "stream",
     "text": [
      "2021-11-11 20:25:54,371 INFO sqlalchemy.engine.base.Engine SELECT \"Students\".\"ID\", \"Students\".\"Name\", \"Students\".\"LastName\" \n",
      "FROM \"Students\" \n",
      "WHERE \"Students\".\"ID\" > ?\n",
      "2021-11-11 20:25:54,374 INFO sqlalchemy.engine.base.Engine (1,)\n",
      "(2, 'Def', 'Ghi')\n"
     ]
    }
   ],
   "source": [
    "# Select with condition\n",
    "filtered = connection.execute(students.select().where(students.c.ID > 1))\n",
    "for row in filtered: print(row)"
   ]
  },
  {
   "cell_type": "code",
   "execution_count": 69,
   "metadata": {},
   "outputs": [
    {
     "name": "stdout",
     "output_type": "stream",
     "text": [
      "2021-11-11 20:28:03,950 INFO sqlalchemy.engine.base.Engine UPDATE \"Students\" SET \"Name\"=? WHERE \"Students\".\"Name\" = ?\n",
      "2021-11-11 20:28:03,954 INFO sqlalchemy.engine.base.Engine ('Xyz', 'Abc')\n",
      "2021-11-11 20:28:03,959 INFO sqlalchemy.engine.base.Engine COMMIT\n",
      "2021-11-11 20:28:05,851 INFO sqlalchemy.engine.base.Engine SELECT \"Students\".\"ID\", \"Students\".\"Name\", \"Students\".\"LastName\" \n",
      "FROM \"Students\"\n",
      "2021-11-11 20:28:05,853 INFO sqlalchemy.engine.base.Engine ()\n",
      "result = <sqlalchemy.engine.result.ResultProxy object at 0x7f0843018160>\n",
      "(1, 'Xyz', 'Efg')\n",
      "(2, 'Def', 'Ghi')\n"
     ]
    }
   ],
   "source": [
    "# Update\n",
    "connection.execute(students.update().where(students.c.Name == 'Abc').values(Name = 'Xyz'))\n",
    "result = connection.execute(students.select())\n",
    "print(f'result = {result}')\n",
    "for row in result: print(row)"
   ]
  },
  {
   "cell_type": "code",
   "execution_count": 70,
   "metadata": {},
   "outputs": [
    {
     "name": "stdout",
     "output_type": "stream",
     "text": [
      "2021-11-11 20:30:43,669 INFO sqlalchemy.engine.base.Engine DELETE FROM \"Students\" WHERE \"Students\".\"LastName\" = ?\n",
      "2021-11-11 20:30:43,671 INFO sqlalchemy.engine.base.Engine ('Ghi',)\n",
      "2021-11-11 20:30:43,673 INFO sqlalchemy.engine.base.Engine COMMIT\n",
      "2021-11-11 20:30:43,826 INFO sqlalchemy.engine.base.Engine SELECT \"Students\".\"ID\", \"Students\".\"Name\", \"Students\".\"LastName\" \n",
      "FROM \"Students\"\n",
      "2021-11-11 20:30:43,828 INFO sqlalchemy.engine.base.Engine ()\n",
      "result = <sqlalchemy.engine.result.ResultProxy object at 0x7f0842cb1d30>\n",
      "(1, 'Xyz', 'Efg')\n"
     ]
    }
   ],
   "source": [
    "# Delete\n",
    "connection.execute(students.delete().where(students.c.LastName == 'Ghi'))\n",
    "result = connection.execute(students.select())\n",
    "print(f'result = {result}')\n",
    "for row in result: print(row)"
   ]
  },
  {
   "cell_type": "code",
   "execution_count": 71,
   "metadata": {},
   "outputs": [],
   "source": [
    "connection.close()"
   ]
  },
  {
   "cell_type": "code",
   "execution_count": null,
   "metadata": {},
   "outputs": [],
   "source": []
  }
 ],
 "metadata": {
  "interpreter": {
   "hash": "31f2aee4e71d21fbe5cf8b01ff0e069b9275f58929596ceb00d14d90e3e16cd6"
  },
  "kernelspec": {
   "display_name": "Python 3.8.10 64-bit",
   "language": "python",
   "name": "python3"
  },
  "language_info": {
   "codemirror_mode": {
    "name": "ipython",
    "version": 3
   },
   "file_extension": ".py",
   "mimetype": "text/x-python",
   "name": "python",
   "nbconvert_exporter": "python",
   "pygments_lexer": "ipython3",
   "version": "3.8.10"
  },
  "orig_nbformat": 4
 },
 "nbformat": 4,
 "nbformat_minor": 2
}
