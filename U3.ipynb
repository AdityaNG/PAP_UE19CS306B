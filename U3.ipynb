{
 "cells": [
  {
   "cell_type": "markdown",
   "metadata": {},
   "source": [
    "# Threads and Processes\n",
    "\n",
    "## Process\n",
    "A process is an active program i.e. a program that is under execution. It is more than the program code as it includes the program counter, process stack, registers, program code etc. Compared to this, the program code is only the text section.\n",
    "\n",
    "## Thread\n",
    "A thread is a lightweight process that can be managed independently by a scheduler. It improves the application performance using parallelism. A thread shares information like data segment, code segment, files etc. with its peer threads while it contains its own registers, stack, counter etc.\n",
    "\n",
    "For simplicity, you can assume that a thread is simply a subset of a process!"
   ]
  },
  {
   "cell_type": "code",
   "execution_count": 6,
   "metadata": {},
   "outputs": [],
   "source": [
    "import threading \n",
    "import os "
   ]
  },
  {
   "cell_type": "code",
   "execution_count": 7,
   "metadata": {},
   "outputs": [
    {
     "name": "stdout",
     "output_type": "stream",
     "text": [
      "cube of a number 100\n",
      "cube of a number 1000\n",
      "Done!\n"
     ]
    }
   ],
   "source": [
    "def print_cube(num): \n",
    "    print(\"cube of a number\",num * num * num) \n",
    "def print_square(num): \n",
    "    print(\"cube of a number\",num * num)  \n",
    "if __name__ == \"__main__\": \n",
    "    # creating thread \n",
    "    t1 = threading.Thread(target=print_square, args=(10,)) \n",
    "    t2 = threading.Thread(target=print_cube, args=(10,)) \n",
    "    # starting thread 1 \n",
    "    t1.start() \n",
    "    # starting thread 2 \n",
    "    t2.start() \n",
    "    # wait until thread 1 is completely executed \n",
    "    t1.join() \n",
    "    # wait until thread 2 is completely executed \n",
    "    t2.join() \n",
    "    # both threads completely executed \n",
    "    print(\"Done!\")\n"
   ]
  },
  {
   "cell_type": "markdown",
   "metadata": {},
   "source": [
    "# Creating Threads\n",
    "\n",
    "To create a new thread, we create an object of Thread class. It takes following arguments:\n",
    "    target: the function to be executed by thread\n",
    "    args: the arguments to be passed to the target function\n",
    " \n",
    "To start a thread, we use start method of Thread class.\n",
    " \n",
    "Once the threads start, the current program (you can think of it like a main thread) also keeps on executing. In order to stop execution of current program until a thread is complete, we use join method.\n",
    " \n",
    "As a result, the current program will first wait for the completion of t1 and then t2. Once, they are finished, the remaining statements of current program are executed."
   ]
  },
  {
   "cell_type": "code",
   "execution_count": 8,
   "metadata": {},
   "outputs": [
    {
     "name": "stdout",
     "output_type": "stream",
     "text": [
      "ID of process running main program: 287770\n",
      "Main thread name: MainThread\n",
      "t1\n",
      "t2\n"
     ]
    }
   ],
   "source": [
    "def task1(): \n",
    "    print(threading.current_thread().name)\n",
    "    \n",
    "def task2(): \n",
    "    print(threading.current_thread().name) \n",
    "   \n",
    "  \n",
    "if __name__ == \"__main__\": \n",
    "  \n",
    "    # print ID of current process \n",
    "    print(\"ID of process running main program:\",os.getpid()) \n",
    "  \n",
    "    # print name of main thread \n",
    "    print(\"Main thread name:\",threading.current_thread().name) \n",
    "    # get the current thread object\n",
    "  \n",
    "    # creating threads \n",
    "    t1 = threading.Thread(target=task1, name='t1') \n",
    "    t2 = threading.Thread(target=task2, name='t2')   \n",
    "  \n",
    "    # starting threads \n",
    "    t1.start() \n",
    "    t2.start() \n",
    "  \n",
    "    # wait until all threads finish \n",
    "    t1.join() \n",
    "    t2.join()"
   ]
  },
  {
   "cell_type": "markdown",
   "metadata": {},
   "source": [
    "# Concept of Globals"
   ]
  },
  {
   "cell_type": "code",
   "execution_count": 9,
   "metadata": {},
   "outputs": [
    {
     "name": "stdout",
     "output_type": "stream",
     "text": [
      "20\n"
     ]
    }
   ],
   "source": [
    "x=20 # global\n",
    "def f1():\n",
    "\tprint(x)\n",
    " \n",
    "f1() # 20"
   ]
  },
  {
   "cell_type": "code",
   "execution_count": 10,
   "metadata": {},
   "outputs": [
    {
     "ename": "UnboundLocalError",
     "evalue": "local variable 'x' referenced before assignment",
     "output_type": "error",
     "traceback": [
      "\u001b[0;31m---------------------------------------------------------------------------\u001b[0m",
      "\u001b[0;31mUnboundLocalError\u001b[0m                         Traceback (most recent call last)",
      "\u001b[0;32m<ipython-input-10-737fb59be616>\u001b[0m in \u001b[0;36m<module>\u001b[0;34m\u001b[0m\n\u001b[1;32m      4\u001b[0m         \u001b[0mprint\u001b[0m\u001b[0;34m(\u001b[0m\u001b[0mx\u001b[0m\u001b[0;34m)\u001b[0m\u001b[0;34m\u001b[0m\u001b[0;34m\u001b[0m\u001b[0m\n\u001b[1;32m      5\u001b[0m \u001b[0;34m\u001b[0m\u001b[0m\n\u001b[0;32m----> 6\u001b[0;31m \u001b[0mf1\u001b[0m\u001b[0;34m(\u001b[0m\u001b[0;34m)\u001b[0m\u001b[0;34m\u001b[0m\u001b[0;34m\u001b[0m\u001b[0m\n\u001b[0m",
      "\u001b[0;32m<ipython-input-10-737fb59be616>\u001b[0m in \u001b[0;36mf1\u001b[0;34m()\u001b[0m\n\u001b[1;32m      1\u001b[0m \u001b[0mx\u001b[0m\u001b[0;34m=\u001b[0m\u001b[0;36m20\u001b[0m \u001b[0;31m# global\u001b[0m\u001b[0;34m\u001b[0m\u001b[0;34m\u001b[0m\u001b[0m\n\u001b[1;32m      2\u001b[0m \u001b[0;32mdef\u001b[0m \u001b[0mf1\u001b[0m\u001b[0;34m(\u001b[0m\u001b[0;34m)\u001b[0m\u001b[0;34m:\u001b[0m\u001b[0;34m\u001b[0m\u001b[0;34m\u001b[0m\u001b[0m\n\u001b[0;32m----> 3\u001b[0;31m         \u001b[0mx\u001b[0m\u001b[0;34m=\u001b[0m\u001b[0mx\u001b[0m\u001b[0;34m+\u001b[0m\u001b[0;36m1\u001b[0m \u001b[0;31m# error\u001b[0m\u001b[0;34m\u001b[0m\u001b[0;34m\u001b[0m\u001b[0m\n\u001b[0m\u001b[1;32m      4\u001b[0m         \u001b[0mprint\u001b[0m\u001b[0;34m(\u001b[0m\u001b[0mx\u001b[0m\u001b[0;34m)\u001b[0m\u001b[0;34m\u001b[0m\u001b[0;34m\u001b[0m\u001b[0m\n\u001b[1;32m      5\u001b[0m \u001b[0;34m\u001b[0m\u001b[0m\n",
      "\u001b[0;31mUnboundLocalError\u001b[0m: local variable 'x' referenced before assignment"
     ]
    }
   ],
   "source": [
    "x=20 # global\n",
    "def f1():\n",
    "\tx=x+1 # error\n",
    "\tprint(x)\n",
    " \n",
    "f1() "
   ]
  },
  {
   "cell_type": "code",
   "execution_count": 11,
   "metadata": {},
   "outputs": [
    {
     "name": "stdout",
     "output_type": "stream",
     "text": [
      "21\n"
     ]
    }
   ],
   "source": [
    "x=20 # global\n",
    "def f1():\n",
    "\tglobal x\n",
    "\tx=x+1\n",
    "\tprint(x)\n",
    " \n",
    "f1() # 21"
   ]
  },
  {
   "cell_type": "markdown",
   "metadata": {},
   "source": [
    "# Inter Process Communication\n",
    "\n",
    "Inter Process Communication (IPC)\n",
    "A process can be of two types:\n",
    "1. Independent process.\n",
    "2. Co-operating process.\n",
    "\n",
    "An independent process is not affected by the execution of other processes while\n",
    "a co-operating process can be affected by other executing processes. Though one\n",
    "can think that those processes, which are running independently, will execute\n",
    "very efficiently, in reality, there are many situations when co-operative nature can\n",
    "be utilised for increasing computational speed, convenience and modularity. Inter\n",
    "process communication (IPC) is a mechanism which allows processes to\n",
    "communicate with each other and synchronize their actions. The communication\n",
    "between these processes can be seen as a method of co-operation between\n",
    "them. Processes can communicate with each other through both:\n",
    "1. Shared Memory\n",
    "2. Message passing\n",
    "\n",
    "The Figure 1 below shows a basic structure of communication between processes via the shared memory method and via the message passing method.\n",
    "\n",
    "<img src='https://media.geeksforgeeks.org/wp-content/uploads/1-76.png'>"
   ]
  },
  {
   "cell_type": "code",
   "execution_count": 14,
   "metadata": {},
   "outputs": [],
   "source": [
    "import multiprocessing\n",
    "import time\n",
    "result = []\n",
    "def square_list(mylist):\n",
    "    global result\n",
    "    # append squares of mylist to global list result\n",
    "    for num in mylist:\n",
    "        result.append(num * num)\n",
    "    # print global list result \n",
    "    print(\"Result(in process p1)\",result)\n",
    " time.sleep(1)\n",
    "\n",
    "if __name__ == \"__main__\":\n",
    " # input list\n",
    " mylist = [1,2,3,4]\n",
    " # creating new process\n",
    " p1 = multiprocessing.Process(target=square_list, args=(mylist,))\n",
    " # starting process\n",
    " p1.start()\n",
    " # wait until process is finished\n",
    " p1.join()\n",
    " # print global result list\n",
    " print(\"Result(in main program)\",result)"
   ]
  },
  {
   "cell_type": "code",
   "execution_count": null,
   "metadata": {},
   "outputs": [],
   "source": []
  }
 ],
 "metadata": {
  "interpreter": {
   "hash": "95cb561d684e273be7430146e3ed2c0199570812864dc3ea408fea5378453ef7"
  },
  "kernelspec": {
   "display_name": "Python 3",
   "language": "python",
   "name": "python3"
  },
  "language_info": {
   "codemirror_mode": {
    "name": "ipython",
    "version": 3
   },
   "file_extension": ".py",
   "mimetype": "text/x-python",
   "name": "python",
   "nbconvert_exporter": "python",
   "pygments_lexer": "ipython3",
   "version": "3.8.10"
  }
 },
 "nbformat": 4,
 "nbformat_minor": 2
}
