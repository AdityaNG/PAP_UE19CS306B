{
 "cells": [
  {
   "cell_type": "markdown",
   "metadata": {},
   "source": [
    "# Threads and Processes\n",
    "\n",
    "## Process\n",
    "A process is an active program i.e. a program that is under execution. It is more than the program code as it includes the program counter, process stack, registers, program code etc. Compared to this, the program code is only the text section.\n",
    "\n",
    "## Thread\n",
    "A thread is a lightweight process that can be managed independently by a scheduler. It improves the application performance using parallelism. A thread shares information like data segment, code segment, files etc. with its peer threads while it contains its own registers, stack, counter etc.\n",
    "\n",
    "For simplicity, you can assume that a thread is simply a subset of a process!"
   ]
  },
  {
   "cell_type": "code",
   "execution_count": 1,
   "metadata": {},
   "outputs": [],
   "source": [
    "import threading \n",
    "import os "
   ]
  },
  {
   "cell_type": "code",
   "execution_count": 2,
   "metadata": {},
   "outputs": [
    {
     "name": "stdout",
     "output_type": "stream",
     "text": [
      "cube of a number 100\n",
      "cube of a number 1000\n",
      "Done!\n"
     ]
    }
   ],
   "source": [
    "def print_cube(num): \n",
    "    print(\"cube of a number\",num * num * num) \n",
    "def print_square(num): \n",
    "    print(\"cube of a number\",num * num)  \n",
    "if __name__ == \"__main__\": \n",
    "    # creating thread \n",
    "    t1 = threading.Thread(target=print_square, args=(10,)) \n",
    "    t2 = threading.Thread(target=print_cube, args=(10,)) \n",
    "    # starting thread 1 \n",
    "    t1.start() \n",
    "    # starting thread 2 \n",
    "    t2.start() \n",
    "    # wait until thread 1 is completely executed \n",
    "    t1.join() \n",
    "    # wait until thread 2 is completely executed \n",
    "    t2.join() \n",
    "    # both threads completely executed \n",
    "    print(\"Done!\")\n"
   ]
  },
  {
   "cell_type": "markdown",
   "metadata": {},
   "source": [
    "# Creating Threads\n",
    "\n",
    "To create a new thread, we create an object of Thread class. It takes following arguments:\n",
    "    target: the function to be executed by thread\n",
    "    args: the arguments to be passed to the target function\n",
    " \n",
    "To start a thread, we use start method of Thread class.\n",
    " \n",
    "Once the threads start, the current program (you can think of it like a main thread) also keeps on executing. In order to stop execution of current program until a thread is complete, we use join method.\n",
    " \n",
    "As a result, the current program will first wait for the completion of t1 and then t2. Once, they are finished, the remaining statements of current program are executed."
   ]
  },
  {
   "cell_type": "code",
   "execution_count": 3,
   "metadata": {},
   "outputs": [
    {
     "name": "stdout",
     "output_type": "stream",
     "text": [
      "ID of process running main program: 293678\n",
      "Main thread name: MainThread\n",
      "t1\n",
      "t2\n"
     ]
    }
   ],
   "source": [
    "def task1(): \n",
    "    print(threading.current_thread().name)\n",
    "    \n",
    "def task2(): \n",
    "    print(threading.current_thread().name) \n",
    "   \n",
    "  \n",
    "if __name__ == \"__main__\": \n",
    "  \n",
    "    # print ID of current process \n",
    "    print(\"ID of process running main program:\",os.getpid()) \n",
    "  \n",
    "    # print name of main thread \n",
    "    print(\"Main thread name:\",threading.current_thread().name) \n",
    "    # get the current thread object\n",
    "  \n",
    "    # creating threads \n",
    "    t1 = threading.Thread(target=task1, name='t1') \n",
    "    t2 = threading.Thread(target=task2, name='t2')   \n",
    "  \n",
    "    # starting threads \n",
    "    t1.start() \n",
    "    t2.start() \n",
    "  \n",
    "    # wait until all threads finish \n",
    "    t1.join() \n",
    "    t2.join()"
   ]
  },
  {
   "cell_type": "markdown",
   "metadata": {},
   "source": [
    "# Concept of Globals"
   ]
  },
  {
   "cell_type": "code",
   "execution_count": 4,
   "metadata": {},
   "outputs": [
    {
     "name": "stdout",
     "output_type": "stream",
     "text": [
      "20\n"
     ]
    }
   ],
   "source": [
    "x=20 # global\n",
    "def f1():\n",
    "    print(x)\n",
    " \n",
    "f1() # 20"
   ]
  },
  {
   "cell_type": "code",
   "execution_count": 5,
   "metadata": {},
   "outputs": [
    {
     "ename": "UnboundLocalError",
     "evalue": "local variable 'x' referenced before assignment",
     "output_type": "error",
     "traceback": [
      "\u001b[0;31m---------------------------------------------------------------------------\u001b[0m",
      "\u001b[0;31mUnboundLocalError\u001b[0m                         Traceback (most recent call last)",
      "\u001b[0;32m<ipython-input-5-6974ed2bd45b>\u001b[0m in \u001b[0;36m<module>\u001b[0;34m\u001b[0m\n\u001b[1;32m      4\u001b[0m     \u001b[0mprint\u001b[0m\u001b[0;34m(\u001b[0m\u001b[0mx\u001b[0m\u001b[0;34m)\u001b[0m\u001b[0;34m\u001b[0m\u001b[0;34m\u001b[0m\u001b[0m\n\u001b[1;32m      5\u001b[0m \u001b[0;34m\u001b[0m\u001b[0m\n\u001b[0;32m----> 6\u001b[0;31m \u001b[0mf1\u001b[0m\u001b[0;34m(\u001b[0m\u001b[0;34m)\u001b[0m\u001b[0;34m\u001b[0m\u001b[0;34m\u001b[0m\u001b[0m\n\u001b[0m",
      "\u001b[0;32m<ipython-input-5-6974ed2bd45b>\u001b[0m in \u001b[0;36mf1\u001b[0;34m()\u001b[0m\n\u001b[1;32m      1\u001b[0m \u001b[0mx\u001b[0m\u001b[0;34m=\u001b[0m\u001b[0;36m20\u001b[0m \u001b[0;31m# global\u001b[0m\u001b[0;34m\u001b[0m\u001b[0;34m\u001b[0m\u001b[0m\n\u001b[1;32m      2\u001b[0m \u001b[0;32mdef\u001b[0m \u001b[0mf1\u001b[0m\u001b[0;34m(\u001b[0m\u001b[0;34m)\u001b[0m\u001b[0;34m:\u001b[0m\u001b[0;34m\u001b[0m\u001b[0;34m\u001b[0m\u001b[0m\n\u001b[0;32m----> 3\u001b[0;31m     \u001b[0mx\u001b[0m\u001b[0;34m=\u001b[0m\u001b[0mx\u001b[0m\u001b[0;34m+\u001b[0m\u001b[0;36m1\u001b[0m \u001b[0;31m# error\u001b[0m\u001b[0;34m\u001b[0m\u001b[0;34m\u001b[0m\u001b[0m\n\u001b[0m\u001b[1;32m      4\u001b[0m     \u001b[0mprint\u001b[0m\u001b[0;34m(\u001b[0m\u001b[0mx\u001b[0m\u001b[0;34m)\u001b[0m\u001b[0;34m\u001b[0m\u001b[0;34m\u001b[0m\u001b[0m\n\u001b[1;32m      5\u001b[0m \u001b[0;34m\u001b[0m\u001b[0m\n",
      "\u001b[0;31mUnboundLocalError\u001b[0m: local variable 'x' referenced before assignment"
     ]
    }
   ],
   "source": [
    "x=20 # global\n",
    "def f1():\n",
    "    x=x+1 # error\n",
    "    print(x)\n",
    " \n",
    "f1() "
   ]
  },
  {
   "cell_type": "code",
   "execution_count": 6,
   "metadata": {},
   "outputs": [
    {
     "name": "stdout",
     "output_type": "stream",
     "text": [
      "21\n"
     ]
    }
   ],
   "source": [
    "x=20 # global\n",
    "def f1():\n",
    "    global x\n",
    "    x=x+1\n",
    "    print(x)\n",
    " \n",
    "f1() # 21"
   ]
  },
  {
   "cell_type": "markdown",
   "metadata": {},
   "source": [
    "# Inter Process Communication\n",
    "\n",
    "Inter Process Communication (IPC)\n",
    "A process can be of two types:\n",
    "1. Independent process.\n",
    "2. Co-operating process.\n",
    "\n",
    "An independent process is not affected by the execution of other processes while\n",
    "a co-operating process can be affected by other executing processes. Though one\n",
    "can think that those processes, which are running independently, will execute\n",
    "very efficiently, in reality, there are many situations when co-operative nature can\n",
    "be utilised for increasing computational speed, convenience and modularity. Inter\n",
    "process communication (IPC) is a mechanism which allows processes to\n",
    "communicate with each other and synchronize their actions. The communication\n",
    "between these processes can be seen as a method of co-operation between\n",
    "them. Processes can communicate with each other through both:\n",
    "1. Shared Memory\n",
    "2. Message passing\n",
    "\n",
    "The Figure 1 below shows a basic structure of communication between processes via the shared memory method and via the message passing method.\n",
    "\n",
    "<img src='https://media.geeksforgeeks.org/wp-content/uploads/1-76.png'>"
   ]
  },
  {
   "cell_type": "code",
   "execution_count": 7,
   "metadata": {},
   "outputs": [
    {
     "name": "stdout",
     "output_type": "stream",
     "text": [
      "Result(in process p1) [1, 4, 9, 16]\n",
      "Result(in main program) []\n"
     ]
    }
   ],
   "source": [
    "import multiprocessing\n",
    "import time\n",
    "result = []\n",
    "def square_list(mylist):\n",
    "    global result\n",
    "    # append squares of mylist to global list result\n",
    "    for num in mylist:\n",
    "        result.append(num * num)\n",
    "    # print global list result \n",
    "    print(\"Result(in process p1)\",result)\n",
    "    time.sleep(1)\n",
    "\n",
    "if __name__ == \"__main__\":\n",
    "    # input list\n",
    "    mylist = [1,2,3,4]\n",
    "    # creating new process\n",
    "    p1 = multiprocessing.Process(target=square_list, args=(mylist,))\n",
    "    # starting process\n",
    "    p1.start()\n",
    "    # wait until process is finished\n",
    "    p1.join()\n",
    "    # print global result list\n",
    "    print(\"Result(in main program)\",result)"
   ]
  },
  {
   "cell_type": "code",
   "execution_count": 8,
   "metadata": {},
   "outputs": [
    {
     "name": "stdout",
     "output_type": "stream",
     "text": [
      "Result(in process p1): [1, 4, 9, 16]\n",
      "Sum of squares(in process p1): 30\n",
      "Result(in main program): [1, 4, 9, 16]\n",
      "Sum of squares(in main program): 30\n"
     ]
    }
   ],
   "source": [
    "def square_list(mylist, result, square_sum):\n",
    "    #append squares of mylist to result array\n",
    "    for idx, num in enumerate(mylist):\n",
    "        result[idx] = num * num\n",
    "    # square_sum value\n",
    "    square_sum.value = sum(result)\n",
    "\n",
    "    # print result Array \n",
    "    print(\"Result(in process p1):\",result[:])\n",
    "    # print square_sum Value\n",
    "    print(\"Sum of squares(in process p1):\",square_sum.value)\n",
    "\n",
    "if __name__ == \"__main__\":\n",
    "    # input list\n",
    "    mylist = [1,2,3,4]\n",
    "    # creating Array of int data type with space for 4 integers\n",
    "    result = multiprocessing.Array('i', 4)\n",
    "    # creating Value of int data type\n",
    "    square_sum = multiprocessing.Value('i')\n",
    "    # print(square_sum)\n",
    "    # creating new process\n",
    "    p1 = multiprocessing.Process(target=square_list, args=(mylist, result, square_sum))\n",
    "    # starting process\n",
    "    p1.start()\n",
    "    # wait until process is finished\n",
    "    p1.join()\n",
    "    # print result array\n",
    "    print(\"Result(in main program):\",result[:])\n",
    "    # print square_sum Value\n",
    "    print(\"Sum of squares(in main program):\",square_sum.value)"
   ]
  },
  {
   "cell_type": "markdown",
   "metadata": {},
   "source": [
    "# Multiprocessing\n",
    "## What is multiprocessing?\n",
    "\n",
    "Multiprocessing refers to the ability of a system to support more than one\n",
    "processor at the same time. Applications in a multiprocessing system are broken\n",
    "to smaller routines that run independently. The operating system allocates these\n",
    "threads to the processors improving performance of the system.\n",
    "\n",
    "## Why multiprocessing?\n",
    "Consider a computer system with a single processor. If it is assigned several\n",
    "processes at the same time, it will have to interrupt each task and switch briefly\n",
    "to another, to keep all of the processes going.\n",
    "This situation is just like a chef working in a kitchen alone. He has to do several\n",
    "tasks like baking, stirring, kneading dough, etc.\n",
    "Multiprocessing: Running more than one process on a single processor\n",
    "parallel processing: running a process on more than one processor"
   ]
  },
  {
   "cell_type": "code",
   "execution_count": 9,
   "metadata": {},
   "outputs": [
    {
     "name": "stdout",
     "output_type": "stream",
     "text": [
      "squre of a number is 100Cube of a number is\n",
      " 1000\n",
      "Done!\n"
     ]
    }
   ],
   "source": [
    "import multiprocessing\n",
    "\n",
    "def print_cube(num):\n",
    "    print(\"Cube of a number is\",num * num * num)\n",
    "\n",
    "def print_square(num):\n",
    "    print(\"squre of a number is\",num * num)\n",
    "\n",
    "if __name__ == \"__main__\":\n",
    "    # creating processes\n",
    "    p1 = multiprocessing.Process(target=print_square, args=(10, ))\n",
    "    p2 = multiprocessing.Process(target=print_cube, args=(10, )) \n",
    "    # starting process 1\n",
    "    p1.start()\n",
    "    # starting process 2\n",
    "    p2.start()\n",
    "    # wait until process 1 is finished\n",
    "    p1.join()\n",
    "    # wait until process 2 is finished\n",
    "    p2.join()\n",
    "    # both processes finished\n",
    "    print(\"Done!\")"
   ]
  },
  {
   "cell_type": "code",
   "execution_count": 10,
   "metadata": {},
   "outputs": [
    {
     "name": "stdout",
     "output_type": "stream",
     "text": [
      "main process id 293678\n",
      "p1_id:  293756\n",
      "p2_id:  293758\n",
      "Both processes finished execution!\n",
      "p1 status is alive?: False\n",
      "p2 status is alive?: False\n"
     ]
    }
   ],
   "source": [
    "# importing the multiprocessing module\n",
    "import multiprocessing\n",
    "import os\n",
    "def f1():\n",
    "    print(\"p1_id: \",os.getpid())\n",
    "\n",
    "def f2():\n",
    "    print(\"p2_id: \",os.getpid())\n",
    "\n",
    "if __name__ == \"__main__\":\n",
    "    # printing main program process id\n",
    "    print(\"main process id\",os.getpid())\n",
    "    # creating processes\n",
    "    p1 = multiprocessing.Process(target=f1) \n",
    "    p2 = multiprocessing.Process(target=f2)\n",
    "    # starting processes\n",
    "    p1.start()\n",
    "    p2.start()\n",
    "    # wait until processes are finished \n",
    "    p1.join()\n",
    "    p2.join()\n",
    "    # both processes finished\n",
    "    print(\"Both processes finished execution!\")\n",
    "    # check if processes are alive\n",
    "    print(\"p1 status is alive?:\",p1.is_alive())\n",
    "    print(\"p2 status is alive?:\",p2.is_alive())"
   ]
  },
  {
   "cell_type": "markdown",
   "metadata": {},
   "source": [
    "# Producer Consumer Problem:\n",
    "\n",
    "The producer's job is to generate a piece of data, put it into the buffer and\n",
    "start again. At the same time, the consumer is consuming the data (i.e.,\n",
    "removing it from the buffer) one piece at a time.\n",
    "\n",
    "```python\n",
    "from threading import Thread\n",
    "\n",
    "class ProducerThread(Thread):\n",
    "    def run(self):\n",
    "        pass\n",
    "\n",
    "class ConsumerThread(Thread):\n",
    "    def run(self):\n",
    "        pass\n",
    "```\n",
    "\n",
    "The problem describes two processes, the producer and the consumer, who share a\n",
    "common buffer.\n",
    "So we keep one variable which will be global and will be modified by both\n",
    "Producer and Consumer threads. Producer produces data and adds it to the buffer.\n",
    "Consumer consumes data from the buffer i.e removes it from the buffer."
   ]
  },
  {
   "cell_type": "code",
   "execution_count": 11,
   "metadata": {},
   "outputs": [
    {
     "name": "stdout",
     "output_type": "stream",
     "text": [
      "Produced 1\n",
      "Consumed 1\n"
     ]
    },
    {
     "name": "stderr",
     "output_type": "stream",
     "text": [
      "Exception in thread Thread-7:\n",
      "Traceback (most recent call last):\n",
      "  File \"/usr/lib/python3.8/threading.py\", line 932, in _bootstrap_inner\n",
      "    self.run()\n",
      "  File \"<ipython-input-11-6a770fae8047>\", line 27, in run\n",
      "IndexError: pop from empty list\n"
     ]
    },
    {
     "name": "stdout",
     "output_type": "stream",
     "text": [
      "Nothing in buffer, but consumer will try to consume\n"
     ]
    }
   ],
   "source": [
    "from threading import Thread, Lock\n",
    "import time\n",
    "import random\n",
    "buffer = []\n",
    "lock = Lock()\n",
    "class ProducerThread(Thread):\n",
    "    def run(self):\n",
    "        nums = range(5) # Will create the list [0, 1, 2, 3, 4]\n",
    "        global buffer\n",
    "        #while True:\n",
    "        for i in range(5): # Replaced while True with a termaination for demo \n",
    "            num = random.choice(nums) # Selects a random number from list [0, 1, 2, 3, 4]\n",
    "            lock.acquire()\n",
    "            buffer.append(num)\n",
    "            print(\"Produced\", num)\n",
    "            lock.release()\n",
    "            time.sleep(random.random())\n",
    "\n",
    "class ConsumerThread(Thread):\n",
    "    def run(self):\n",
    "        global buffer\n",
    "        #while True:\n",
    "        for i in range(5): # Replaced while True with a termaination for demo \n",
    "            lock.acquire()\n",
    "            if not buffer:\n",
    "                print (\"Nothing in buffer, but consumer will try to consume\")\n",
    "            num = buffer.pop(0)\n",
    "            print (\"Consumed\", num)\n",
    "            lock.release()\n",
    "            time.sleep(random.random())\n",
    "\n",
    "ProducerThread().start()\n",
    "ConsumerThread().start()"
   ]
  },
  {
   "cell_type": "markdown",
   "metadata": {},
   "source": [
    "# Explanation:\n",
    "1. We started one producer thread(hereafter referred as producer) and one consumer thread(hereafter referred as consumer).\n",
    "2. Producer keeps on adding to the buffer and consumer keeps on removing from the buffer.\n",
    "3. Since buffer is a shared variable, we keep it inside lock to avoid race condition.\n",
    "4. At some point, consumer has consumed everything and producer is still sleeping. Consumer tries to consume more but since buffer is empty, an IndexError is raised.\n",
    "5. But on every execution, before IndexError is raised you will see the print statement telling “Nothing in buffer, but consumer will try to consume”, which explains why you are getting the error.\n",
    "\n",
    "We found this implementaion as the wrong behaviour.\n",
    "\n",
    "# What is the correct behaviour?\n",
    "When there was nothing in the buffer, consumer should have stopped running and waited instead of\n",
    "trying to consume from the buffer. And once producer adds something to the buffer, there should be\n",
    "a way for it to notify the consumer telling it has added something to buffer. So, consumer can again\n",
    "consume from the buffer. And thus IndexError will never be raised."
   ]
  },
  {
   "cell_type": "markdown",
   "metadata": {},
   "source": [
    "# About Condition\n",
    "Condition object allows one or more threads to wait until notified by another thread. Taken from here.\n",
    "\n",
    "And this is exactly what we want. We want consumer to wait when the buffer is empty and resume\n",
    "only when it gets notified by the producer. Producer should notify only after it adds something to\n",
    "the buffer. So after notification from producer, we can be sure that buffer is not empty and hence no\n",
    "error can crop if consumer consumes.\n",
    "\n",
    "1. Condition is always associated with a lock.\n",
    "2. A condition has acquire() and release() methods that call the corresponding methods of the associated lock.\n",
    "\n",
    "Condition provides acquire() and release() which calls lock’s acquire() and release() internally, and\n",
    "so we can replace lock instances with condition instances and our lock behaviour will keep working\n",
    "properly.\n",
    "Consumer needs to wait using a condition instance and producer needs to notify the consumer using\n",
    "the condition instance too. So, they must use the same condition instance for the wait and notify\n",
    "functionality to work properly."
   ]
  },
  {
   "cell_type": "code",
   "execution_count": 12,
   "metadata": {},
   "outputs": [
    {
     "name": "stdout",
     "output_type": "stream",
     "text": [
      "Produced 2\n",
      "Consumed 2\n",
      "Nothing in buffer, consumer is waiting\n",
      "Produced 1\n",
      "Producer added something to buffer and notified the consumer\n",
      "Consumed 1\n",
      "Produced 3\n",
      "Consumed 3\n",
      "Produced 2\n",
      "Consumed 2\n",
      "Produced 4\n",
      "Consumed 4\n"
     ]
    }
   ],
   "source": [
    "from threading import Condition,Thread,Lock\n",
    "import random\n",
    "import time\n",
    "buffer = []\n",
    "lock = Lock()\n",
    "condition = Condition()\n",
    "class ConsumerThread(Thread):\n",
    "    def run(self):\n",
    "        global buffer\n",
    "        #while True:\n",
    "        for i in range(5): # Replaced while True with a termaination for demo \n",
    "            condition.acquire()\n",
    "            if not buffer:\n",
    "                print (\"Nothing in buffer, consumer is waiting\")\n",
    "                condition.wait()\n",
    "                print (\"Producer added something to buffer and notified the consumer\")\n",
    "            num = buffer.pop(0)\n",
    "            print (\"Consumed\", num)\n",
    "            condition.release()\n",
    "            time.sleep(random.random())\n",
    "\n",
    "class ProducerThread(Thread):\n",
    "    def run(self):\n",
    "        nums = range(5)\n",
    "        global buffer\n",
    "        #while True:\n",
    "        for i in range(5): # Replaced while True with a termaination for demo \n",
    "            condition.acquire()\n",
    "            num = random.choice(nums)\n",
    "            buffer.append(num)\n",
    "            print (\"Produced\", num)\n",
    "            condition.notify()\n",
    "            condition.release()\n",
    "            time.sleep(random.random())\n",
    "\n",
    "ProducerThread().start()\n",
    "ConsumerThread().start()"
   ]
  },
  {
   "cell_type": "markdown",
   "metadata": {},
   "source": [
    "# Explanation\n",
    "1. For consumer, we check if the buffer is empty before consuming.\n",
    "2. f yes then call wait() on condition instance.\n",
    "3. wait() blocks the consumer and also releases the lock associated with the condition. This lock was held by consumer, so basically consumer loses hold of the lock.\n",
    "4. Now unless consumer is notified, it will not run.\n",
    "5. Producer can acquire the lock because lock was released by consumer.\n",
    "6. Producer puts data in buffer and calls notify() on the condition instance.\n",
    "7. Once notify() call is made on condition, consumer wakes up. But waking up doesn’t mean it starts executing.\n",
    "8. notify() does not release the lock. Even after notify(), lock is still held by producer.\n",
    "9. Producer explicitly releases the lock by using condition.release().\n",
    "10. And consumer starts running again. Now it will find data in buffer and no IndexError will be raised."
   ]
  },
  {
   "cell_type": "code",
   "execution_count": null,
   "metadata": {},
   "outputs": [],
   "source": [
    "dir(ProducerThread)"
   ]
  },
  {
   "cell_type": "markdown",
   "metadata": {},
   "source": [
    "# Semaphores in Python:\n",
    "\n",
    "The Semaphore class of the Python threading module implements the concept of semaphore.\n",
    "- It has a constructor and two methods acquire() and release().\n",
    "- The acquire() method decreases the semaphore count if the count is greater than zero. Else it blocks till the count is greater than zero.\n",
    "- The release() method increases the semaphore count and wakes up one of the threads waiting on the semaphore.\n",
    "        Class semaphore([value])\n",
    "The optional argument gives the initial value for the internal counter; it defaults to 1\n",
    "\n",
    "\n",
    "## acquire([blocking])\n",
    "\n",
    "Acquire a semaphore.\n",
    "When invoked without arguments: if the internal counter is larger than zero on entry,\n",
    "decrement it by one and return immediately. If it is zero on entry, block, waiting until some\n",
    "other thread has called release() to make it larger than zero. This is done with proper\n",
    "interlocking so that if multiple acquire() calls are blocked, release() will wake\n",
    "exactly one of them up. The implementation may pick one at random, so the order in which\n",
    "blocked threads are awakened should not be relied on. There is no return value in this case.\n",
    "When invoked with blocking set to true, do the same thing as when called without arguments,\n",
    "and return true.\n",
    "When invoked with blocking set to false, do not block. If a call without an argument would\n",
    "block, return false immediately; otherwise, do the same thing as when called without\n",
    "arguments, and return true.\n",
    "\n",
    "## release()\n",
    "Release a semaphore, incrementing the internal counter by one. When it was zero on entry\n",
    "and another thread is waiting for it to become larger than zero again, wake up that thread. "
   ]
  },
  {
   "cell_type": "code",
   "execution_count": 16,
   "metadata": {},
   "outputs": [
    {
     "name": "stdout",
     "output_type": "stream",
     "text": [
      "fun1 starting\n",
      "Fun1 Working in loop\n",
      "fun2 starting\n",
      "Fun2 No Semaphore available\n",
      "Fun1 Working in loop\n",
      "Fun2 No Semaphore available\n",
      "Fun1 Working in loop\n",
      "Fun2 No Semaphore available\n",
      "Fun1 Working in loop\n",
      "Fun2 No Semaphore available\n",
      "fun1 finished\n",
      "Got Semphore\n",
      "Fun2 Working loop too\n",
      "Fun2 Working loop too\n",
      "Fun2 Working loop too\n"
     ]
    },
    {
     "ename": "KeyboardInterrupt",
     "evalue": "",
     "output_type": "error",
     "traceback": [
      "\u001b[0;31m---------------------------------------------------------------------------\u001b[0m",
      "\u001b[0;31mKeyboardInterrupt\u001b[0m                         Traceback (most recent call last)",
      "\u001b[0;32m<ipython-input-16-9585f235edd6>\u001b[0m in \u001b[0;36m<module>\u001b[0;34m\u001b[0m\n\u001b[1;32m     29\u001b[0m \u001b[0mt2\u001b[0m\u001b[0;34m.\u001b[0m\u001b[0mstart\u001b[0m\u001b[0;34m(\u001b[0m\u001b[0;34m)\u001b[0m\u001b[0;34m\u001b[0m\u001b[0;34m\u001b[0m\u001b[0m\n\u001b[1;32m     30\u001b[0m \u001b[0mt1\u001b[0m\u001b[0;34m.\u001b[0m\u001b[0mjoin\u001b[0m\u001b[0;34m(\u001b[0m\u001b[0;34m)\u001b[0m\u001b[0;34m\u001b[0m\u001b[0;34m\u001b[0m\u001b[0m\n\u001b[0;32m---> 31\u001b[0;31m \u001b[0mt2\u001b[0m\u001b[0;34m.\u001b[0m\u001b[0mjoin\u001b[0m\u001b[0;34m(\u001b[0m\u001b[0;34m)\u001b[0m\u001b[0;34m\u001b[0m\u001b[0;34m\u001b[0m\u001b[0m\n\u001b[0m\u001b[1;32m     32\u001b[0m \u001b[0mprint\u001b[0m\u001b[0;34m(\u001b[0m\u001b[0;34m\"All Threads done Exiting\"\u001b[0m\u001b[0;34m)\u001b[0m\u001b[0;34m\u001b[0m\u001b[0;34m\u001b[0m\u001b[0m\n",
      "\u001b[0;32m/usr/lib/python3.8/threading.py\u001b[0m in \u001b[0;36mjoin\u001b[0;34m(self, timeout)\u001b[0m\n\u001b[1;32m   1009\u001b[0m \u001b[0;34m\u001b[0m\u001b[0m\n\u001b[1;32m   1010\u001b[0m         \u001b[0;32mif\u001b[0m \u001b[0mtimeout\u001b[0m \u001b[0;32mis\u001b[0m \u001b[0;32mNone\u001b[0m\u001b[0;34m:\u001b[0m\u001b[0;34m\u001b[0m\u001b[0;34m\u001b[0m\u001b[0m\n\u001b[0;32m-> 1011\u001b[0;31m             \u001b[0mself\u001b[0m\u001b[0;34m.\u001b[0m\u001b[0m_wait_for_tstate_lock\u001b[0m\u001b[0;34m(\u001b[0m\u001b[0;34m)\u001b[0m\u001b[0;34m\u001b[0m\u001b[0;34m\u001b[0m\u001b[0m\n\u001b[0m\u001b[1;32m   1012\u001b[0m         \u001b[0;32melse\u001b[0m\u001b[0;34m:\u001b[0m\u001b[0;34m\u001b[0m\u001b[0;34m\u001b[0m\u001b[0m\n\u001b[1;32m   1013\u001b[0m             \u001b[0;31m# the behavior of a negative timeout isn't documented, but\u001b[0m\u001b[0;34m\u001b[0m\u001b[0;34m\u001b[0m\u001b[0;34m\u001b[0m\u001b[0m\n",
      "\u001b[0;32m/usr/lib/python3.8/threading.py\u001b[0m in \u001b[0;36m_wait_for_tstate_lock\u001b[0;34m(self, block, timeout)\u001b[0m\n\u001b[1;32m   1025\u001b[0m         \u001b[0;32mif\u001b[0m \u001b[0mlock\u001b[0m \u001b[0;32mis\u001b[0m \u001b[0;32mNone\u001b[0m\u001b[0;34m:\u001b[0m  \u001b[0;31m# already determined that the C code is done\u001b[0m\u001b[0;34m\u001b[0m\u001b[0;34m\u001b[0m\u001b[0m\n\u001b[1;32m   1026\u001b[0m             \u001b[0;32massert\u001b[0m \u001b[0mself\u001b[0m\u001b[0;34m.\u001b[0m\u001b[0m_is_stopped\u001b[0m\u001b[0;34m\u001b[0m\u001b[0;34m\u001b[0m\u001b[0m\n\u001b[0;32m-> 1027\u001b[0;31m         \u001b[0;32melif\u001b[0m \u001b[0mlock\u001b[0m\u001b[0;34m.\u001b[0m\u001b[0macquire\u001b[0m\u001b[0;34m(\u001b[0m\u001b[0mblock\u001b[0m\u001b[0;34m,\u001b[0m \u001b[0mtimeout\u001b[0m\u001b[0;34m)\u001b[0m\u001b[0;34m:\u001b[0m\u001b[0;34m\u001b[0m\u001b[0;34m\u001b[0m\u001b[0m\n\u001b[0m\u001b[1;32m   1028\u001b[0m             \u001b[0mlock\u001b[0m\u001b[0;34m.\u001b[0m\u001b[0mrelease\u001b[0m\u001b[0;34m(\u001b[0m\u001b[0;34m)\u001b[0m\u001b[0;34m\u001b[0m\u001b[0;34m\u001b[0m\u001b[0m\n\u001b[1;32m   1029\u001b[0m             \u001b[0mself\u001b[0m\u001b[0;34m.\u001b[0m\u001b[0m_stop\u001b[0m\u001b[0;34m(\u001b[0m\u001b[0;34m)\u001b[0m\u001b[0;34m\u001b[0m\u001b[0;34m\u001b[0m\u001b[0m\n",
      "\u001b[0;31mKeyboardInterrupt\u001b[0m: "
     ]
    }
   ],
   "source": [
    "import threading\n",
    "from time import sleep\n",
    "sem = threading.Semaphore()\n",
    "\n",
    "def fun1():\n",
    "    print(\"fun1 starting\")\n",
    "    sem.acquire()\n",
    "    for loop in range(1,5):\n",
    "        print(\"Fun1 Working in loop\")\n",
    "        sleep(1)\n",
    "    sem.release()\n",
    "    print(\"fun1 finished\")\n",
    "\n",
    "def fun2():\n",
    "    print(\"fun2 starting\")\n",
    "    while not sem.acquire(blocking=False):\n",
    "        print(\"Fun2 No Semaphore available\")\n",
    "        sleep(1)\n",
    "    else:\n",
    "        print(\"Got Semphore\")\n",
    "        for loop in range(1, 5):\n",
    "            print(\"Fun2 Working loop too\")\n",
    "            sleep(1)\n",
    "    sem.release()\n",
    "\n",
    "t1 = threading.Thread(target = fun1)\n",
    "t2 = threading.Thread(target = fun2)\n",
    "t1.start()\n",
    "t2.start()\n",
    "t1.join()\n",
    "t2.join()\n",
    "print(\"All Threads done Exiting\")"
   ]
  },
  {
   "cell_type": "markdown",
   "metadata": {},
   "source": [
    "# Difference between Semaphore, BoundedSemaphore"
   ]
  },
  {
   "cell_type": "code",
   "execution_count": 18,
   "metadata": {},
   "outputs": [
    {
     "name": "stdout",
     "output_type": "stream",
     "text": [
      "6\n",
      "5\n",
      "As expected, it complained.\n"
     ]
    }
   ],
   "source": [
    "from threading import Semaphore, BoundedSemaphore\n",
    "# Usually, you create a Semaphore that will allow a certain number of threads\n",
    "# into a section of code. This one starts at 5.\n",
    "s1 = Semaphore(5)\n",
    "\n",
    "# When you want to enter the section of code, you acquire it first.\n",
    "# That lowers it to 4. (Four more threads could enter this section.)\n",
    "s1.acquire()\n",
    "\n",
    "# Then you do whatever sensitive thing needed to be restricted to five threads.\n",
    "# When you're finished, you release the semaphore, and it goes back to 5.\n",
    "s1.release()\n",
    "\n",
    "# That's all fine, but you can also release it without acquiring it first.\n",
    "s1.release()\n",
    "\n",
    "# The counter is now 6! That might make sense in some situations, but not in most.\n",
    "print(s1._value) # => 6\n",
    "\n",
    "# If that doesn't make sense in your situation, use a BoundedSemaphore.\n",
    "s2 = BoundedSemaphore(5) # Start at 5.\n",
    "s2.acquire() # Lower to 4.\n",
    "s2.release() # Go back to 5.\n",
    "print(s2._value)\n",
    "\n",
    "try:\n",
    "    s2.release() # Try to raise to 6, above starting value.\n",
    "    print(s2._value)\n",
    "except ValueError:\n",
    "    print('As expected, it complained.') "
   ]
  },
  {
   "cell_type": "code",
   "execution_count": null,
   "metadata": {},
   "outputs": [],
   "source": []
  }
 ],
 "metadata": {
  "interpreter": {
   "hash": "95cb561d684e273be7430146e3ed2c0199570812864dc3ea408fea5378453ef7"
  },
  "kernelspec": {
   "display_name": "Python 3",
   "language": "python",
   "name": "python3"
  },
  "language_info": {
   "codemirror_mode": {
    "name": "ipython",
    "version": 3
   },
   "file_extension": ".py",
   "mimetype": "text/x-python",
   "name": "python",
   "nbconvert_exporter": "python",
   "pygments_lexer": "ipython3",
   "version": "3.8.10"
  }
 },
 "nbformat": 4,
 "nbformat_minor": 2
}
