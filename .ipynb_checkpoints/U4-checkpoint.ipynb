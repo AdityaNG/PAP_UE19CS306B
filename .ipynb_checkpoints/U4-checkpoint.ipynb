{
 "cells": [
  {
   "cell_type": "markdown",
   "metadata": {},
   "source": [
    "# SQLite\n",
    "\n",
    "SQLite is a software library that implements a self-contained, serverless, zero-configuration, transactional SQL database engine. SQLite is the most widely deployed SQL database engine in the world. The source code for SQLite is in the public domain.\n",
    "SQLite is not directly comparable to client/server SQL database engines such as MySQL, Oracle, PostgreSQL, or SQL Server since SQLite is trying to solve a different problem. \n",
    "Client/server SQL database engines strive to implement a shared repository of enterprise data. They emphasize scalability, concurrency, centralization, and control. SQLite strives to provide local data storage for individual applications and devices. SQLite emphasizes economy, efficiency, reliability, independence, and simplicity. \n",
    "When not to Use SQLITE ?\n",
    "\n",
    "## Client/Server Applications\n",
    "If there are many client programs sending SQL to the same database over a network, then use a client/server database engine instead of SQLite.\n",
    "High-volume Websites\n",
    "SQLite will normally work fine as the database backend to a website. But if the website is write-intensive or is so busy that it requires multiple servers, then consider using an enterprise-class client/server database engine instead of SQLite.\n",
    "Very large datasets\n",
    "An SQLite database is limited in size to 140 terabytes (247 bytes, 128 tibibytes).\n",
    "High Concurrency\n",
    "\n",
    "SQLite supports an unlimited number of simultaneous readers, but it will only allow one writer at any instant in time.\n",
    "\n",
    "## Connection objects\n",
    "Connection objects create a connection with the database and these are further used for different transactions. These connection objects are also used as representatives of the database session.\n",
    "You can use a connection object for calling methods like commit(), rollback() and close()\n",
    "Cursor objects\n",
    "\n",
    "Cursor is one of the powerful features of SQL. These are objects that are responsible for submitting various SQL statements to a database server. \n",
    " \n",
    "```python \n",
    "sqlite3.connect(database [,timeout ,other optional arguments])\n",
    "```\n",
    "This API opens a connection to the SQLite database file. You can use \":memory:\" to open a database connection to a database that resides in RAM instead of on disk. If database is opened successfully, it returns a connection object.\n",
    "When a database is accessed by multiple connections, and one of the processes modifies the database, the SQLite database is locked until that transaction is committed. The timeout parameter specifies how long the connection should wait for the lock to go away until raising an exception. The default for the timeout parameter is 5.0 (five seconds).\n",
    "If the given database name does not exist then this call will create the database. You can specify filename with the required path as well if you want to create a database anywhere else except in the current directory.\n",
    "\n",
    "```python\n",
    "connection.cursor([cursorClass])\n",
    "```\n",
    "This routine creates a cursor which will be used throughout of your database programming with Python. This method accepts a single optional parameter cursorClass. If supplied, this must be a custom cursor class that extends sqlite3.Cursor.\n",
    "\n",
    "```python \n",
    "cursor.execute(sql [, optional parameters])\n",
    "```\n",
    "This routine executes an SQL statement. The SQL statement may be parameterized (i. e. placeholders instead of SQL literals). The sqlite3 module supports two kinds of placeholders: question marks and named placeholders (named style).\n",
    "For example − cursor.execute(\"insert into people values (?, ?)\", (who, age))\n",
    "\n",
    "```python \n",
    "connection.commit()\n",
    "```\n",
    "This method commits the current transaction. If you don't call this method, anything you did since the last call to commit() is not visible from other database connections.\n",
    "```python \n",
    "connection.rollback()\n",
    "```\n",
    "This method rolls back any changes to the database since the last call to commit\n",
    "\n",
    "```python\n",
    "connection.close()\n",
    "```\n",
    "\n",
    "This method closes the database connection. Note that this does not automatically call commit(). If you just close your database connection without calling commit() first, your changes will be lost!\n"
   ]
  },
  {
   "cell_type": "markdown",
   "metadata": {},
   "source": [
    "# Program 1\n",
    "\n",
    "Following Python code shows how to connect to an existing database. If the database does not exist, then it will be created and finally a database object will be returned.\n"
   ]
  },
  {
   "cell_type": "code",
   "execution_count": 1,
   "metadata": {},
   "outputs": [],
   "source": [
    "import sqlite3\n",
    "cxn=sqlite3.connect(\"example.db\")\n",
    "cur=cxn.cursor()"
   ]
  },
  {
   "cell_type": "code",
   "execution_count": 5,
   "metadata": {},
   "outputs": [
    {
     "data": {
      "text/plain": [
       "<sqlite3.Cursor at 0x7fabe99ea810>"
      ]
     },
     "execution_count": 5,
     "metadata": {},
     "output_type": "execute_result"
    }
   ],
   "source": [
    "# Execute only the first time to generate table\n",
    "cur.execute('create table tab1 (name char(20), age integer)')\n",
    "cur.execute('create table tab2 (name char(20), age integer)')"
   ]
  },
  {
   "cell_type": "code",
   "execution_count": 3,
   "metadata": {},
   "outputs": [
    {
     "name": "stdout",
     "output_type": "stream",
     "text": [
      "('chitra', 34)\n",
      "('rama', 34)\n",
      "('aa', 30)\n",
      "done\n"
     ]
    }
   ],
   "source": [
    "cur.execute('insert into tab1 values (\"chitra\",34)')\n",
    "cur.execute('insert into tab1 values (\"rama\",34)')\n",
    "cxn.execute('insert into tab2 values (\"Ganesh\",21)')\n",
    "cxn.execute('insert into tab2 values (\"Ggg\",21)')\n",
    "#usage of place holder. \n",
    "info=('aa',30)\n",
    "cur.execute('insert into tab1 (name,age) values (?,?)',info)\n",
    "x=cur.execute('select * from tab1')\n",
    "for i in x:\n",
    "    print(i)\n",
    "\n",
    "print(\"done\")"
   ]
  },
  {
   "cell_type": "code",
   "execution_count": 4,
   "metadata": {},
   "outputs": [
    {
     "data": {
      "text/plain": [
       "<sqlite3.Cursor at 0x7fabe99ea810>"
      ]
     },
     "execution_count": 4,
     "metadata": {},
     "output_type": "execute_result"
    }
   ],
   "source": [
    "# To Delete tab1 and tab2\n",
    "#cur.execute('drop table tab1')\n",
    "#cur.execute('drop table tab2')"
   ]
  },
  {
   "cell_type": "code",
   "execution_count": 18,
   "metadata": {},
   "outputs": [],
   "source": [
    "# To close the connection\n",
    "#cxn.commit()\n",
    "#cxn.close()"
   ]
  },
  {
   "cell_type": "markdown",
   "metadata": {},
   "source": [
    "## Program2:\n",
    "\n",
    "If you pass the file name as :memory: to the connect() function of the sqlite3 module, it will create a new database that resides in the memory (RAM) instead of a database file on disk.\n",
    "When this is done, no disk file is opened. Instead, a new database is created purely in memory. The database ceases to exist as soon as the database connection is closed. Every :memory: database is distinct from every other. So, opening two database connections each with the filename \":memory:\" will create two independent in-memory databases."
   ]
  },
  {
   "cell_type": "code",
   "execution_count": 7,
   "metadata": {},
   "outputs": [
    {
     "name": "stdout",
     "output_type": "stream",
     "text": [
      "('PAP', 2)\n"
     ]
    }
   ],
   "source": [
    "import sqlite3\n",
    "\n",
    "con = sqlite3.connect(\":memory:\") # create DB in RAM instead of Hard Disk\n",
    "cur = con.cursor()\n",
    "cur.execute(\"create table people (name_last, age)\")\n",
    "who = \"PAP\"\n",
    "age =2\n",
    "# This is the qmark style:\n",
    "cur.execute(\"insert into people values (?, ?)\", (who, age))\n",
    "# And this is the named style:\n",
    "cur.execute(\"select * from people where name_last=:who and age=:age\", {\"who\": who, \"age\": age})\n",
    "print (cur.fetchone())\n",
    " "
   ]
  },
  {
   "cell_type": "markdown",
   "metadata": {},
   "source": [
    "# Program 3"
   ]
  },
  {
   "cell_type": "code",
   "execution_count": 2,
   "metadata": {},
   "outputs": [],
   "source": [
    "import sqlite3\n",
    "conn = sqlite3.connect('class.db')"
   ]
  },
  {
   "cell_type": "code",
   "execution_count": 4,
   "metadata": {},
   "outputs": [
    {
     "name": "stdout",
     "output_type": "stream",
     "text": [
      "Opened database successfully\n",
      "Table created successfully\n",
      "Records created successfully\n"
     ]
    }
   ],
   "source": [
    "#create\n",
    "# \"\"\"\n",
    "print (\"Opened database successfully\")\n",
    "conn.execute('''CREATE TABLE COMPANY\n",
    "                         (ID INT PRIMARY KEY     NOT NULL,\n",
    "                            NAME           TEXT    NOT NULL,\n",
    "        \t\t AGE            INT     NOT NULL,\n",
    "       \t\t  ADDRESS        CHAR(50),\n",
    "        \t\t SALARY         REAL);''')\n",
    "print (\"Table created successfully\")\n",
    "#insert\n",
    "conn.execute(\"INSERT INTO COMPANY (ID,NAME,AGE,ADDRESS,SALARY) \\\n",
    "      VALUES (1, 'Paul', 32, 'California', 20000.00 )\");\n",
    "conn.execute(\"INSERT INTO COMPANY (ID,NAME,AGE,ADDRESS,SALARY) \\\n",
    "      VALUES (2, 'Allen', 25, 'Texas', 15000.00 )\");\n",
    "conn.execute(\"INSERT INTO COMPANY (ID,NAME,AGE,ADDRESS,SALARY) \\\n",
    "      VALUES (3, 'Teddy', 23, 'Norway', 20000.00 )\");\n",
    "conn.execute(\"INSERT INTO COMPANY (ID,NAME,AGE,ADDRESS,SALARY) \\\n",
    "      VALUES (4, 'Mark', 25, 'Rich-Mond ', 65000.00 )\");\n",
    "# \"\"\"\n",
    "conn.commit()\n",
    "print(\"Records created successfully\")\n"
   ]
  },
  {
   "cell_type": "code",
   "execution_count": 10,
   "metadata": {},
   "outputs": [
    {
     "name": "stdout",
     "output_type": "stream",
     "text": [
      "ID =  1\n",
      "NAME =  Paul\n",
      "ADDRESS =  California\n",
      "SALARY =  20000.0 \n",
      "\n",
      "ID =  2\n",
      "NAME =  Allen\n",
      "ADDRESS =  Texas\n",
      "SALARY =  15000.0 \n",
      "\n",
      "ID =  3\n",
      "NAME =  Teddy\n",
      "ADDRESS =  Norway\n",
      "SALARY =  20000.0 \n",
      "\n",
      "ID =  4\n",
      "NAME =  Mark\n",
      "ADDRESS =  Rich-Mond \n",
      "SALARY =  65000.0 \n",
      "\n",
      "Operation done successfully\n",
      "Total number of rows updated : 5\n"
     ]
    }
   ],
   "source": [
    "#select\n",
    "cursor = conn.execute(\"SELECT id, name, address, salary from COMPANY\")\n",
    "for row in cursor:\n",
    "    print (\"ID = \", row[0])\n",
    "    print (\"NAME = \", row[1])\n",
    "    print (\"ADDRESS = \", row[2])\n",
    "    print (\"SALARY = \", row[3], \"\\n\")\n",
    "print (\"Operation done successfully\")\n",
    "#-----------------------------------------------------------------------------------\n",
    "conn.execute(\"UPDATE COMPANY set SALARY = 25000.00 where ID = 1\")\n",
    "conn.commit()\n",
    "print (\"Total number of rows updated :\", conn.total_changes)\n",
    "conn.close()"
   ]
  },
  {
   "cell_type": "code",
   "execution_count": 3,
   "metadata": {},
   "outputs": [
    {
     "data": {
      "text/plain": [
       "<sqlite3.Cursor at 0x7f5d40718a40>"
      ]
     },
     "execution_count": 3,
     "metadata": {},
     "output_type": "execute_result"
    }
   ],
   "source": [
    "# To Delete\n",
    "# conn.execute(\"DROP TABLE COMPANY\")"
   ]
  },
  {
   "cell_type": "markdown",
   "metadata": {},
   "source": [
    "# SQL Alchemy"
   ]
  },
  {
   "cell_type": "code",
   "execution_count": 5,
   "metadata": {},
   "outputs": [
    {
     "name": "stdout",
     "output_type": "stream",
     "text": [
      "Defaulting to user installation because normal site-packages is not writeable\n",
      "Collecting sqlalchemy\n",
      "  Downloading SQLAlchemy-1.4.26-cp38-cp38-manylinux_2_5_x86_64.manylinux1_x86_64.manylinux_2_17_x86_64.manylinux2014_x86_64.whl (1.6 MB)\n",
      "     |████████████████████████████████| 1.6 MB 1.7 MB/s            \n",
      "\u001b[?25hRequirement already satisfied: greenlet!=0.4.17 in /usr/lib/python3/dist-packages (from sqlalchemy) (0.4.15)\n",
      "Installing collected packages: sqlalchemy\n",
      "Successfully installed sqlalchemy-1.4.26\n"
     ]
    }
   ],
   "source": [
    "!pip install sqlalchemy"
   ]
  },
  {
   "cell_type": "code",
   "execution_count": 1,
   "metadata": {},
   "outputs": [],
   "source": [
    "from sqlalchemy import create_engine,MetaData,Table,Column,Integer,String,ForeignKey"
   ]
  },
  {
   "cell_type": "code",
   "execution_count": 2,
   "metadata": {},
   "outputs": [
    {
     "name": "stdout",
     "output_type": "stream",
     "text": [
      "2021-11-10 13:13:36,587 INFO sqlalchemy.engine.Engine BEGIN (implicit)\n",
      "2021-11-10 13:13:36,588 INFO sqlalchemy.engine.Engine PRAGMA main.table_info(\"students\")\n",
      "2021-11-10 13:13:36,588 INFO sqlalchemy.engine.Engine [raw sql] ()\n",
      "2021-11-10 13:13:36,589 INFO sqlalchemy.engine.Engine PRAGMA temp.table_info(\"students\")\n",
      "2021-11-10 13:13:36,590 INFO sqlalchemy.engine.Engine [raw sql] ()\n",
      "2021-11-10 13:13:36,590 INFO sqlalchemy.engine.Engine PRAGMA main.table_info(\"exam_sect\")\n",
      "2021-11-10 13:13:36,591 INFO sqlalchemy.engine.Engine [raw sql] ()\n",
      "2021-11-10 13:13:36,591 INFO sqlalchemy.engine.Engine PRAGMA temp.table_info(\"exam_sect\")\n",
      "2021-11-10 13:13:36,592 INFO sqlalchemy.engine.Engine [raw sql] ()\n",
      "2021-11-10 13:13:36,592 INFO sqlalchemy.engine.Engine \n",
      "CREATE TABLE students (\n",
      "\tid INTEGER NOT NULL, \n",
      "\tfirstname VARCHAR, \n",
      "\tPRIMARY KEY (id)\n",
      ")\n",
      "\n",
      "\n",
      "2021-11-10 13:13:36,593 INFO sqlalchemy.engine.Engine [no key 0.00082s] ()\n",
      "2021-11-10 13:13:36,603 INFO sqlalchemy.engine.Engine \n",
      "CREATE TABLE exam_sect (\n",
      "\tid INTEGER NOT NULL, \n",
      "\tst_id INTEGER, \n",
      "\tmarks INTEGER, \n",
      "\tPRIMARY KEY (id), \n",
      "\tFOREIGN KEY(st_id) REFERENCES students (id)\n",
      ")\n",
      "\n",
      "\n",
      "2021-11-10 13:13:36,604 INFO sqlalchemy.engine.Engine [no key 0.00066s] ()\n",
      "2021-11-10 13:13:36,614 INFO sqlalchemy.engine.Engine COMMIT\n"
     ]
    }
   ],
   "source": [
    "engine=create_engine('sqlite:///university_db',echo=True)\n",
    "meta=MetaData()\n",
    "students=Table('students',meta,Column('id',Integer,primary_key=True),\n",
    "Column('firstname',String))\n",
    "\n",
    "\n",
    "exam_sect=Table('exam_sect',meta,\n",
    "Column('id',Integer,primary_key=True),\n",
    "Column('st_id',Integer, ForeignKey('students.id')),\n",
    "Column('marks',Integer))\n",
    "meta.create_all(engine)\n"
   ]
  },
  {
   "cell_type": "code",
   "execution_count": 5,
   "metadata": {},
   "outputs": [
    {
     "name": "stdout",
     "output_type": "stream",
     "text": [
      "2021-11-10 13:14:05,432 INFO sqlalchemy.engine.Engine INSERT INTO students (id, firstname) VALUES (?, ?)\n",
      "2021-11-10 13:14:05,434 INFO sqlalchemy.engine.Engine [generated in 0.00219s] ((13, 'abc'), (14, 'def'))\n",
      "2021-11-10 13:14:05,436 INFO sqlalchemy.engine.Engine COMMIT\n",
      "2021-11-10 13:14:05,463 INFO sqlalchemy.engine.Engine SELECT students.id, students.firstname \n",
      "FROM students\n",
      "2021-11-10 13:14:05,464 INFO sqlalchemy.engine.Engine [generated in 0.00085s] ()\n",
      "(13, 'abc')\n",
      "(14, 'def')\n",
      "2021-11-10 13:14:05,466 INFO sqlalchemy.engine.Engine UPDATE students SET firstname=? WHERE students.firstname = ?\n",
      "2021-11-10 13:14:05,466 INFO sqlalchemy.engine.Engine [generated in 0.00041s] ('CGM', 'chitra')\n",
      "2021-11-10 13:14:05,467 INFO sqlalchemy.engine.Engine COMMIT\n",
      "2021-11-10 13:14:05,468 INFO sqlalchemy.engine.Engine SELECT students.id, students.firstname \n",
      "FROM students\n",
      "2021-11-10 13:14:05,469 INFO sqlalchemy.engine.Engine [cached since 0.005865s ago] ()\n",
      "(13, 'abc')\n"
     ]
    }
   ],
   "source": [
    "engine=create_engine('sqlite:///university_db',echo=True)\n",
    "meta=MetaData()\n",
    "students=Table('students',meta,Column('id',Integer,primary_key=True),\n",
    "Column('firstname',String))\n",
    "\n",
    "#meta.create_all(engine)\n",
    "\n",
    "#ins=students.insert().values(id=12,firstname='chitra')\n",
    "conn=engine.connect()\n",
    "conn.execute(students.insert(),[{'id':13,'firstname':'abc'},{'id':14,'firstname':'def'}])\n",
    "s1=students.select()\n",
    "res=conn.execute(s1)\n",
    "for i in res:\n",
    "    print(i)\n",
    "\n",
    "s1=students.update().where(students.c.firstname=='chitra').values(firstname='CGM')\n",
    "conn.execute(s1)\n",
    "s=students.select()\n",
    "print(conn.execute(s).fetchone())"
   ]
  },
  {
   "cell_type": "code",
   "execution_count": null,
   "metadata": {},
   "outputs": [],
   "source": []
  }
 ],
 "metadata": {
  "interpreter": {
   "hash": "95cb561d684e273be7430146e3ed2c0199570812864dc3ea408fea5378453ef7"
  },
  "kernelspec": {
   "display_name": "Python 3",
   "language": "python",
   "name": "python3"
  },
  "language_info": {
   "codemirror_mode": {
    "name": "ipython",
    "version": 3
   },
   "file_extension": ".py",
   "mimetype": "text/x-python",
   "name": "python",
   "nbconvert_exporter": "python",
   "pygments_lexer": "ipython3",
   "version": "3.8.10"
  }
 },
 "nbformat": 4,
 "nbformat_minor": 2
}
