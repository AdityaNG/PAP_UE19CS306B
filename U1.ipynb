{
 "cells": [
  {
   "cell_type": "markdown",
   "source": [
    "# Programming Paradigms in Python\n",
    "## Python uses 4 programming paradigms:\n",
    "* Object Oriented\n",
    "* Functional (Lambda Functions)\n",
    "* Imperative\n",
    "* Procedural\n",
    "\n",
    "# Object Oriented Programming Paradigm\n",
    "- OOPS solves real world problems using virtual environments.\n",
    "- Class is a blueprint that defines an object.\n",
    "\n",
    "#### Note: Look up [Python Visualizer](https://pythontutor.com/)"
   ],
   "metadata": {}
  },
  {
   "cell_type": "markdown",
   "source": [
    "### Classes\n",
    "* Blueprint that defines an object\n",
    "* A class has:\n",
    "    * Data, variables, attributes\n",
    "    * Methods\n",
    "    * Static Methods\n",
    "* The Variables and Methods of a class are of two types: \n",
    "    * Class variables / methods\n",
    "    * Instance variables / methods\n",
    "* A variable declared inside a class and outside a class method is called as the class variable. \n",
    "  Eg: A variable to hold the number of instances of a class\n",
    "* Static methods and variable are independent of any class or instance"
   ],
   "metadata": {}
  },
  {
   "cell_type": "code",
   "execution_count": 5,
   "source": [
    "class movie:\n",
    "    numMovies = 0\n",
    "    # Implicit function called every time an object is instanciated. In Python, special functions start and end with '__'.\n",
    "    # Note: self is not a keyword. Its just a mere convention.\n",
    "    def __init__(self, name, rating): # This function is also called as the constructor or the instance method.\n",
    "        # The parameters of the instance method are called as the instance variables.\n",
    "        # Hence, name and rating are the instance variables here.\n",
    "        self.name = name\n",
    "        self.rating = rating\n",
    "        movie.numMovies += 1 # Here, numMovies is a class variable\n",
    "    \n",
    "    # This is an example of an instance method\n",
    "    def details(self):\n",
    "        print(f\"Movie name : {self.name}\")\n",
    "        print(f\"Ratings : {self.rating}\")\n",
    "    \n",
    "    # This is an example of an instance method\n",
    "    def genre(self): # self here acts as a pointer to the instance of the object that is calling this member function.\n",
    "        print(\"In genre\")\n",
    "\n",
    "    # An instance method takes an instance as one of the arguments.\n",
    "    # Class methods take a class as an argument. This is achieved through decorators.\n",
    "    \n",
    "    # An example of a class method\n",
    "    @classmethod\n",
    "    def movieCount(cls):\n",
    "        print(cls.numMovies)\n",
    "    \n",
    "    @staticmethod # This method can be accessed both by the class as well as the instances\n",
    "    def independent():\n",
    "        print(\"I'm not dependant on this class or its instances!!\")"
   ],
   "outputs": [],
   "metadata": {}
  },
  {
   "cell_type": "code",
   "execution_count": 6,
   "source": [
    "m1 = movie(\"Avengers\", 10) # Equivalent to movie.__init__(m1, \"Avengers\", 10)\n",
    "m2 = movie(\"Interstellar\", 10)\n",
    "m1.genre() # This is equavalent to movie.genre(m1). The object instance is passed as the first argument to every member function call.\n",
    "print(movie.numMovies, m1.numMovies) # A class variable can be accessed from an instance as well. \n",
    "# However, an instance variable cannot be accessed by a class.\n",
    "movie.movieCount()\n",
    "movie.independent()"
   ],
   "outputs": [
    {
     "output_type": "stream",
     "name": "stdout",
     "text": [
      "In genre\n",
      "2 2\n",
      "2\n",
      "I'm not dependant on this class or its instances!!\n"
     ]
    }
   ],
   "metadata": {}
  },
  {
   "cell_type": "markdown",
   "source": [
    "## Q) Write a class called csFaculty which has a method called expertise and data members facultyName and experience"
   ],
   "metadata": {}
  },
  {
   "cell_type": "code",
   "execution_count": 7,
   "source": [
    "class csFaculty:\n",
    "    def __init__(self, name, experience, domain): \n",
    "        self.name = name\n",
    "        self.experience = experience\n",
    "        self.domain =  domain\n",
    "    \n",
    "    def expertise(self): \n",
    "        print(f\"{self.name} has {self.experience} years of experience in {self.domain}\")\n",
    "\n",
    "faculty1 = csFaculty(\"abc\", 4, \"ML\")\n",
    "faculty2 = csFaculty(\"def\", 10, \"Data Science\")\n",
    "\n",
    "faculty1.expertise()\n",
    "faculty2.expertise()"
   ],
   "outputs": [
    {
     "output_type": "stream",
     "name": "stdout",
     "text": [
      "abc has 4 years of experience in ML\n",
      "def has 10 years of experience in Data Science\n"
     ]
    }
   ],
   "metadata": {}
  },
  {
   "cell_type": "markdown",
   "source": [
    "### Inheritance\n",
    "A class can inherit properties from other classes. This is called inheritance."
   ],
   "metadata": {}
  },
  {
   "cell_type": "code",
   "execution_count": 8,
   "source": [
    "class parent:\n",
    "    def __init__(self):\n",
    "        print(\"In Parent's init\")\n",
    "    def method1(self):\n",
    "        print(\"Parent's method1\")\n",
    "\n",
    "# Example of a single level inheritance\n",
    "class child(parent): # Child inherits from parent (child can be called as the derived or the sub class of parent, which is its superclass)\n",
    "    def method2(self):\n",
    "        print(\"Child's method2\")\n",
    "\n",
    "# Example of heirarchical inheritance\n",
    "class grandChild(child):\n",
    "    def method3(self):\n",
    "        print(\"Granchild's method3\")\n",
    "\n",
    "c1 = child()\n",
    "c1.method1() # \n",
    "c1.method2() # child.method2(c1)\n",
    "\n",
    "print()\n",
    "\n",
    "gc = grandChild()\n",
    "gc.method1()\n",
    "gc.method2()\n",
    "gc.method3()\n",
    "\n",
    "# Note: If an object has its own init method, it is called during instanciation.\n",
    "# Otherwise, it'll go up the heirarchy and call the init method of the nearest superclass."
   ],
   "outputs": [
    {
     "output_type": "stream",
     "name": "stdout",
     "text": [
      "Parent's method1\n",
      "Child's method2\n",
      "\n",
      "Parent's method1\n",
      "Child's method2\n",
      "Granchild's method3\n"
     ]
    }
   ],
   "metadata": {}
  },
  {
   "cell_type": "markdown",
   "source": [
    "# Class 2"
   ],
   "metadata": {}
  },
  {
   "cell_type": "code",
   "execution_count": 1,
   "source": [
    "class parent:\n",
    "    def __init__(self) -> None:\n",
    "        print(\"In Parent's init\")\n",
    "\n",
    "class child(parent):\n",
    "    def __init__(self) -> None:\n",
    "        super().__init__() # Used to call the init function of the superclass\n",
    "        print(\"In Child's init\")\n",
    "\n",
    "c = child()"
   ],
   "outputs": [
    {
     "output_type": "stream",
     "name": "stdout",
     "text": [
      "In Parent's init\n",
      "In Child's init\n"
     ]
    }
   ],
   "metadata": {}
  },
  {
   "cell_type": "code",
   "execution_count": 3,
   "source": [
    "class A:\n",
    "    def m1(self):\n",
    "        print(\"In m1\")\n",
    "\n",
    "class B:\n",
    "    def m2(self):\n",
    "        print(\"In m2\")\n",
    "\n",
    "# Multiple inheritance: The derived class can inherit from multiple base classes\n",
    "class C(A, B):\n",
    "    def m3(self):\n",
    "        print(\"In m3\")\n",
    "\n",
    "c1 = C()\n",
    "c1.m3()\n",
    "c1.m2()\n",
    "c1.m1()"
   ],
   "outputs": [
    {
     "output_type": "stream",
     "name": "stdout",
     "text": [
      "In m3\n",
      "In m2\n",
      "In m1\n"
     ]
    }
   ],
   "metadata": {}
  },
  {
   "cell_type": "code",
   "execution_count": 4,
   "source": [
    "# If there are multiple functions with the same name, the resolution takes place from left to right class.\n",
    "# i.e, if the function is defined in the derived class, it is called. \n",
    "\n",
    "class A:\n",
    "    def m(self):\n",
    "        print(\"In m1\")\n",
    "\n",
    "class B:\n",
    "    def m(self):\n",
    "        print(\"In m2\")\n",
    "\n",
    "# Multiple inheritance: The derived class can inherit from multiple base classes\n",
    "class C(A, B):\n",
    "    def m(self):\n",
    "        print(\"In m3\")\n",
    "\n",
    "c1 = C()\n",
    "c1.m()"
   ],
   "outputs": [
    {
     "output_type": "stream",
     "name": "stdout",
     "text": [
      "In m3\n"
     ]
    }
   ],
   "metadata": {}
  },
  {
   "cell_type": "code",
   "execution_count": 5,
   "source": [
    "# If not, python uses the method resolution operator (MRO) to search for the declaration of that function in the parent classes in the same\n",
    "# order of their listing while defining the derived class. Hence, the lookup will be from class A to class B here.\n",
    "\n",
    "class A:\n",
    "    def m(self):\n",
    "        print(\"In m1\")\n",
    "\n",
    "class B:\n",
    "    def m(self):\n",
    "        print(\"In m2\")\n",
    "\n",
    "# Multiple inheritance: The derived class can inherit from multiple base classes\n",
    "class C(A, B):\n",
    "    def m1(self):\n",
    "        print(\"In m3\")\n",
    "\n",
    "c1 = C()\n",
    "c1.m()"
   ],
   "outputs": [
    {
     "output_type": "stream",
     "name": "stdout",
     "text": [
      "In m1\n"
     ]
    }
   ],
   "metadata": {}
  },
  {
   "cell_type": "markdown",
   "source": [
    "## Generators\n",
    "* Generators have a yield statement that returns the next value when called repeatedly.\n",
    "* Once the values are over, it returns an exception called StopIteration.\n",
    "* The first time a generator function is called, it returns a generator object that is iterable.\n",
    "* Every time a generator function is called it is executes till the the next yield statement and returns the value in that yield.\n",
    "* The generator remembers the position of the statement following the yield so as to transfer control to that statement when next() is called.\n",
    "* The next time it is called using the next() method, it executes from the previous point till the next yield statement and returns that value.\n",
    "* Once all the yield statements are exhausted, it returns a StopIteration exception"
   ],
   "metadata": {}
  },
  {
   "cell_type": "code",
   "execution_count": 11,
   "source": [
    "def generator(): # Lazy functions that produce values only when requested \n",
    "    print(\"Inside generator\")\n",
    "    yield 100\n",
    "    print(\"Second call\")\n",
    "    yield 200\n",
    "    print(\"Third call\")\n",
    "    yield 300\n",
    "    print(\"Last call\")\n",
    "\n",
    "f = generator() # Now f is a generator object which is iterable.\n",
    "\n",
    "result = next(f)\n",
    "print(result)\n",
    "\n",
    "result = next(f)\n",
    "print(result)\n",
    "\n",
    "result = next(f)\n",
    "print(result)\n",
    "\n",
    "result = next(f)\n",
    "print(result)"
   ],
   "outputs": [
    {
     "output_type": "stream",
     "name": "stdout",
     "text": [
      "Inside generator\n",
      "100\n",
      "Second call\n",
      "200\n",
      "Third call\n",
      "300\n",
      "Last call\n"
     ]
    },
    {
     "output_type": "error",
     "ename": "StopIteration",
     "evalue": "",
     "traceback": [
      "\u001b[0;31m---------------------------------------------------------------------------\u001b[0m",
      "\u001b[0;31mStopIteration\u001b[0m                             Traceback (most recent call last)",
      "\u001b[0;32m/tmp/ipykernel_53107/729478424.py\u001b[0m in \u001b[0;36m<module>\u001b[0;34m\u001b[0m\n\u001b[1;32m     19\u001b[0m \u001b[0mprint\u001b[0m\u001b[0;34m(\u001b[0m\u001b[0mresult\u001b[0m\u001b[0;34m)\u001b[0m\u001b[0;34m\u001b[0m\u001b[0;34m\u001b[0m\u001b[0m\n\u001b[1;32m     20\u001b[0m \u001b[0;34m\u001b[0m\u001b[0m\n\u001b[0;32m---> 21\u001b[0;31m \u001b[0mresult\u001b[0m \u001b[0;34m=\u001b[0m \u001b[0mnext\u001b[0m\u001b[0;34m(\u001b[0m\u001b[0mf\u001b[0m\u001b[0;34m)\u001b[0m\u001b[0;34m\u001b[0m\u001b[0;34m\u001b[0m\u001b[0m\n\u001b[0m\u001b[1;32m     22\u001b[0m \u001b[0mprint\u001b[0m\u001b[0;34m(\u001b[0m\u001b[0mresult\u001b[0m\u001b[0;34m)\u001b[0m\u001b[0;34m\u001b[0m\u001b[0;34m\u001b[0m\u001b[0m\n",
      "\u001b[0;31mStopIteration\u001b[0m: "
     ]
    }
   ],
   "metadata": {}
  },
  {
   "cell_type": "code",
   "execution_count": 12,
   "source": [
    "for i in generator():\n",
    "    print(i)"
   ],
   "outputs": [
    {
     "output_type": "stream",
     "name": "stdout",
     "text": [
      "Inside generator\n",
      "100\n",
      "Second call\n",
      "200\n",
      "Third call\n",
      "300\n",
      "Last call\n"
     ]
    }
   ],
   "metadata": {}
  },
  {
   "cell_type": "markdown",
   "source": [
    "## Iterators\n"
   ],
   "metadata": {}
  },
  {
   "cell_type": "code",
   "execution_count": 27,
   "source": [
    "class container:\n",
    "    def __init__(self, *args) -> None:\n",
    "        self.data = args\n",
    "    \n",
    "    def __iter__(self):\n",
    "        self.i = 0\n",
    "        return self\n",
    "    \n",
    "    def __next__(self):\n",
    "        self.i += 1\n",
    "        if self.i <= len(self.data): return self.data[self.i - 1]\n",
    "        else: raise StopIteration\n",
    "\n",
    "nums = container(1,2,3,4,5,6)\n",
    "\n",
    "# for calls nums.__iter__() i.e, contain.__iter__(nums) which returns an iterable on which the for calls next() repeatedly\n",
    "for i in nums:  \n",
    "    print(i)"
   ],
   "outputs": [
    {
     "output_type": "stream",
     "name": "stdout",
     "text": [
      "1\n",
      "2\n",
      "3\n",
      "4\n",
      "5\n",
      "6\n"
     ]
    }
   ],
   "metadata": {}
  },
  {
   "cell_type": "code",
   "execution_count": 34,
   "source": [
    "# This is what happens behind the scenes of iterables in python.\n",
    "\n",
    "it1 = iter([1,2,3,4,5,6])\n",
    "print(next(it1))\n",
    "print(next(it1))\n",
    "print(next(it1))\n",
    "\n",
    "print(\"----------\")\n",
    "\n",
    "c = container(1,2,3,4)\n",
    "\n",
    "it2 = iter(c)\n",
    "it3 = iter(c)\n",
    "it4 = iter(c)\n",
    "it5 = iter(c)\n",
    "print(next(it2))\n",
    "print(next(it3))\n",
    "print(next(it4))\n",
    "print(next(it5))"
   ],
   "outputs": [
    {
     "output_type": "stream",
     "name": "stdout",
     "text": [
      "1\n",
      "2\n",
      "3\n",
      "----------\n",
      "1\n",
      "2\n",
      "3\n",
      "4\n"
     ]
    }
   ],
   "metadata": {}
  },
  {
   "cell_type": "markdown",
   "source": [
    "## Design Patterns\n",
    "* Reusable solutions for solving problems that look alike.\n",
    "* The philosophy of Design Patterns was devised by GF (Gang of Four) who were influenced from the architecture department.\n",
    "* Can be used as a template to solve problems.\n",
    "* Language agnostic.\n",
    "* Open to improve, dynamic and scalable.\n",
    "\n",
    "Broadly classified into three categories:\n",
    "1. Creational\n",
    "    * Focussed on how objects are created (instantiated).\n",
    "    * Singleton, Borg (Monostate), Factory, Builder, Prototype, etc.\n",
    "2. Structural\n",
    "    * Concerned with how classes and objects are composed to form larger structures.\n",
    "    * Decouples interface and implementation of classes and objects.\n",
    "    * Composition of objects and classes.\n",
    "    * Provides simple front end to the client.\n",
    "    * Adaptor, Decorator, Facade, etc.\n",
    "3. Behavioural\n",
    "    * Focusses on relationship between classes and objects.\n",
    "    * Concerned with the communication between classes and objects (how they interact with each other)\n",
    "    * Decouples interface and implementation of classes and objects. ~(Doubtful)~\n",
    "    * Observer (subset of Publisher Subscriber Pattern), State, Template, etc."
   ],
   "metadata": {}
  },
  {
   "cell_type": "markdown",
   "source": [
    "## Creational Design Pattern\n",
    "### Singleton Design Pattern\n",
    "Creates one and only one object for a class."
   ],
   "metadata": {}
  },
  {
   "cell_type": "code",
   "execution_count": 38,
   "source": [
    "class singleton:\n",
    "    instance = None # A class variable\n",
    "    \n",
    "    def __init__(self) -> None:\n",
    "        if singleton.instance != None: raise Exception(\"Cannot instantiate more than one instance of this singleton class\")\n",
    "        else: singleton.instance = self \n",
    "    \n",
    "    def getInstance():\n",
    "        if singleton.instance == None: singleton()\n",
    "        return singleton.instance\n",
    "\n",
    "obj = singleton()\n",
    "print(obj)\n",
    "\n",
    "print(singleton.getInstance())\n",
    "print(type(obj))\n",
    "\n",
    "obj2 = singleton()"
   ],
   "outputs": [
    {
     "output_type": "stream",
     "name": "stdout",
     "text": [
      "<__main__.singleton object at 0x7f2e780bcbb0>\n",
      "<__main__.singleton object at 0x7f2e780bcbb0>\n",
      "<class '__main__.singleton'>\n"
     ]
    },
    {
     "output_type": "error",
     "ename": "Exception",
     "evalue": "Cannot instantiate more than one instance of this singleton class",
     "traceback": [
      "\u001b[0;31m---------------------------------------------------------------------------\u001b[0m",
      "\u001b[0;31mException\u001b[0m                                 Traceback (most recent call last)",
      "\u001b[0;32m/tmp/ipykernel_53107/3087600801.py\u001b[0m in \u001b[0;36m<module>\u001b[0;34m\u001b[0m\n\u001b[1;32m     16\u001b[0m \u001b[0mprint\u001b[0m\u001b[0;34m(\u001b[0m\u001b[0mtype\u001b[0m\u001b[0;34m(\u001b[0m\u001b[0mobj\u001b[0m\u001b[0;34m)\u001b[0m\u001b[0;34m)\u001b[0m\u001b[0;34m\u001b[0m\u001b[0;34m\u001b[0m\u001b[0m\n\u001b[1;32m     17\u001b[0m \u001b[0;34m\u001b[0m\u001b[0m\n\u001b[0;32m---> 18\u001b[0;31m \u001b[0mobj2\u001b[0m \u001b[0;34m=\u001b[0m \u001b[0msingleton\u001b[0m\u001b[0;34m(\u001b[0m\u001b[0;34m)\u001b[0m\u001b[0;34m\u001b[0m\u001b[0;34m\u001b[0m\u001b[0m\n\u001b[0m",
      "\u001b[0;32m/tmp/ipykernel_53107/3087600801.py\u001b[0m in \u001b[0;36m__init__\u001b[0;34m(self)\u001b[0m\n\u001b[1;32m      3\u001b[0m \u001b[0;34m\u001b[0m\u001b[0m\n\u001b[1;32m      4\u001b[0m     \u001b[0;32mdef\u001b[0m \u001b[0m__init__\u001b[0m\u001b[0;34m(\u001b[0m\u001b[0mself\u001b[0m\u001b[0;34m)\u001b[0m \u001b[0;34m->\u001b[0m \u001b[0;32mNone\u001b[0m\u001b[0;34m:\u001b[0m\u001b[0;34m\u001b[0m\u001b[0;34m\u001b[0m\u001b[0m\n\u001b[0;32m----> 5\u001b[0;31m         \u001b[0;32mif\u001b[0m \u001b[0msingleton\u001b[0m\u001b[0;34m.\u001b[0m\u001b[0minstance\u001b[0m \u001b[0;34m!=\u001b[0m \u001b[0;32mNone\u001b[0m\u001b[0;34m:\u001b[0m \u001b[0;32mraise\u001b[0m \u001b[0mException\u001b[0m\u001b[0;34m(\u001b[0m\u001b[0;34m\"Cannot instantiate more than one instance of this singleton class\"\u001b[0m\u001b[0;34m)\u001b[0m\u001b[0;34m\u001b[0m\u001b[0;34m\u001b[0m\u001b[0m\n\u001b[0m\u001b[1;32m      6\u001b[0m         \u001b[0;32melse\u001b[0m\u001b[0;34m:\u001b[0m \u001b[0msingleton\u001b[0m\u001b[0;34m.\u001b[0m\u001b[0minstance\u001b[0m \u001b[0;34m=\u001b[0m \u001b[0mself\u001b[0m\u001b[0;34m\u001b[0m\u001b[0;34m\u001b[0m\u001b[0m\n\u001b[1;32m      7\u001b[0m \u001b[0;34m\u001b[0m\u001b[0m\n",
      "\u001b[0;31mException\u001b[0m: Cannot instantiate more than one instance of this singleton class"
     ]
    }
   ],
   "metadata": {}
  },
  {
   "cell_type": "markdown",
   "source": [
    "# Class 3 (11.9.2021)"
   ],
   "metadata": {}
  },
  {
   "cell_type": "markdown",
   "source": [
    "## Creational Design Pattern\n",
    "### Borg Design Pattern (Mono State design pattern)\n",
    "Allows creation of multiple instances that share the same state (using static data)."
   ],
   "metadata": {}
  },
  {
   "cell_type": "code",
   "execution_count": 4,
   "source": [
    "class test:\n",
    "    def __init__(self, name) -> None:\n",
    "        self.name = name\n",
    "\n",
    "print(test.__dict__) # Print class info in the form of key value pairs\n",
    "\n",
    "print(\"--------------\")\n",
    "\n",
    "o1 = test('abc')\n",
    "print(o1.__dict__)\n",
    "print(o1.__dict__['name'])"
   ],
   "outputs": [
    {
     "output_type": "stream",
     "name": "stdout",
     "text": [
      "{'__module__': '__main__', '__init__': <function test.__init__ at 0x7f646819eaf0>, '__dict__': <attribute '__dict__' of 'test' objects>, '__weakref__': <attribute '__weakref__' of 'test' objects>, '__doc__': None}\n",
      "--------------\n",
      "{'name': 'abc'}\n",
      "abc\n"
     ]
    }
   ],
   "metadata": {}
  },
  {
   "cell_type": "code",
   "execution_count": 8,
   "source": [
    "class borg:\n",
    "    _shared = {}\n",
    "    \n",
    "    def __init__(self) -> None:\n",
    "        print(self._shared)\n",
    "        self.__dict__ = self._shared\n",
    "        print(self.__dict__)\n",
    "\n",
    "class singleton(borg):\n",
    "    def __init__(self, name) -> None:\n",
    "        borg.__init__(self) # super().__init__()\n",
    "        self.name = name\n",
    "\n",
    "o1 = singleton('abc')\n",
    "print(f\"o1 : {o1}\")\n",
    "print(f\"o1.name : {o1.name}\")\n",
    "\n",
    "print()\n",
    "\n",
    "o2 = singleton('def')\n",
    "print(f\"o2 : {o2}\")\n",
    "print(f\"o2.name : {o2.name}\")\n",
    "\n",
    "print()\n",
    "print(f\"o1 : {o1}\")\n",
    "print(f\"o1.name : {o1.name}\")"
   ],
   "outputs": [
    {
     "output_type": "stream",
     "name": "stdout",
     "text": [
      "{}\n",
      "{}\n",
      "o1 : <__main__.singleton object at 0x7f646b266bb0>\n",
      "o1.name : abc\n",
      "\n",
      "{'name': 'abc'}\n",
      "{'name': 'abc'}\n",
      "o2 : <__main__.singleton object at 0x7f6458cedf70>\n",
      "o2.name : def\n",
      "\n",
      "o1 : <__main__.singleton object at 0x7f646b266bb0>\n",
      "o1.name : def\n"
     ]
    }
   ],
   "metadata": {}
  },
  {
   "cell_type": "markdown",
   "source": [
    "## Behavioural Design Pattern\n",
    "### Observer Design Pattern\n",
    "* Two classes (say employers and job seekers) can subscribe to two different kinds of notification belonging to a common subject (say job agency).\n",
    "* Subset of Publisher-Subscriber Design Pattern.\n",
    "* An object called the subject maintains a list of its dependents (objects that would like to receive updates) called observers.\n",
    "* The subject notifies all its dependents automatically when any state change occurs by calling one of its methods.\n",
    "* This design pattern is used for implementing distributed event handlers."
   ],
   "metadata": {}
  },
  {
   "cell_type": "markdown",
   "source": [
    "# Class 4 (13.9.2021)"
   ],
   "metadata": {}
  },
  {
   "cell_type": "code",
   "execution_count": 1,
   "source": [
    "class Subject:\n",
    "    def __init__(self) -> None:\n",
    "        pass\n",
    "\n",
    "class Publisher:\n",
    "    def __init__(self) -> None: pass\n",
    "    def register(self):   pass # Override this method in the child class\n",
    "    def unregister(self): pass\n",
    "    def notifyAll(self):  pass\n",
    "\n",
    "class Subscriber:\n",
    "    def __init__(self) -> None: pass\n",
    "    def notify(self): pass\n",
    "\n",
    "class TechForum(Publisher):\n",
    "    def __init__(self) -> None:\n",
    "        #super().__init__()\n",
    "        self._listOfUsers = []\n",
    "        self.postName = None\n",
    "    \n",
    "    def register(self, user):\n",
    "        if user not in self._listOfUsers: self._listOfUsers.append(user)\n",
    "        \n",
    "    def unregister(self, user):\n",
    "        self._listOfUsers.remove(user)\n",
    "    \n",
    "    def notifyAll(self):\n",
    "        for user in self._listOfUsers:\n",
    "            user.notify(self.postName)\n",
    "    \n",
    "    def writePost(self, postName):\n",
    "        self.postName = postName\n",
    "        self.notifyAll()\n",
    "\n",
    "class User1(Subscriber):\n",
    "    def notify(self, postName):\n",
    "        print(f\"User1 notified with new post {postName}\")\n",
    "\n",
    "class User2(Subscriber):\n",
    "    def notify(self, postName):\n",
    "        print(f\"User2 notified with new post {postName}\")\n",
    "    \n",
    "class SisterSites(Subscriber):\n",
    "    def __init__(self) -> None:\n",
    "        #super().__init__()\n",
    "        self.sisterWebsites = ['Site1', 'Site2', 'Site3']\n",
    "    \n",
    "    def notify(self, postName): \n",
    "        for site in self.sisterWebsites: print(f\"Sending notification to {site}\")\n",
    " "
   ],
   "outputs": [],
   "metadata": {}
  },
  {
   "cell_type": "code",
   "execution_count": 5,
   "source": [
    "techForum = TechForum()\n",
    "u1 = User1()\n",
    "u2 = User2()\n",
    "sites = SisterSites()\n",
    "\n",
    "techForum.register(u1)\n",
    "techForum.register(u2)\n",
    "techForum.register(sites)\n",
    "\n",
    "techForum.writePost('New post...')\n",
    "\n",
    "techForum.unregister(u2)\n",
    "\n",
    "print()\n",
    "\n",
    "techForum.writePost('New post2...')"
   ],
   "outputs": [
    {
     "output_type": "stream",
     "name": "stdout",
     "text": [
      "User1 notified with new post New post...\n",
      "User2 notified with new post New post...\n",
      "Sending notification to Site1\n",
      "Sending notification to Site2\n",
      "Sending notification to Site3\n",
      "\n",
      "User1 notified with new post New post2...\n",
      "Sending notification to Site1\n",
      "Sending notification to Site2\n",
      "Sending notification to Site3\n"
     ]
    }
   ],
   "metadata": {}
  },
  {
   "cell_type": "markdown",
   "source": [
    "## Structural Design Pattern\n",
    "Decouples interface and implementation\n",
    "### Facade\n",
    "* Eg: Test automation framework.\n",
    "* Every testcase will have a method called run. \n",
    "* Instead of calling all the testcases explicitly, facade provides a wrapper that internally calls all the testcases."
   ],
   "metadata": {}
  },
  {
   "cell_type": "code",
   "execution_count": 9,
   "source": [
    "import time\n",
    "\n",
    "class TC1:\n",
    "    def run(self):\n",
    "        print(\"-----T1-----\")\n",
    "        time.sleep(1)\n",
    "        print('Setting up...')\n",
    "        time.sleep(1)\n",
    "        print('Running...')\n",
    "        time.sleep(1)\n",
    "        print('Done.')\n",
    "        print()\n",
    "\n",
    "class TC2:\n",
    "    def run(self):\n",
    "        print(\"-----T2-----\")\n",
    "        time.sleep(1)\n",
    "        print('Setting up...')\n",
    "        time.sleep(1)\n",
    "        print('Running...')\n",
    "        time.sleep(1)\n",
    "        print('Done.')\n",
    "        print()\n",
    "\n",
    "class TC3:\n",
    "    def run(self):\n",
    "        print(\"-----T3-----\")\n",
    "        time.sleep(1)\n",
    "        print('Setting up...')\n",
    "        time.sleep(1)\n",
    "        print('Running...')\n",
    "        time.sleep(1)\n",
    "        print('Done.')\n",
    "        print()\n",
    "    \n",
    "# Facade\n",
    "class TestRunner:\n",
    "    def __init__(self) -> None:\n",
    "        self.tc1 = TC1()\n",
    "        self.tc2 = TC2()\n",
    "        self.tc3 = TC3()\n",
    "    \n",
    "    def runall(self):\n",
    "        self.tc1.run()\n",
    "        self.tc2.run()\n",
    "        self.tc3.run()\n",
    "\n",
    "# Client\n",
    "testRunner = TestRunner()\n",
    "testRunner.runall()"
   ],
   "outputs": [
    {
     "output_type": "stream",
     "name": "stdout",
     "text": [
      "-----T1-----\n",
      "Setting up...\n",
      "Running...\n",
      "Done.\n",
      "\n",
      "-----T2-----\n",
      "Setting up...\n",
      "Running...\n",
      "Done.\n",
      "\n",
      "-----T3-----\n",
      "Setting up...\n",
      "Running...\n",
      "Done.\n",
      "\n"
     ]
    }
   ],
   "metadata": {}
  },
  {
   "cell_type": "markdown",
   "source": [
    "## Creational Design Pattern\n",
    "### Factory design pattern\n",
    "Objects of different kinds are created based on the input type."
   ],
   "metadata": {}
  },
  {
   "cell_type": "code",
   "execution_count": 10,
   "source": [
    "class Person:\n",
    "    def __init__(self) -> None:\n",
    "        self.name = None\n",
    "        self.gender = None\n",
    "    \n",
    "    def getName(self):\n",
    "        return self.name\n",
    "    \n",
    "    def getGender(self):\n",
    "        return self.gender\n",
    "\n",
    "class Male(Person):\n",
    "    def __init__(self, name) -> None:\n",
    "        print(f\"Hello Mr.{name}\")\n",
    "\n",
    "class Female(Person):\n",
    "    def __init__(self, name) -> None:\n",
    "        print(f\"Hello Ms.{name}\")\n",
    "\n",
    "class Factory:\n",
    "    def getPerson(self, name, gender):\n",
    "        if gender == 'M': return Male(name)\n",
    "        elif gender == 'F': return Female(name)\n",
    "\n",
    "factory = Factory()\n",
    "person = factory.getPerson('Abc', 'M')\n",
    "person = factory.getPerson('Efg', 'F')"
   ],
   "outputs": [
    {
     "output_type": "stream",
     "name": "stdout",
     "text": [
      "Hello Mr.Abc\n",
      "Hello Ms.Efg\n"
     ]
    }
   ],
   "metadata": {}
  },
  {
   "cell_type": "code",
   "execution_count": null,
   "source": [],
   "outputs": [],
   "metadata": {}
  }
 ],
 "metadata": {
  "orig_nbformat": 4,
  "language_info": {
   "name": "python",
   "version": "3.9.5",
   "mimetype": "text/x-python",
   "codemirror_mode": {
    "name": "ipython",
    "version": 3
   },
   "pygments_lexer": "ipython3",
   "nbconvert_exporter": "python",
   "file_extension": ".py"
  },
  "kernelspec": {
   "name": "python3",
   "display_name": "Python 3.9.5 64-bit ('base': conda)"
  },
  "interpreter": {
   "hash": "95cb561d684e273be7430146e3ed2c0199570812864dc3ea408fea5378453ef7"
  }
 },
 "nbformat": 4,
 "nbformat_minor": 2
}